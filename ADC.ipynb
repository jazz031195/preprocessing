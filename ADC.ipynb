{
 "cells": [
  {
   "cell_type": "code",
   "execution_count": 1,
   "metadata": {},
   "outputs": [],
   "source": [
    "import numpy as np\n",
    "import matplotlib.pyplot as plt\n",
    "import os\n",
    "import pandas as pd\n",
    "import seaborn as sns\n",
    "import nibabel as nib\n",
    "from os import listdir\n",
    "from os.path import isfile, join\n",
    "from scipy import signal\n",
    "import sys\n",
    "\n",
    "# current path\n",
    "cur_path = os.getcwd()\n",
    "# file name and path\n",
    "file = \"BB_003_3T_cmrr_mbep2d_diff_0pt2_1_task_18s_off_12s_on_20200710180104_8\"\n",
    "file_name = cur_path + \"/\" + str(file) + \"/dfMRI_raw.nii.gz\"\n",
    "# loading nifti object/header\n",
    "raw_data_ = nib.load(file_name)\n",
    "header  = raw_data_.header\n",
    "raw_data = raw_data_.get_fdata()"
   ]
  },
  {
   "attachments": {},
   "cell_type": "markdown",
   "metadata": {},
   "source": [
    "### 1. Motion correction\n",
    "#### 1.1 Split b0 and b1 values"
   ]
  },
  {
   "cell_type": "code",
   "execution_count": 29,
   "metadata": {},
   "outputs": [],
   "source": [
    "def gzip(filename, zip):\n",
    "    \"\"\"\n",
    "    Function that zips or unzips the filename file\n",
    "    Input:\n",
    "        filename : str\n",
    "        zip : bool, true -> zip, false -> unzip\n",
    "    Ouput:\n",
    "        new_filename : str\n",
    "    \"\"\"\n",
    "    if zip == False:\n",
    "        new_filename = filename.replace('.gz', '')\n",
    "        os.system(f\"gzip -f -c -d {filename} > {new_filename}\")\n",
    "    elif zip == True:\n",
    "        os.system(f\"gzip {filename} -f\")\n",
    "        new_filename = f'{filename}.gz'\n",
    "    else:\n",
    "        new_filename = None\n",
    "        \n",
    "    return new_filename\n"
   ]
  },
  {
   "cell_type": "code",
   "execution_count": 30,
   "metadata": {},
   "outputs": [],
   "source": [
    "import nipype.interfaces.spm as spm\n",
    "import zipfile\n",
    "\n",
    "dfmri_degibbs_sdc = nib.load(f'{cur_path}/data/topup/dfmri_degibbs_sdc.nii.gz')\n",
    "dfmri_degibbs_sdc = dfmri_degibbs_sdc.get_fdata()\n",
    "for i in range(2):\n",
    "    dfmri_degibbs_sdc_b = dfmri_degibbs_sdc[...,np.arange(i, dfmri_degibbs_sdc.shape[3], 2)]\n",
    "    img_deggibs_sdc_b = nib.Nifti1Image(dfmri_degibbs_sdc_b, np.eye(4))\n",
    "    nib.save(img_deggibs_sdc_b, f'{cur_path}/data/ADC/dfmri_degibbs_sdc_b{i}.nii.gz') \n",
    "\n",
    "    gzip(f'{cur_path}/data/ADC/dfmri_degibbs_sdc_b{i}.nii.gz', zip=False)\n",
    " "
   ]
  },
  {
   "cell_type": "code",
   "execution_count": 27,
   "metadata": {},
   "outputs": [
    {
     "name": "stdout",
     "output_type": "stream",
     "text": [
      "<class 'str'>\n"
     ]
    },
    {
     "ename": "TraitError",
     "evalue": "Each element of the 'in_files' trait of a RealignInputSpec instance must be a pathlike object or string representing an existing file or a list of items which are a pathlike object or string representing an existing file, but a value of 'dfmri_degibbs_sdc_b0.nii.gz' <class 'str'> was specified.",
     "output_type": "error",
     "traceback": [
      "\u001b[0;31m---------------------------------------------------------------------------\u001b[0m",
      "\u001b[0;31mTraitError\u001b[0m                                Traceback (most recent call last)",
      "Cell \u001b[0;32mIn [27], line 3\u001b[0m\n\u001b[1;32m      1\u001b[0m realign \u001b[39m=\u001b[39m spm\u001b[39m.\u001b[39mRealign()\n\u001b[1;32m      2\u001b[0m \u001b[39mprint\u001b[39m(\u001b[39mtype\u001b[39m(\u001b[39mf\u001b[39m\u001b[39m\"\u001b[39m\u001b[39m{\u001b[39;00mcur_path\u001b[39m}\u001b[39;00m\u001b[39m/data/ADC/dfmri_degibbs_sdc_b0.nii.gz\u001b[39m\u001b[39m\"\u001b[39m))\n\u001b[0;32m----> 3\u001b[0m realign\u001b[39m.\u001b[39minputs\u001b[39m.\u001b[39min_files \u001b[39m=\u001b[39m \u001b[39m\"\u001b[39m\u001b[39mdfmri_degibbs_sdc_b0.nii.gz\u001b[39m\u001b[39m\"\u001b[39m\n\u001b[1;32m      4\u001b[0m realign\u001b[39m.\u001b[39mrun()\n",
      "File \u001b[0;32m~/miniconda3/envs/MCDS_env/lib/python3.10/site-packages/nipype/interfaces/base/traits_extension.py:425\u001b[0m, in \u001b[0;36mMultiObject.validate\u001b[0;34m(self, objekt, name, value)\u001b[0m\n\u001b[1;32m    419\u001b[0m \u001b[39mif\u001b[39;00m \u001b[39mnot\u001b[39;00m \u001b[39misinstance\u001b[39m(value, \u001b[39mlist\u001b[39m) \u001b[39mor\u001b[39;00m (\n\u001b[1;32m    420\u001b[0m     \u001b[39misinstance\u001b[39m(inner_trait\u001b[39m.\u001b[39mtrait_type, traits\u001b[39m.\u001b[39mList)\n\u001b[1;32m    421\u001b[0m     \u001b[39mand\u001b[39;00m \u001b[39mnot\u001b[39;00m \u001b[39misinstance\u001b[39m(inner_trait\u001b[39m.\u001b[39mtrait_type, InputMultiObject)\n\u001b[1;32m    422\u001b[0m     \u001b[39mand\u001b[39;00m \u001b[39mnot\u001b[39;00m \u001b[39misinstance\u001b[39m(value[\u001b[39m0\u001b[39m], \u001b[39mlist\u001b[39m)\n\u001b[1;32m    423\u001b[0m ):\n\u001b[1;32m    424\u001b[0m     newvalue \u001b[39m=\u001b[39m [value]\n\u001b[0;32m--> 425\u001b[0m value \u001b[39m=\u001b[39m \u001b[39msuper\u001b[39;49m(MultiObject, \u001b[39mself\u001b[39;49m)\u001b[39m.\u001b[39;49mvalidate(objekt, name, newvalue)\n\u001b[1;32m    427\u001b[0m \u001b[39mif\u001b[39;00m value:\n\u001b[1;32m    428\u001b[0m     \u001b[39mreturn\u001b[39;00m value\n",
      "File \u001b[0;32m~/miniconda3/envs/MCDS_env/lib/python3.10/site-packages/traits/trait_types.py:2515\u001b[0m, in \u001b[0;36mList.validate\u001b[0;34m(self, object, name, value)\u001b[0m\n\u001b[1;32m   2512\u001b[0m     \u001b[39mif\u001b[39;00m \u001b[39mobject\u001b[39m \u001b[39mis\u001b[39;00m \u001b[39mNone\u001b[39;00m:\n\u001b[1;32m   2513\u001b[0m         \u001b[39mreturn\u001b[39;00m value\n\u001b[0;32m-> 2515\u001b[0m     \u001b[39mreturn\u001b[39;00m TraitListObject(\u001b[39mself\u001b[39;49m, \u001b[39mobject\u001b[39;49m, name, value)\n\u001b[1;32m   2517\u001b[0m \u001b[39mself\u001b[39m\u001b[39m.\u001b[39merror(\u001b[39mobject\u001b[39m, name, value)\n",
      "File \u001b[0;32m~/miniconda3/envs/MCDS_env/lib/python3.10/site-packages/traits/trait_list_object.py:582\u001b[0m, in \u001b[0;36mTraitListObject.__init__\u001b[0;34m(self, trait, object, name, value)\u001b[0m\n\u001b[1;32m    579\u001b[0m value \u001b[39m=\u001b[39m \u001b[39mlist\u001b[39m(value)\n\u001b[1;32m    580\u001b[0m \u001b[39mself\u001b[39m\u001b[39m.\u001b[39m_validate_length(\u001b[39mlen\u001b[39m(value))\n\u001b[0;32m--> 582\u001b[0m \u001b[39msuper\u001b[39;49m()\u001b[39m.\u001b[39;49m\u001b[39m__init__\u001b[39;49m(\n\u001b[1;32m    583\u001b[0m     value,\n\u001b[1;32m    584\u001b[0m     item_validator\u001b[39m=\u001b[39;49m\u001b[39mself\u001b[39;49m\u001b[39m.\u001b[39;49m_item_validator,\n\u001b[1;32m    585\u001b[0m     notifiers\u001b[39m=\u001b[39;49m[\u001b[39mself\u001b[39;49m\u001b[39m.\u001b[39;49mnotifier],\n\u001b[1;32m    586\u001b[0m )\n",
      "File \u001b[0;32m~/miniconda3/envs/MCDS_env/lib/python3.10/site-packages/traits/trait_list_object.py:213\u001b[0m, in \u001b[0;36mTraitList.__init__\u001b[0;34m(self, iterable, item_validator, notifiers)\u001b[0m\n\u001b[1;32m    211\u001b[0m \u001b[39mif\u001b[39;00m item_validator \u001b[39mis\u001b[39;00m \u001b[39mnot\u001b[39;00m \u001b[39mNone\u001b[39;00m:\n\u001b[1;32m    212\u001b[0m     \u001b[39mself\u001b[39m\u001b[39m.\u001b[39mitem_validator \u001b[39m=\u001b[39m item_validator\n\u001b[0;32m--> 213\u001b[0m \u001b[39msuper\u001b[39;49m()\u001b[39m.\u001b[39;49m\u001b[39m__init__\u001b[39;49m(\u001b[39mself\u001b[39;49m\u001b[39m.\u001b[39;49mitem_validator(item) \u001b[39mfor\u001b[39;49;00m item \u001b[39min\u001b[39;49;00m iterable)\n\u001b[1;32m    214\u001b[0m \u001b[39mif\u001b[39;00m notifiers \u001b[39mis\u001b[39;00m \u001b[39mnot\u001b[39;00m \u001b[39mNone\u001b[39;00m:\n\u001b[1;32m    215\u001b[0m     \u001b[39mself\u001b[39m\u001b[39m.\u001b[39mnotifiers \u001b[39m=\u001b[39m \u001b[39mlist\u001b[39m(notifiers)\n",
      "File \u001b[0;32m~/miniconda3/envs/MCDS_env/lib/python3.10/site-packages/traits/trait_list_object.py:213\u001b[0m, in \u001b[0;36m<genexpr>\u001b[0;34m(.0)\u001b[0m\n\u001b[1;32m    211\u001b[0m \u001b[39mif\u001b[39;00m item_validator \u001b[39mis\u001b[39;00m \u001b[39mnot\u001b[39;00m \u001b[39mNone\u001b[39;00m:\n\u001b[1;32m    212\u001b[0m     \u001b[39mself\u001b[39m\u001b[39m.\u001b[39mitem_validator \u001b[39m=\u001b[39m item_validator\n\u001b[0;32m--> 213\u001b[0m \u001b[39msuper\u001b[39m()\u001b[39m.\u001b[39m\u001b[39m__init__\u001b[39m(\u001b[39mself\u001b[39;49m\u001b[39m.\u001b[39;49mitem_validator(item) \u001b[39mfor\u001b[39;00m item \u001b[39min\u001b[39;00m iterable)\n\u001b[1;32m    214\u001b[0m \u001b[39mif\u001b[39;00m notifiers \u001b[39mis\u001b[39;00m \u001b[39mnot\u001b[39;00m \u001b[39mNone\u001b[39;00m:\n\u001b[1;32m    215\u001b[0m     \u001b[39mself\u001b[39m\u001b[39m.\u001b[39mnotifiers \u001b[39m=\u001b[39m \u001b[39mlist\u001b[39m(notifiers)\n",
      "File \u001b[0;32m~/miniconda3/envs/MCDS_env/lib/python3.10/site-packages/traits/trait_list_object.py:865\u001b[0m, in \u001b[0;36mTraitListObject._item_validator\u001b[0;34m(self, value)\u001b[0m\n\u001b[1;32m    862\u001b[0m     \u001b[39mreturn\u001b[39;00m value\n\u001b[1;32m    864\u001b[0m \u001b[39mtry\u001b[39;00m:\n\u001b[0;32m--> 865\u001b[0m     \u001b[39mreturn\u001b[39;00m trait_validator(\u001b[39mobject\u001b[39;49m, \u001b[39mself\u001b[39;49m\u001b[39m.\u001b[39;49mname, value)\n\u001b[1;32m    866\u001b[0m \u001b[39mexcept\u001b[39;00m TraitError \u001b[39mas\u001b[39;00m excp:\n\u001b[1;32m    867\u001b[0m     excp\u001b[39m.\u001b[39mset_prefix(\u001b[39m\"\u001b[39m\u001b[39mEach element of the\u001b[39m\u001b[39m\"\u001b[39m)\n",
      "File \u001b[0;32m~/miniconda3/envs/MCDS_env/lib/python3.10/site-packages/traits/trait_handlers.py:873\u001b[0m, in \u001b[0;36mTraitCompound.validate\u001b[0;34m(self, object, name, value)\u001b[0m\n\u001b[1;32m    871\u001b[0m     \u001b[39mexcept\u001b[39;00m TraitError:\n\u001b[1;32m    872\u001b[0m         \u001b[39mpass\u001b[39;00m\n\u001b[0;32m--> 873\u001b[0m \u001b[39mreturn\u001b[39;00m \u001b[39mself\u001b[39;49m\u001b[39m.\u001b[39;49mslow_validate(\u001b[39mobject\u001b[39;49m, name, value)\n",
      "File \u001b[0;32m~/miniconda3/envs/MCDS_env/lib/python3.10/site-packages/traits/trait_handlers.py:881\u001b[0m, in \u001b[0;36mTraitCompound.slow_validate\u001b[0;34m(self, object, name, value)\u001b[0m\n\u001b[1;32m    879\u001b[0m     \u001b[39mexcept\u001b[39;00m TraitError:\n\u001b[1;32m    880\u001b[0m         \u001b[39mpass\u001b[39;00m\n\u001b[0;32m--> 881\u001b[0m \u001b[39mself\u001b[39;49m\u001b[39m.\u001b[39;49merror(\u001b[39mobject\u001b[39;49m, name, value)\n",
      "File \u001b[0;32m~/miniconda3/envs/MCDS_env/lib/python3.10/site-packages/traits/base_trait_handler.py:74\u001b[0m, in \u001b[0;36mBaseTraitHandler.error\u001b[0;34m(self, object, name, value)\u001b[0m\n\u001b[1;32m     57\u001b[0m \u001b[39mdef\u001b[39;00m \u001b[39merror\u001b[39m(\u001b[39mself\u001b[39m, \u001b[39mobject\u001b[39m, name, value):\n\u001b[1;32m     58\u001b[0m     \u001b[39m\"\"\"Raises a TraitError exception.\u001b[39;00m\n\u001b[1;32m     59\u001b[0m \n\u001b[1;32m     60\u001b[0m \u001b[39m    This method is called by the validate() method when an assigned value\u001b[39;00m\n\u001b[0;32m   (...)\u001b[0m\n\u001b[1;32m     72\u001b[0m \u001b[39m        The proposed new value for the attribute.\u001b[39;00m\n\u001b[1;32m     73\u001b[0m \u001b[39m    \"\"\"\u001b[39;00m\n\u001b[0;32m---> 74\u001b[0m     \u001b[39mraise\u001b[39;00m TraitError(\n\u001b[1;32m     75\u001b[0m         \u001b[39mobject\u001b[39m, name, \u001b[39mself\u001b[39m\u001b[39m.\u001b[39mfull_info(\u001b[39mobject\u001b[39m, name, value), value\n\u001b[1;32m     76\u001b[0m     )\n",
      "\u001b[0;31mTraitError\u001b[0m: Each element of the 'in_files' trait of a RealignInputSpec instance must be a pathlike object or string representing an existing file or a list of items which are a pathlike object or string representing an existing file, but a value of 'dfmri_degibbs_sdc_b0.nii.gz' <class 'str'> was specified."
     ]
    }
   ],
   "source": [
    "# Matlab is needed\n",
    "realign = spm.Realign()\n",
    "print(type(f\"{cur_path}/data/ADC/dfmri_degibbs_sdc_b0.nii.gz\"))\n",
    "realign.inputs.in_files = f\"{cur_path}/data/ADC/dfmri_degibbs_sdc_b0.nii\"\n",
    "realign.run()"
   ]
  },
  {
   "cell_type": "code",
   "execution_count": 32,
   "metadata": {},
   "outputs": [],
   "source": [
    "# Since I don't have matlab, I take Wictor's output here\n",
    "rdfMRI_sdc_b0 = nib.load('/home/localadmin/Documents/preprocessing/data/ADC/rdfMRI_denoised_unringed_sdc_b_0.nii.gz')\n",
    "rdfMRI_sdc_b0 = rdfMRI_sdc_b0.get_fdata()\n",
    "rdfMRI_sdc_b1 = nib.load('/home/localadmin/Documents/preprocessing/data/ADC/rdfMRI_denoised_unringed_sdc_b_1.nii.gz')\n",
    "rdfMRI_sdc_b1 = rdfMRI_sdc_b1.get_fdata()\n",
    "\n",
    "rdfMRI_sdc_b0_mean = np.mean(rdfMRI_sdc_b0, axis=3)\n",
    "rdfMRI_sdc_b1_mean = np.mean(rdfMRI_sdc_b1, axis=3)"
   ]
  },
  {
   "cell_type": "code",
   "execution_count": 33,
   "metadata": {},
   "outputs": [
    {
     "data": {
      "text/plain": [
       "(116, 116, 14)"
      ]
     },
     "execution_count": 33,
     "metadata": {},
     "output_type": "execute_result"
    }
   ],
   "source": []
  }
 ],
 "metadata": {
  "kernelspec": {
   "display_name": "MCDS_env",
   "language": "python",
   "name": "python3"
  },
  "language_info": {
   "codemirror_mode": {
    "name": "ipython",
    "version": 3
   },
   "file_extension": ".py",
   "mimetype": "text/x-python",
   "name": "python",
   "nbconvert_exporter": "python",
   "pygments_lexer": "ipython3",
   "version": "3.10.8"
  },
  "orig_nbformat": 4,
  "vscode": {
   "interpreter": {
    "hash": "bfdaa94f7b0658b9770747b599dafc00575612f14394d7e0e2833d02915c3415"
   }
  }
 },
 "nbformat": 4,
 "nbformat_minor": 2
}
