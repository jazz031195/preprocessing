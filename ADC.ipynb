{
 "cells": [
  {
   "cell_type": "code",
   "execution_count": 1,
   "metadata": {},
   "outputs": [],
   "source": [
    "import numpy as np\n",
    "import matplotlib.pyplot as plt\n",
    "import os\n",
    "import pandas as pd\n",
    "import seaborn as sns\n",
    "import nibabel as nib\n",
    "from os import listdir\n",
    "from os.path import isfile, join\n",
    "from scipy import signal\n",
    "import sys\n",
    "from Helpers import save_nifti\n",
    "\n",
    "# current path\n",
    "cur_path = os.getcwd()\n",
    "# file name and path\n",
    "file = \"BB_003_3T_cmrr_mbep2d_diff_0pt2_1_task_18s_off_12s_on_20200710180104_8\"\n",
    "path_ref = cur_path + \"/\" + file\n",
    "\n",
    "file_name = cur_path + \"/data/topup/dfmri_degibbs_sdc.nii.gz\"\n",
    "# loading nifti object/header\n",
    "raw_data_ = nib.load(file_name)\n",
    "header  = raw_data_.header\n",
    "affine = raw_data_.affine\n",
    "raw_data = raw_data_.get_fdata()"
   ]
  },
  {
   "cell_type": "markdown",
   "metadata": {},
   "source": [
    "### 1. Motion correction\n",
    "#### 1.1 Split b0 and b1 values"
   ]
  },
  {
   "cell_type": "code",
   "execution_count": 2,
   "metadata": {},
   "outputs": [],
   "source": [
    "def gzip(filename: str, zip: bool) -> str:\n",
    "    \"\"\"\n",
    "    Function that zips or unzips the filename file\n",
    "    Args:\n",
    "        filename (str)\n",
    "        zip (bool): true -> zip, false -> unzip\n",
    "    Returns:\n",
    "        new_filename (str)\n",
    "    \"\"\"\n",
    "    if zip == False:\n",
    "        new_filename = filename.replace('.gz', '')\n",
    "        os.system(f\"gzip -f -c -d {filename} > {new_filename}\")\n",
    "    elif zip == True:\n",
    "        os.system(f\"gzip {filename} -f\")\n",
    "        new_filename = f'{filename}.gz'\n",
    "    else:\n",
    "        new_filename = None\n",
    "        \n",
    "    return new_filename\n"
   ]
  },
  {
   "cell_type": "code",
   "execution_count": 11,
   "metadata": {},
   "outputs": [],
   "source": [
    "import nipype.interfaces.spm as spm\n",
    "import zipfile\n",
    "\n",
    "dfmri_degibbs_sdc = nib.load(f'{cur_path}/data/topup/dfmri_degibbs_sdc.nii.gz')\n",
    "dfmri_degibbs_sdc = dfmri_degibbs_sdc.get_fdata()\n",
    "\n",
    "for i in range(2):\n",
    "    dfmri_degibbs_sdc_b = dfmri_degibbs_sdc[...,np.arange(i, dfmri_degibbs_sdc.shape[3], 2)]\n",
    "    \n",
    "    save_nifti(dfmri_degibbs_sdc_b, f'{cur_path}/data/ADC/dfmri_degibbs_sdc_b{i}.nii', affine, header)"
   ]
  },
  {
   "cell_type": "markdown",
   "metadata": {},
   "source": [
    "### 1.2 Apply spm for motion correction \n",
    "#### Problem : I don't have a matlab licence"
   ]
  },
  {
   "cell_type": "code",
   "execution_count": 27,
   "metadata": {
    "scrolled": true
   },
   "outputs": [
    {
     "name": "stdout",
     "output_type": "stream",
     "text": [
      "<class 'str'>\n"
     ]
    },
    {
     "ename": "TraitError",
     "evalue": "Each element of the 'in_files' trait of a RealignInputSpec instance must be a pathlike object or string representing an existing file or a list of items which are a pathlike object or string representing an existing file, but a value of 'dfmri_degibbs_sdc_b0.nii.gz' <class 'str'> was specified.",
     "output_type": "error",
     "traceback": [
      "\u001b[0;31m---------------------------------------------------------------------------\u001b[0m",
      "\u001b[0;31mTraitError\u001b[0m                                Traceback (most recent call last)",
      "Cell \u001b[0;32mIn [27], line 3\u001b[0m\n\u001b[1;32m      1\u001b[0m realign \u001b[39m=\u001b[39m spm\u001b[39m.\u001b[39mRealign()\n\u001b[1;32m      2\u001b[0m \u001b[39mprint\u001b[39m(\u001b[39mtype\u001b[39m(\u001b[39mf\u001b[39m\u001b[39m\"\u001b[39m\u001b[39m{\u001b[39;00mcur_path\u001b[39m}\u001b[39;00m\u001b[39m/data/ADC/dfmri_degibbs_sdc_b0.nii.gz\u001b[39m\u001b[39m\"\u001b[39m))\n\u001b[0;32m----> 3\u001b[0m realign\u001b[39m.\u001b[39minputs\u001b[39m.\u001b[39min_files \u001b[39m=\u001b[39m \u001b[39m\"\u001b[39m\u001b[39mdfmri_degibbs_sdc_b0.nii.gz\u001b[39m\u001b[39m\"\u001b[39m\n\u001b[1;32m      4\u001b[0m realign\u001b[39m.\u001b[39mrun()\n",
      "File \u001b[0;32m~/miniconda3/envs/MCDS_env/lib/python3.10/site-packages/nipype/interfaces/base/traits_extension.py:425\u001b[0m, in \u001b[0;36mMultiObject.validate\u001b[0;34m(self, objekt, name, value)\u001b[0m\n\u001b[1;32m    419\u001b[0m \u001b[39mif\u001b[39;00m \u001b[39mnot\u001b[39;00m \u001b[39misinstance\u001b[39m(value, \u001b[39mlist\u001b[39m) \u001b[39mor\u001b[39;00m (\n\u001b[1;32m    420\u001b[0m     \u001b[39misinstance\u001b[39m(inner_trait\u001b[39m.\u001b[39mtrait_type, traits\u001b[39m.\u001b[39mList)\n\u001b[1;32m    421\u001b[0m     \u001b[39mand\u001b[39;00m \u001b[39mnot\u001b[39;00m \u001b[39misinstance\u001b[39m(inner_trait\u001b[39m.\u001b[39mtrait_type, InputMultiObject)\n\u001b[1;32m    422\u001b[0m     \u001b[39mand\u001b[39;00m \u001b[39mnot\u001b[39;00m \u001b[39misinstance\u001b[39m(value[\u001b[39m0\u001b[39m], \u001b[39mlist\u001b[39m)\n\u001b[1;32m    423\u001b[0m ):\n\u001b[1;32m    424\u001b[0m     newvalue \u001b[39m=\u001b[39m [value]\n\u001b[0;32m--> 425\u001b[0m value \u001b[39m=\u001b[39m \u001b[39msuper\u001b[39;49m(MultiObject, \u001b[39mself\u001b[39;49m)\u001b[39m.\u001b[39;49mvalidate(objekt, name, newvalue)\n\u001b[1;32m    427\u001b[0m \u001b[39mif\u001b[39;00m value:\n\u001b[1;32m    428\u001b[0m     \u001b[39mreturn\u001b[39;00m value\n",
      "File \u001b[0;32m~/miniconda3/envs/MCDS_env/lib/python3.10/site-packages/traits/trait_types.py:2515\u001b[0m, in \u001b[0;36mList.validate\u001b[0;34m(self, object, name, value)\u001b[0m\n\u001b[1;32m   2512\u001b[0m     \u001b[39mif\u001b[39;00m \u001b[39mobject\u001b[39m \u001b[39mis\u001b[39;00m \u001b[39mNone\u001b[39;00m:\n\u001b[1;32m   2513\u001b[0m         \u001b[39mreturn\u001b[39;00m value\n\u001b[0;32m-> 2515\u001b[0m     \u001b[39mreturn\u001b[39;00m TraitListObject(\u001b[39mself\u001b[39;49m, \u001b[39mobject\u001b[39;49m, name, value)\n\u001b[1;32m   2517\u001b[0m \u001b[39mself\u001b[39m\u001b[39m.\u001b[39merror(\u001b[39mobject\u001b[39m, name, value)\n",
      "File \u001b[0;32m~/miniconda3/envs/MCDS_env/lib/python3.10/site-packages/traits/trait_list_object.py:582\u001b[0m, in \u001b[0;36mTraitListObject.__init__\u001b[0;34m(self, trait, object, name, value)\u001b[0m\n\u001b[1;32m    579\u001b[0m value \u001b[39m=\u001b[39m \u001b[39mlist\u001b[39m(value)\n\u001b[1;32m    580\u001b[0m \u001b[39mself\u001b[39m\u001b[39m.\u001b[39m_validate_length(\u001b[39mlen\u001b[39m(value))\n\u001b[0;32m--> 582\u001b[0m \u001b[39msuper\u001b[39;49m()\u001b[39m.\u001b[39;49m\u001b[39m__init__\u001b[39;49m(\n\u001b[1;32m    583\u001b[0m     value,\n\u001b[1;32m    584\u001b[0m     item_validator\u001b[39m=\u001b[39;49m\u001b[39mself\u001b[39;49m\u001b[39m.\u001b[39;49m_item_validator,\n\u001b[1;32m    585\u001b[0m     notifiers\u001b[39m=\u001b[39;49m[\u001b[39mself\u001b[39;49m\u001b[39m.\u001b[39;49mnotifier],\n\u001b[1;32m    586\u001b[0m )\n",
      "File \u001b[0;32m~/miniconda3/envs/MCDS_env/lib/python3.10/site-packages/traits/trait_list_object.py:213\u001b[0m, in \u001b[0;36mTraitList.__init__\u001b[0;34m(self, iterable, item_validator, notifiers)\u001b[0m\n\u001b[1;32m    211\u001b[0m \u001b[39mif\u001b[39;00m item_validator \u001b[39mis\u001b[39;00m \u001b[39mnot\u001b[39;00m \u001b[39mNone\u001b[39;00m:\n\u001b[1;32m    212\u001b[0m     \u001b[39mself\u001b[39m\u001b[39m.\u001b[39mitem_validator \u001b[39m=\u001b[39m item_validator\n\u001b[0;32m--> 213\u001b[0m \u001b[39msuper\u001b[39;49m()\u001b[39m.\u001b[39;49m\u001b[39m__init__\u001b[39;49m(\u001b[39mself\u001b[39;49m\u001b[39m.\u001b[39;49mitem_validator(item) \u001b[39mfor\u001b[39;49;00m item \u001b[39min\u001b[39;49;00m iterable)\n\u001b[1;32m    214\u001b[0m \u001b[39mif\u001b[39;00m notifiers \u001b[39mis\u001b[39;00m \u001b[39mnot\u001b[39;00m \u001b[39mNone\u001b[39;00m:\n\u001b[1;32m    215\u001b[0m     \u001b[39mself\u001b[39m\u001b[39m.\u001b[39mnotifiers \u001b[39m=\u001b[39m \u001b[39mlist\u001b[39m(notifiers)\n",
      "File \u001b[0;32m~/miniconda3/envs/MCDS_env/lib/python3.10/site-packages/traits/trait_list_object.py:213\u001b[0m, in \u001b[0;36m<genexpr>\u001b[0;34m(.0)\u001b[0m\n\u001b[1;32m    211\u001b[0m \u001b[39mif\u001b[39;00m item_validator \u001b[39mis\u001b[39;00m \u001b[39mnot\u001b[39;00m \u001b[39mNone\u001b[39;00m:\n\u001b[1;32m    212\u001b[0m     \u001b[39mself\u001b[39m\u001b[39m.\u001b[39mitem_validator \u001b[39m=\u001b[39m item_validator\n\u001b[0;32m--> 213\u001b[0m \u001b[39msuper\u001b[39m()\u001b[39m.\u001b[39m\u001b[39m__init__\u001b[39m(\u001b[39mself\u001b[39;49m\u001b[39m.\u001b[39;49mitem_validator(item) \u001b[39mfor\u001b[39;00m item \u001b[39min\u001b[39;00m iterable)\n\u001b[1;32m    214\u001b[0m \u001b[39mif\u001b[39;00m notifiers \u001b[39mis\u001b[39;00m \u001b[39mnot\u001b[39;00m \u001b[39mNone\u001b[39;00m:\n\u001b[1;32m    215\u001b[0m     \u001b[39mself\u001b[39m\u001b[39m.\u001b[39mnotifiers \u001b[39m=\u001b[39m \u001b[39mlist\u001b[39m(notifiers)\n",
      "File \u001b[0;32m~/miniconda3/envs/MCDS_env/lib/python3.10/site-packages/traits/trait_list_object.py:865\u001b[0m, in \u001b[0;36mTraitListObject._item_validator\u001b[0;34m(self, value)\u001b[0m\n\u001b[1;32m    862\u001b[0m     \u001b[39mreturn\u001b[39;00m value\n\u001b[1;32m    864\u001b[0m \u001b[39mtry\u001b[39;00m:\n\u001b[0;32m--> 865\u001b[0m     \u001b[39mreturn\u001b[39;00m trait_validator(\u001b[39mobject\u001b[39;49m, \u001b[39mself\u001b[39;49m\u001b[39m.\u001b[39;49mname, value)\n\u001b[1;32m    866\u001b[0m \u001b[39mexcept\u001b[39;00m TraitError \u001b[39mas\u001b[39;00m excp:\n\u001b[1;32m    867\u001b[0m     excp\u001b[39m.\u001b[39mset_prefix(\u001b[39m\"\u001b[39m\u001b[39mEach element of the\u001b[39m\u001b[39m\"\u001b[39m)\n",
      "File \u001b[0;32m~/miniconda3/envs/MCDS_env/lib/python3.10/site-packages/traits/trait_handlers.py:873\u001b[0m, in \u001b[0;36mTraitCompound.validate\u001b[0;34m(self, object, name, value)\u001b[0m\n\u001b[1;32m    871\u001b[0m     \u001b[39mexcept\u001b[39;00m TraitError:\n\u001b[1;32m    872\u001b[0m         \u001b[39mpass\u001b[39;00m\n\u001b[0;32m--> 873\u001b[0m \u001b[39mreturn\u001b[39;00m \u001b[39mself\u001b[39;49m\u001b[39m.\u001b[39;49mslow_validate(\u001b[39mobject\u001b[39;49m, name, value)\n",
      "File \u001b[0;32m~/miniconda3/envs/MCDS_env/lib/python3.10/site-packages/traits/trait_handlers.py:881\u001b[0m, in \u001b[0;36mTraitCompound.slow_validate\u001b[0;34m(self, object, name, value)\u001b[0m\n\u001b[1;32m    879\u001b[0m     \u001b[39mexcept\u001b[39;00m TraitError:\n\u001b[1;32m    880\u001b[0m         \u001b[39mpass\u001b[39;00m\n\u001b[0;32m--> 881\u001b[0m \u001b[39mself\u001b[39;49m\u001b[39m.\u001b[39;49merror(\u001b[39mobject\u001b[39;49m, name, value)\n",
      "File \u001b[0;32m~/miniconda3/envs/MCDS_env/lib/python3.10/site-packages/traits/base_trait_handler.py:74\u001b[0m, in \u001b[0;36mBaseTraitHandler.error\u001b[0;34m(self, object, name, value)\u001b[0m\n\u001b[1;32m     57\u001b[0m \u001b[39mdef\u001b[39;00m \u001b[39merror\u001b[39m(\u001b[39mself\u001b[39m, \u001b[39mobject\u001b[39m, name, value):\n\u001b[1;32m     58\u001b[0m     \u001b[39m\"\"\"Raises a TraitError exception.\u001b[39;00m\n\u001b[1;32m     59\u001b[0m \n\u001b[1;32m     60\u001b[0m \u001b[39m    This method is called by the validate() method when an assigned value\u001b[39;00m\n\u001b[0;32m   (...)\u001b[0m\n\u001b[1;32m     72\u001b[0m \u001b[39m        The proposed new value for the attribute.\u001b[39;00m\n\u001b[1;32m     73\u001b[0m \u001b[39m    \"\"\"\u001b[39;00m\n\u001b[0;32m---> 74\u001b[0m     \u001b[39mraise\u001b[39;00m TraitError(\n\u001b[1;32m     75\u001b[0m         \u001b[39mobject\u001b[39m, name, \u001b[39mself\u001b[39m\u001b[39m.\u001b[39mfull_info(\u001b[39mobject\u001b[39m, name, value), value\n\u001b[1;32m     76\u001b[0m     )\n",
      "\u001b[0;31mTraitError\u001b[0m: Each element of the 'in_files' trait of a RealignInputSpec instance must be a pathlike object or string representing an existing file or a list of items which are a pathlike object or string representing an existing file, but a value of 'dfmri_degibbs_sdc_b0.nii.gz' <class 'str'> was specified."
     ]
    }
   ],
   "source": [
    "# Matlab is needed\n",
    "realign = spm.Realign()\n",
    "print(type(f\"{cur_path}/data/ADC/dfmri_degibbs_sdc_b0.nii.gz\"))\n",
    "realign.inputs.in_files = f\"{cur_path}/data/ADC/dfmri_degibbs_sdc_b0.nii\"\n",
    "realign.run()"
   ]
  },
  {
   "cell_type": "code",
   "execution_count": 12,
   "metadata": {},
   "outputs": [],
   "source": [
    "# Test fsl mcFlirt instead\n",
    "# Output_name : input_name_mcf\n",
    "for i in range(2):\n",
    "    os.system(f'mcflirt -in {cur_path}/data/ADC/dfmri_degibbs_sdc_b{i}')\n"
   ]
  },
  {
   "cell_type": "markdown",
   "metadata": {},
   "source": [
    "### 1.3 Take the output from Wictor \"rdfMRI_denoised_unringed_sdc_b_{i}.nii.gz\" to do the ANTS rigid registration"
   ]
  },
  {
   "cell_type": "code",
   "execution_count": 14,
   "metadata": {},
   "outputs": [],
   "source": [
    "# Since I don't have matlab, I take Wictor's output here. \n",
    "# Problem : rdfMRI_denoised_unringed_sdc_b_1 was overwritten in his pipeline\n",
    "for i in range(2):\n",
    "    rdfMRI_sdc_b = nib.load(f'{cur_path}/data/ADC/dfmri_degibbs_sdc_b{i}_mcf.nii.gz')\n",
    "    affine_b = rdfMRI_sdc_b.affine\n",
    "    header_b = rdfMRI_sdc_b.header\n",
    "    rdfMRI_sdc_b = rdfMRI_sdc_b.get_fdata()\n",
    "\n",
    "    rdfMRI_sdc_b_mean = np.mean(rdfMRI_sdc_b, axis=3)\n",
    "    \n",
    "    save_nifti(rdfMRI_sdc_b_mean, f'{cur_path}/data/ADC/rdfMRI_denoised_unringed_sdc_b_{i}_mean.nii.gz',\n",
    "              affine_b, header_b) "
   ]
  },
  {
   "cell_type": "code",
   "execution_count": 21,
   "metadata": {},
   "outputs": [
    {
     "name": "stdout",
     "output_type": "stream",
     "text": [
      "0 \n",
      "The rdfMRI_denoised_unringed_sdc 0  ok\n",
      "1 _mean\n"
     ]
    },
    {
     "ename": "AssertionError",
     "evalue": "The rdfMRI_denoised_unringed_sdc 1 _mean differs",
     "output_type": "error",
     "traceback": [
      "\u001b[0;31m---------------------------------------------------------------------------\u001b[0m",
      "\u001b[0;31mAssertionError\u001b[0m                            Traceback (most recent call last)",
      "Cell \u001b[0;32mIn [21], line 10\u001b[0m\n\u001b[1;32m      8\u001b[0m test \u001b[39m=\u001b[39m nib\u001b[39m.\u001b[39mload(\u001b[39mf\u001b[39m\u001b[39m'\u001b[39m\u001b[39m{\u001b[39;00mcur_path\u001b[39m}\u001b[39;00m\u001b[39m/data/ADC/rdfMRI_denoised_unringed_sdc_b_\u001b[39m\u001b[39m{\u001b[39;00mi\u001b[39m%\u001b[39m\u001b[39m2\u001b[39m\u001b[39m}\u001b[39;00m\u001b[39m{\u001b[39;00msuffix[i\u001b[39m%\u001b[39m\u001b[39m2\u001b[39m]\u001b[39m}\u001b[39;00m\u001b[39m.nii.gz\u001b[39m\u001b[39m'\u001b[39m)\n\u001b[1;32m      9\u001b[0m test \u001b[39m=\u001b[39m test\u001b[39m.\u001b[39mget_fdata()\n\u001b[0;32m---> 10\u001b[0m \u001b[39massert\u001b[39;00m np\u001b[39m.\u001b[39marray_equal(test, ref, equal_nan\u001b[39m=\u001b[39m\u001b[39mTrue\u001b[39;00m), \u001b[39mf\u001b[39m\u001b[39m\"\u001b[39m\u001b[39mThe rdfMRI_denoised_unringed_sdc \u001b[39m\u001b[39m{\u001b[39;00mi\u001b[39m%\u001b[39m\u001b[39m2\u001b[39m\u001b[39m}\u001b[39;00m\u001b[39m \u001b[39m\u001b[39m{\u001b[39;00msuffix[i\u001b[39m%\u001b[39m\u001b[39m2\u001b[39m]\u001b[39m}\u001b[39;00m\u001b[39m differs\u001b[39m\u001b[39m\"\u001b[39m\n\u001b[1;32m     11\u001b[0m \u001b[39mprint\u001b[39m(\u001b[39mf\u001b[39m\u001b[39m\"\u001b[39m\u001b[39mThe rdfMRI_denoised_unringed_sdc \u001b[39m\u001b[39m{\u001b[39;00mi\u001b[39m%\u001b[39m\u001b[39m2\u001b[39m\u001b[39m}\u001b[39;00m\u001b[39m \u001b[39m\u001b[39m{\u001b[39;00msuffix[i\u001b[39m%\u001b[39m\u001b[39m2\u001b[39m]\u001b[39m}\u001b[39;00m\u001b[39m ok\u001b[39m\u001b[39m\"\u001b[39m)\n",
      "\u001b[0;31mAssertionError\u001b[0m: The rdfMRI_denoised_unringed_sdc 1 _mean differs"
     ]
    }
   ],
   "source": [
    "# # Check that the inputs are the same\n",
    "# suffix = ['','_mean']\n",
    "# for i in range(4):\n",
    "#     print(i%2, suffix[i%2])\n",
    "#     ref = nib.load(f'{cur_path}/data/ADC/rdfMRI_denoised_unringed_sdc_b_{i%2}{suffix[i%2]}_ref.nii.gz')\n",
    "#     ref = ref.get_fdata()\n",
    "\n",
    "#     test = nib.load(f'{cur_path}/data/ADC/rdfMRI_denoised_unringed_sdc_b_{i%2}{suffix[i%2]}.nii.gz')\n",
    "#     test = test.get_fdata()\n",
    "#     assert np.array_equal(test, ref, equal_nan=True), f\"The rdfMRI_denoised_unringed_sdc {i%2} {suffix[i%2]} differs\"\n",
    "#     print(f\"The rdfMRI_denoised_unringed_sdc {i%2} {suffix[i%2]} ok\")"
   ]
  },
  {
   "cell_type": "markdown",
   "metadata": {},
   "source": [
    "### 1.4 Ants rigid registration, fixed image = rdfMRI_denoised_unringed_sdc_b_0_mean"
   ]
  },
  {
   "cell_type": "code",
   "execution_count": 15,
   "metadata": {},
   "outputs": [
    {
     "data": {
      "text/plain": [
       "0"
      ]
     },
     "execution_count": 15,
     "metadata": {},
     "output_type": "execute_result"
    }
   ],
   "source": [
    "# output : name of the 00GenericAffine.mat, warped image\n",
    "os.system('antsRegistration --dimensionality 3 --float 0 '\n",
    "        f' --output [{cur_path}/data/ADC/rdfMRI_denoised_unringed_sdc_b_1_mean_in_0, {cur_path}/data/ADC/rdfMRI_denoised_unringed_sdc_b_1_mean_in_0.nii.gz] '\n",
    "        ' --interpolation Linear '\n",
    "        ' --winsorize-image-intensities [0.01,0.99] ' \n",
    "        ' --use-histogram-matching 0 '\n",
    "        ' --transform Rigid[0.0001] ' \n",
    "        f' --metric MI[{cur_path}/data/ADC/rdfMRI_denoised_unringed_sdc_b_0_mean.nii.gz, {cur_path}/data/ADC/rdfMRI_denoised_unringed_sdc_b_1_mean.nii.gz,1,32,Regular,0.25] '\n",
    "        ' --convergence [10000x10000x10000x10000,1e-6,10] '\n",
    "        ' --shrink-factors 4x4x2x1 ' \n",
    "        ' --smoothing-sigmas 2x2x1x0vox')"
   ]
  },
  {
   "cell_type": "markdown",
   "metadata": {},
   "source": [
    "### 1.5 Apply the transform to rdfMRI_denoised_unringed_sdc_b_1"
   ]
  },
  {
   "cell_type": "code",
   "execution_count": 16,
   "metadata": {},
   "outputs": [
    {
     "name": "stdout",
     "output_type": "stream",
     "text": [
      "Using double precision for computations.\n",
      "Input time-series image: /home/localadmin/Documents/preprocessing/data/ADC/rdfMRI_denoised_unringed_sdc_b_1.nii.gz\n",
      "Reference image: /home/localadmin/Documents/preprocessing/data/ADC/rdfMRI_denoised_unringed_sdc_b_0_mean.nii.gz\n",
      "=============================================================================\n",
      "The composite transform comprises the following transforms (in order): \n",
      "  1. /home/localadmin/Documents/preprocessing/data/ADC/rdfMRI_denoised_unringed_sdc_b_1_mean_in_00GenericAffine.mat (type = AffineTransform)\n",
      "=============================================================================\n",
      "Default pixel value: 0\n",
      "Interpolation type: LinearInterpolateImageFunction\n",
      "  Applying transform(s) to timePoint/channel/dimension5 0 (out of 300).\n",
      "  Applying transform(s) to timePoint/channel/dimension5 1 (out of 300).\n",
      "  Applying transform(s) to timePoint/channel/dimension5 2 (out of 300).\n",
      "  Applying transform(s) to timePoint/channel/dimension5 3 (out of 300).\n",
      "  Applying transform(s) to timePoint/channel/dimension5 4 (out of 300).\n",
      "  Applying transform(s) to timePoint/channel/dimension5 5 (out of 300).\n",
      "  Applying transform(s) to timePoint/channel/dimension5 6 (out of 300).\n",
      "  Applying transform(s) to timePoint/channel/dimension5 7 (out of 300).\n",
      "  Applying transform(s) to timePoint/channel/dimension5 8 (out of 300).\n",
      "  Applying transform(s) to timePoint/channel/dimension5 9 (out of 300).\n",
      "  Applying transform(s) to timePoint/channel/dimension5 10 (out of 300).\n",
      "  Applying transform(s) to timePoint/channel/dimension5 11 (out of 300).\n",
      "  Applying transform(s) to timePoint/channel/dimension5 12 (out of 300).\n",
      "  Applying transform(s) to timePoint/channel/dimension5 13 (out of 300).\n",
      "  Applying transform(s) to timePoint/channel/dimension5 14 (out of 300).\n",
      "  Applying transform(s) to timePoint/channel/dimension5 15 (out of 300).\n",
      "  Applying transform(s) to timePoint/channel/dimension5 16 (out of 300).\n",
      "  Applying transform(s) to timePoint/channel/dimension5 17 (out of 300).\n",
      "  Applying transform(s) to timePoint/channel/dimension5 18 (out of 300).\n",
      "  Applying transform(s) to timePoint/channel/dimension5 19 (out of 300).\n",
      "  Applying transform(s) to timePoint/channel/dimension5 20 (out of 300).\n",
      "  Applying transform(s) to timePoint/channel/dimension5 21 (out of 300).\n",
      "  Applying transform(s) to timePoint/channel/dimension5 22 (out of 300).\n",
      "  Applying transform(s) to timePoint/channel/dimension5 23 (out of 300).\n",
      "  Applying transform(s) to timePoint/channel/dimension5 24 (out of 300).\n",
      "  Applying transform(s) to timePoint/channel/dimension5 25 (out of 300).\n",
      "  Applying transform(s) to timePoint/channel/dimension5 26 (out of 300).\n",
      "  Applying transform(s) to timePoint/channel/dimension5 27 (out of 300).\n",
      "  Applying transform(s) to timePoint/channel/dimension5 28 (out of 300).\n",
      "  Applying transform(s) to timePoint/channel/dimension5 29 (out of 300).\n",
      "  Applying transform(s) to timePoint/channel/dimension5 30 (out of 300).\n",
      "  Applying transform(s) to timePoint/channel/dimension5 31 (out of 300).\n",
      "  Applying transform(s) to timePoint/channel/dimension5 32 (out of 300).\n",
      "  Applying transform(s) to timePoint/channel/dimension5 33 (out of 300).\n",
      "  Applying transform(s) to timePoint/channel/dimension5 34 (out of 300).\n",
      "  Applying transform(s) to timePoint/channel/dimension5 35 (out of 300).\n",
      "  Applying transform(s) to timePoint/channel/dimension5 36 (out of 300).\n",
      "  Applying transform(s) to timePoint/channel/dimension5 37 (out of 300).\n",
      "  Applying transform(s) to timePoint/channel/dimension5 38 (out of 300).\n",
      "  Applying transform(s) to timePoint/channel/dimension5 39 (out of 300).\n",
      "  Applying transform(s) to timePoint/channel/dimension5 40 (out of 300).\n",
      "  Applying transform(s) to timePoint/channel/dimension5 41 (out of 300).\n",
      "  Applying transform(s) to timePoint/channel/dimension5 42 (out of 300).\n",
      "  Applying transform(s) to timePoint/channel/dimension5 43 (out of 300).\n",
      "  Applying transform(s) to timePoint/channel/dimension5 44 (out of 300).\n",
      "  Applying transform(s) to timePoint/channel/dimension5 45 (out of 300).\n",
      "  Applying transform(s) to timePoint/channel/dimension5 46 (out of 300).\n",
      "  Applying transform(s) to timePoint/channel/dimension5 47 (out of 300).\n",
      "  Applying transform(s) to timePoint/channel/dimension5 48 (out of 300).\n",
      "  Applying transform(s) to timePoint/channel/dimension5 49 (out of 300).\n",
      "  Applying transform(s) to timePoint/channel/dimension5 50 (out of 300).\n",
      "  Applying transform(s) to timePoint/channel/dimension5 51 (out of 300).\n",
      "  Applying transform(s) to timePoint/channel/dimension5 52 (out of 300).\n",
      "  Applying transform(s) to timePoint/channel/dimension5 53 (out of 300).\n",
      "  Applying transform(s) to timePoint/channel/dimension5 54 (out of 300).\n",
      "  Applying transform(s) to timePoint/channel/dimension5 55 (out of 300).\n",
      "  Applying transform(s) to timePoint/channel/dimension5 56 (out of 300).\n",
      "  Applying transform(s) to timePoint/channel/dimension5 57 (out of 300).\n",
      "  Applying transform(s) to timePoint/channel/dimension5 58 (out of 300).\n",
      "  Applying transform(s) to timePoint/channel/dimension5 59 (out of 300).\n",
      "  Applying transform(s) to timePoint/channel/dimension5 60 (out of 300).\n",
      "  Applying transform(s) to timePoint/channel/dimension5 61 (out of 300).\n",
      "  Applying transform(s) to timePoint/channel/dimension5 62 (out of 300).\n",
      "  Applying transform(s) to timePoint/channel/dimension5 63 (out of 300).\n",
      "  Applying transform(s) to timePoint/channel/dimension5 64 (out of 300).\n",
      "  Applying transform(s) to timePoint/channel/dimension5 65 (out of 300).\n",
      "  Applying transform(s) to timePoint/channel/dimension5 66 (out of 300).\n",
      "  Applying transform(s) to timePoint/channel/dimension5 67 (out of 300).\n",
      "  Applying transform(s) to timePoint/channel/dimension5 68 (out of 300).\n",
      "  Applying transform(s) to timePoint/channel/dimension5 69 (out of 300).\n",
      "  Applying transform(s) to timePoint/channel/dimension5 70 (out of 300).\n",
      "  Applying transform(s) to timePoint/channel/dimension5 71 (out of 300).\n",
      "  Applying transform(s) to timePoint/channel/dimension5 72 (out of 300).\n",
      "  Applying transform(s) to timePoint/channel/dimension5 73 (out of 300).\n",
      "  Applying transform(s) to timePoint/channel/dimension5 74 (out of 300).\n",
      "  Applying transform(s) to timePoint/channel/dimension5 75 (out of 300).\n",
      "  Applying transform(s) to timePoint/channel/dimension5 76 (out of 300).\n",
      "  Applying transform(s) to timePoint/channel/dimension5 77 (out of 300).\n",
      "  Applying transform(s) to timePoint/channel/dimension5 78 (out of 300).\n",
      "  Applying transform(s) to timePoint/channel/dimension5 79 (out of 300).\n",
      "  Applying transform(s) to timePoint/channel/dimension5 80 (out of 300).\n",
      "  Applying transform(s) to timePoint/channel/dimension5 81 (out of 300).\n",
      "  Applying transform(s) to timePoint/channel/dimension5 82 (out of 300).\n",
      "  Applying transform(s) to timePoint/channel/dimension5 83 (out of 300).\n",
      "  Applying transform(s) to timePoint/channel/dimension5 84 (out of 300).\n",
      "  Applying transform(s) to timePoint/channel/dimension5 85 (out of 300).\n",
      "  Applying transform(s) to timePoint/channel/dimension5 86 (out of 300).\n",
      "  Applying transform(s) to timePoint/channel/dimension5 87 (out of 300).\n",
      "  Applying transform(s) to timePoint/channel/dimension5 88 (out of 300).\n",
      "  Applying transform(s) to timePoint/channel/dimension5 89 (out of 300).\n",
      "  Applying transform(s) to timePoint/channel/dimension5 90 (out of 300).\n",
      "  Applying transform(s) to timePoint/channel/dimension5 91 (out of 300).\n",
      "  Applying transform(s) to timePoint/channel/dimension5 92 (out of 300).\n",
      "  Applying transform(s) to timePoint/channel/dimension5 93 (out of 300).\n",
      "  Applying transform(s) to timePoint/channel/dimension5 94 (out of 300).\n",
      "  Applying transform(s) to timePoint/channel/dimension5 95 (out of 300).\n",
      "  Applying transform(s) to timePoint/channel/dimension5 96 (out of 300).\n",
      "  Applying transform(s) to timePoint/channel/dimension5 97 (out of 300).\n",
      "  Applying transform(s) to timePoint/channel/dimension5 98 (out of 300).\n",
      "  Applying transform(s) to timePoint/channel/dimension5 99 (out of 300).\n",
      "  Applying transform(s) to timePoint/channel/dimension5 100 (out of 300).\n",
      "  Applying transform(s) to timePoint/channel/dimension5 101 (out of 300).\n",
      "  Applying transform(s) to timePoint/channel/dimension5 102 (out of 300).\n",
      "  Applying transform(s) to timePoint/channel/dimension5 103 (out of 300).\n",
      "  Applying transform(s) to timePoint/channel/dimension5 104 (out of 300).\n",
      "  Applying transform(s) to timePoint/channel/dimension5 105 (out of 300).\n",
      "  Applying transform(s) to timePoint/channel/dimension5 106 (out of 300).\n",
      "  Applying transform(s) to timePoint/channel/dimension5 107 (out of 300).\n",
      "  Applying transform(s) to timePoint/channel/dimension5 108 (out of 300).\n",
      "  Applying transform(s) to timePoint/channel/dimension5 109 (out of 300).\n",
      "  Applying transform(s) to timePoint/channel/dimension5 110 (out of 300).\n",
      "  Applying transform(s) to timePoint/channel/dimension5 111 (out of 300).\n",
      "  Applying transform(s) to timePoint/channel/dimension5 112 (out of 300).\n",
      "  Applying transform(s) to timePoint/channel/dimension5 113 (out of 300).\n",
      "  Applying transform(s) to timePoint/channel/dimension5 114 (out of 300).\n",
      "  Applying transform(s) to timePoint/channel/dimension5 115 (out of 300).\n",
      "  Applying transform(s) to timePoint/channel/dimension5 116 (out of 300).\n",
      "  Applying transform(s) to timePoint/channel/dimension5 117 (out of 300).\n",
      "  Applying transform(s) to timePoint/channel/dimension5 118 (out of 300).\n",
      "  Applying transform(s) to timePoint/channel/dimension5 119 (out of 300).\n",
      "  Applying transform(s) to timePoint/channel/dimension5 120 (out of 300).\n",
      "  Applying transform(s) to timePoint/channel/dimension5 121 (out of 300).\n",
      "  Applying transform(s) to timePoint/channel/dimension5 122 (out of 300).\n",
      "  Applying transform(s) to timePoint/channel/dimension5 123 (out of 300).\n",
      "  Applying transform(s) to timePoint/channel/dimension5 124 (out of 300).\n",
      "  Applying transform(s) to timePoint/channel/dimension5 125 (out of 300).\n",
      "  Applying transform(s) to timePoint/channel/dimension5 126 (out of 300).\n",
      "  Applying transform(s) to timePoint/channel/dimension5 127 (out of 300).\n",
      "  Applying transform(s) to timePoint/channel/dimension5 128 (out of 300).\n",
      "  Applying transform(s) to timePoint/channel/dimension5 129 (out of 300).\n",
      "  Applying transform(s) to timePoint/channel/dimension5 130 (out of 300).\n",
      "  Applying transform(s) to timePoint/channel/dimension5 131 (out of 300).\n",
      "  Applying transform(s) to timePoint/channel/dimension5 132 (out of 300).\n",
      "  Applying transform(s) to timePoint/channel/dimension5 133 (out of 300).\n",
      "  Applying transform(s) to timePoint/channel/dimension5 134 (out of 300).\n",
      "  Applying transform(s) to timePoint/channel/dimension5 135 (out of 300).\n",
      "  Applying transform(s) to timePoint/channel/dimension5 136 (out of 300).\n",
      "  Applying transform(s) to timePoint/channel/dimension5 137 (out of 300).\n",
      "  Applying transform(s) to timePoint/channel/dimension5 138 (out of 300).\n",
      "  Applying transform(s) to timePoint/channel/dimension5 139 (out of 300).\n",
      "  Applying transform(s) to timePoint/channel/dimension5 140 (out of 300).\n",
      "  Applying transform(s) to timePoint/channel/dimension5 141 (out of 300).\n",
      "  Applying transform(s) to timePoint/channel/dimension5 142 (out of 300).\n",
      "  Applying transform(s) to timePoint/channel/dimension5 143 (out of 300).\n",
      "  Applying transform(s) to timePoint/channel/dimension5 144 (out of 300).\n",
      "  Applying transform(s) to timePoint/channel/dimension5 145 (out of 300).\n",
      "  Applying transform(s) to timePoint/channel/dimension5 146 (out of 300).\n",
      "  Applying transform(s) to timePoint/channel/dimension5 147 (out of 300).\n",
      "  Applying transform(s) to timePoint/channel/dimension5 148 (out of 300).\n",
      "  Applying transform(s) to timePoint/channel/dimension5 149 (out of 300).\n",
      "  Applying transform(s) to timePoint/channel/dimension5 150 (out of 300).\n",
      "  Applying transform(s) to timePoint/channel/dimension5 151 (out of 300).\n",
      "  Applying transform(s) to timePoint/channel/dimension5 152 (out of 300).\n",
      "  Applying transform(s) to timePoint/channel/dimension5 153 (out of 300).\n",
      "  Applying transform(s) to timePoint/channel/dimension5 154 (out of 300).\n",
      "  Applying transform(s) to timePoint/channel/dimension5 155 (out of 300).\n",
      "  Applying transform(s) to timePoint/channel/dimension5 156 (out of 300).\n",
      "  Applying transform(s) to timePoint/channel/dimension5 157 (out of 300).\n",
      "  Applying transform(s) to timePoint/channel/dimension5 158 (out of 300).\n",
      "  Applying transform(s) to timePoint/channel/dimension5 159 (out of 300).\n",
      "  Applying transform(s) to timePoint/channel/dimension5 160 (out of 300).\n",
      "  Applying transform(s) to timePoint/channel/dimension5 161 (out of 300).\n",
      "  Applying transform(s) to timePoint/channel/dimension5 162 (out of 300).\n",
      "  Applying transform(s) to timePoint/channel/dimension5 163 (out of 300).\n",
      "  Applying transform(s) to timePoint/channel/dimension5 164 (out of 300).\n",
      "  Applying transform(s) to timePoint/channel/dimension5 165 (out of 300).\n",
      "  Applying transform(s) to timePoint/channel/dimension5 166 (out of 300).\n",
      "  Applying transform(s) to timePoint/channel/dimension5 167 (out of 300).\n",
      "  Applying transform(s) to timePoint/channel/dimension5 168 (out of 300).\n",
      "  Applying transform(s) to timePoint/channel/dimension5 169 (out of 300).\n",
      "  Applying transform(s) to timePoint/channel/dimension5 170 (out of 300).\n",
      "  Applying transform(s) to timePoint/channel/dimension5 171 (out of 300).\n",
      "  Applying transform(s) to timePoint/channel/dimension5 172 (out of 300).\n",
      "  Applying transform(s) to timePoint/channel/dimension5 173 (out of 300).\n",
      "  Applying transform(s) to timePoint/channel/dimension5 174 (out of 300).\n",
      "  Applying transform(s) to timePoint/channel/dimension5 175 (out of 300).\n",
      "  Applying transform(s) to timePoint/channel/dimension5 176 (out of 300).\n",
      "  Applying transform(s) to timePoint/channel/dimension5 177 (out of 300).\n",
      "  Applying transform(s) to timePoint/channel/dimension5 178 (out of 300).\n",
      "  Applying transform(s) to timePoint/channel/dimension5 179 (out of 300).\n",
      "  Applying transform(s) to timePoint/channel/dimension5 180 (out of 300).\n",
      "  Applying transform(s) to timePoint/channel/dimension5 181 (out of 300).\n",
      "  Applying transform(s) to timePoint/channel/dimension5 182 (out of 300).\n",
      "  Applying transform(s) to timePoint/channel/dimension5 183 (out of 300).\n",
      "  Applying transform(s) to timePoint/channel/dimension5 184 (out of 300).\n",
      "  Applying transform(s) to timePoint/channel/dimension5 185 (out of 300).\n",
      "  Applying transform(s) to timePoint/channel/dimension5 186 (out of 300).\n",
      "  Applying transform(s) to timePoint/channel/dimension5 187 (out of 300).\n",
      "  Applying transform(s) to timePoint/channel/dimension5 188 (out of 300).\n",
      "  Applying transform(s) to timePoint/channel/dimension5 189 (out of 300).\n",
      "  Applying transform(s) to timePoint/channel/dimension5 190 (out of 300).\n",
      "  Applying transform(s) to timePoint/channel/dimension5 191 (out of 300).\n",
      "  Applying transform(s) to timePoint/channel/dimension5 192 (out of 300).\n",
      "  Applying transform(s) to timePoint/channel/dimension5 193 (out of 300).\n",
      "  Applying transform(s) to timePoint/channel/dimension5 194 (out of 300).\n",
      "  Applying transform(s) to timePoint/channel/dimension5 195 (out of 300).\n",
      "  Applying transform(s) to timePoint/channel/dimension5 196 (out of 300).\n",
      "  Applying transform(s) to timePoint/channel/dimension5 197 (out of 300).\n",
      "  Applying transform(s) to timePoint/channel/dimension5 198 (out of 300).\n",
      "  Applying transform(s) to timePoint/channel/dimension5 199 (out of 300).\n",
      "  Applying transform(s) to timePoint/channel/dimension5 200 (out of 300).\n",
      "  Applying transform(s) to timePoint/channel/dimension5 201 (out of 300).\n",
      "  Applying transform(s) to timePoint/channel/dimension5 202 (out of 300).\n",
      "  Applying transform(s) to timePoint/channel/dimension5 203 (out of 300).\n",
      "  Applying transform(s) to timePoint/channel/dimension5 204 (out of 300).\n",
      "  Applying transform(s) to timePoint/channel/dimension5 205 (out of 300).\n",
      "  Applying transform(s) to timePoint/channel/dimension5 206 (out of 300).\n",
      "  Applying transform(s) to timePoint/channel/dimension5 207 (out of 300).\n",
      "  Applying transform(s) to timePoint/channel/dimension5 208 (out of 300).\n",
      "  Applying transform(s) to timePoint/channel/dimension5 209 (out of 300).\n",
      "  Applying transform(s) to timePoint/channel/dimension5 210 (out of 300).\n",
      "  Applying transform(s) to timePoint/channel/dimension5 211 (out of 300).\n",
      "  Applying transform(s) to timePoint/channel/dimension5 212 (out of 300).\n",
      "  Applying transform(s) to timePoint/channel/dimension5 213 (out of 300).\n",
      "  Applying transform(s) to timePoint/channel/dimension5 214 (out of 300).\n",
      "  Applying transform(s) to timePoint/channel/dimension5 215 (out of 300).\n",
      "  Applying transform(s) to timePoint/channel/dimension5 216 (out of 300).\n",
      "  Applying transform(s) to timePoint/channel/dimension5 217 (out of 300).\n",
      "  Applying transform(s) to timePoint/channel/dimension5 218 (out of 300).\n",
      "  Applying transform(s) to timePoint/channel/dimension5 219 (out of 300).\n",
      "  Applying transform(s) to timePoint/channel/dimension5 220 (out of 300).\n",
      "  Applying transform(s) to timePoint/channel/dimension5 221 (out of 300).\n",
      "  Applying transform(s) to timePoint/channel/dimension5 222 (out of 300).\n",
      "  Applying transform(s) to timePoint/channel/dimension5 223 (out of 300).\n",
      "  Applying transform(s) to timePoint/channel/dimension5 224 (out of 300).\n",
      "  Applying transform(s) to timePoint/channel/dimension5 225 (out of 300).\n",
      "  Applying transform(s) to timePoint/channel/dimension5 226 (out of 300).\n",
      "  Applying transform(s) to timePoint/channel/dimension5 227 (out of 300).\n",
      "  Applying transform(s) to timePoint/channel/dimension5 228 (out of 300).\n",
      "  Applying transform(s) to timePoint/channel/dimension5 229 (out of 300).\n",
      "  Applying transform(s) to timePoint/channel/dimension5 230 (out of 300).\n",
      "  Applying transform(s) to timePoint/channel/dimension5 231 (out of 300).\n",
      "  Applying transform(s) to timePoint/channel/dimension5 232 (out of 300).\n",
      "  Applying transform(s) to timePoint/channel/dimension5 233 (out of 300).\n",
      "  Applying transform(s) to timePoint/channel/dimension5 234 (out of 300).\n",
      "  Applying transform(s) to timePoint/channel/dimension5 235 (out of 300).\n",
      "  Applying transform(s) to timePoint/channel/dimension5 236 (out of 300).\n",
      "  Applying transform(s) to timePoint/channel/dimension5 237 (out of 300).\n",
      "  Applying transform(s) to timePoint/channel/dimension5 238 (out of 300).\n",
      "  Applying transform(s) to timePoint/channel/dimension5 239 (out of 300).\n",
      "  Applying transform(s) to timePoint/channel/dimension5 240 (out of 300).\n",
      "  Applying transform(s) to timePoint/channel/dimension5 241 (out of 300).\n",
      "  Applying transform(s) to timePoint/channel/dimension5 242 (out of 300).\n",
      "  Applying transform(s) to timePoint/channel/dimension5 243 (out of 300).\n",
      "  Applying transform(s) to timePoint/channel/dimension5 244 (out of 300).\n",
      "  Applying transform(s) to timePoint/channel/dimension5 245 (out of 300).\n",
      "  Applying transform(s) to timePoint/channel/dimension5 246 (out of 300).\n",
      "  Applying transform(s) to timePoint/channel/dimension5 247 (out of 300).\n",
      "  Applying transform(s) to timePoint/channel/dimension5 248 (out of 300).\n",
      "  Applying transform(s) to timePoint/channel/dimension5 249 (out of 300).\n",
      "  Applying transform(s) to timePoint/channel/dimension5 250 (out of 300).\n",
      "  Applying transform(s) to timePoint/channel/dimension5 251 (out of 300).\n",
      "  Applying transform(s) to timePoint/channel/dimension5 252 (out of 300).\n",
      "  Applying transform(s) to timePoint/channel/dimension5 253 (out of 300).\n",
      "  Applying transform(s) to timePoint/channel/dimension5 254 (out of 300).\n",
      "  Applying transform(s) to timePoint/channel/dimension5 255 (out of 300).\n",
      "  Applying transform(s) to timePoint/channel/dimension5 256 (out of 300).\n",
      "  Applying transform(s) to timePoint/channel/dimension5 257 (out of 300).\n",
      "  Applying transform(s) to timePoint/channel/dimension5 258 (out of 300).\n",
      "  Applying transform(s) to timePoint/channel/dimension5 259 (out of 300).\n",
      "  Applying transform(s) to timePoint/channel/dimension5 260 (out of 300).\n",
      "  Applying transform(s) to timePoint/channel/dimension5 261 (out of 300).\n",
      "  Applying transform(s) to timePoint/channel/dimension5 262 (out of 300).\n",
      "  Applying transform(s) to timePoint/channel/dimension5 263 (out of 300).\n",
      "  Applying transform(s) to timePoint/channel/dimension5 264 (out of 300).\n",
      "  Applying transform(s) to timePoint/channel/dimension5 265 (out of 300).\n",
      "  Applying transform(s) to timePoint/channel/dimension5 266 (out of 300).\n",
      "  Applying transform(s) to timePoint/channel/dimension5 267 (out of 300).\n",
      "  Applying transform(s) to timePoint/channel/dimension5 268 (out of 300).\n",
      "  Applying transform(s) to timePoint/channel/dimension5 269 (out of 300).\n"
     ]
    },
    {
     "name": "stdout",
     "output_type": "stream",
     "text": [
      "  Applying transform(s) to timePoint/channel/dimension5 270 (out of 300).\n",
      "  Applying transform(s) to timePoint/channel/dimension5 271 (out of 300).\n",
      "  Applying transform(s) to timePoint/channel/dimension5 272 (out of 300).\n",
      "  Applying transform(s) to timePoint/channel/dimension5 273 (out of 300).\n",
      "  Applying transform(s) to timePoint/channel/dimension5 274 (out of 300).\n",
      "  Applying transform(s) to timePoint/channel/dimension5 275 (out of 300).\n",
      "  Applying transform(s) to timePoint/channel/dimension5 276 (out of 300).\n",
      "  Applying transform(s) to timePoint/channel/dimension5 277 (out of 300).\n",
      "  Applying transform(s) to timePoint/channel/dimension5 278 (out of 300).\n",
      "  Applying transform(s) to timePoint/channel/dimension5 279 (out of 300).\n",
      "  Applying transform(s) to timePoint/channel/dimension5 280 (out of 300).\n",
      "  Applying transform(s) to timePoint/channel/dimension5 281 (out of 300).\n",
      "  Applying transform(s) to timePoint/channel/dimension5 282 (out of 300).\n",
      "  Applying transform(s) to timePoint/channel/dimension5 283 (out of 300).\n",
      "  Applying transform(s) to timePoint/channel/dimension5 284 (out of 300).\n",
      "  Applying transform(s) to timePoint/channel/dimension5 285 (out of 300).\n",
      "  Applying transform(s) to timePoint/channel/dimension5 286 (out of 300).\n",
      "  Applying transform(s) to timePoint/channel/dimension5 287 (out of 300).\n",
      "  Applying transform(s) to timePoint/channel/dimension5 288 (out of 300).\n",
      "  Applying transform(s) to timePoint/channel/dimension5 289 (out of 300).\n",
      "  Applying transform(s) to timePoint/channel/dimension5 290 (out of 300).\n",
      "  Applying transform(s) to timePoint/channel/dimension5 291 (out of 300).\n",
      "  Applying transform(s) to timePoint/channel/dimension5 292 (out of 300).\n",
      "  Applying transform(s) to timePoint/channel/dimension5 293 (out of 300).\n",
      "  Applying transform(s) to timePoint/channel/dimension5 294 (out of 300).\n",
      "  Applying transform(s) to timePoint/channel/dimension5 295 (out of 300).\n",
      "  Applying transform(s) to timePoint/channel/dimension5 296 (out of 300).\n",
      "  Applying transform(s) to timePoint/channel/dimension5 297 (out of 300).\n",
      "  Applying transform(s) to timePoint/channel/dimension5 298 (out of 300).\n",
      "  Applying transform(s) to timePoint/channel/dimension5 299 (out of 300).\n",
      "Output warped image: /home/localadmin/Documents/preprocessing/data/ADC/rdfMRI_denoised_unringed_sdc_b_1_reg.nii.gz\n"
     ]
    },
    {
     "data": {
      "text/plain": [
       "0"
      ]
     },
     "execution_count": 16,
     "metadata": {},
     "output_type": "execute_result"
    }
   ],
   "source": [
    "# -r : reference image\n",
    "# -i : input image\n",
    "# -e : input image time : 3 -> timeseries\n",
    "# -t : transform\n",
    "# -v : verbose\n",
    "# -o : output\n",
    "os.system(f'antsApplyTransforms -r {cur_path}/data/ADC/rdfMRI_denoised_unringed_sdc_b_0_mean.nii.gz'\n",
    "          f' -i {cur_path}/data/ADC/rdfMRI_denoised_unringed_sdc_b_1.nii.gz -e 3 '\n",
    "          f'-t {cur_path}/data/ADC/rdfMRI_denoised_unringed_sdc_b_1_mean_in_00GenericAffine.mat '\n",
    "          f'-v -o {cur_path}/data/ADC/rdfMRI_denoised_unringed_sdc_b_1_reg.nii.gz')"
   ]
  },
  {
   "cell_type": "code",
   "execution_count": 17,
   "metadata": {},
   "outputs": [],
   "source": [
    "rdfMRI_sdc_b = nib.load(f'{path_ref}/rdfMRI_denoised_unringed_sdc_b_1.nii.gz')\n",
    "affine_b = rdfMRI_sdc_b.affine\n",
    "header_b = rdfMRI_sdc_b.header\n",
    "rdfMRI_sdc_b = rdfMRI_sdc_b.get_fdata()\n",
    "\n",
    "rdfMRI_sdc_b_mean = np.mean(rdfMRI_sdc_b, axis=3)\n",
    "\n",
    "save_nifti(rdfMRI_sdc_b_mean, f'{cur_path}/data/ADC/rdfMRI_denoised_unringed_sdc_b_1_ref_mean.nii.gz',\n",
    "          affine_b, header_b)"
   ]
  },
  {
   "cell_type": "markdown",
   "metadata": {},
   "source": [
    "### 1.6 Put together b0 and b1 again"
   ]
  },
  {
   "cell_type": "code",
   "execution_count": 22,
   "metadata": {},
   "outputs": [
    {
     "name": "stdout",
     "output_type": "stream",
     "text": [
      "/home/localadmin/Documents/preprocessing/data/ADC/rdfMRI_denoised_unringed_sdc_b_0.nii.gz\n",
      "/home/localadmin/Documents/preprocessing/data/ADC/rdfMRI_denoised_unringed_sdc_b_1_reg.nii.gz\n"
     ]
    }
   ],
   "source": [
    "rdfMIR_denoised_unringed_sdc = np.zeros(header['dim'][1:5])\n",
    "add = ['', '_reg']\n",
    "for i in range(2):\n",
    "    rdfMIR_denoised_unringed_sdc_b = nib.load(f'{cur_path}/data/ADC/rdfMRI_denoised_unringed_sdc_b_{i}{add[i]}.nii.gz')\n",
    "    rdfMIR_denoised_unringed_sdc_b = rdfMIR_denoised_unringed_sdc_b.get_fdata()\n",
    "    rdfMIR_denoised_unringed_sdc[..., np.arange(i, rdfMIR_denoised_unringed_sdc.shape[3], 2)] = rdfMIR_denoised_unringed_sdc_b\n",
    "\n",
    "del rdfMIR_denoised_unringed_sdc_b\n",
    "\n",
    "save_nifti(rdfMIR_denoised_unringed_sdc, f'{cur_path}/data/ADC/rdfMRI_denoised_unringed_sdc.nii.gz', affine_b)"
   ]
  },
  {
   "cell_type": "code",
   "execution_count": 19,
   "metadata": {},
   "outputs": [
    {
     "ename": "AssertionError",
     "evalue": "The rdfMRI_denoised_unringed_sdc differs",
     "output_type": "error",
     "traceback": [
      "\u001b[0;31m---------------------------------------------------------------------------\u001b[0m",
      "\u001b[0;31mAssertionError\u001b[0m                            Traceback (most recent call last)",
      "Cell \u001b[0;32mIn [19], line 6\u001b[0m\n\u001b[1;32m      3\u001b[0m img_ref \u001b[38;5;241m=\u001b[39m nib\u001b[38;5;241m.\u001b[39mload(\u001b[38;5;124mf\u001b[39m\u001b[38;5;124m'\u001b[39m\u001b[38;5;132;01m{\u001b[39;00mpath_ref\u001b[38;5;132;01m}\u001b[39;00m\u001b[38;5;124m/rdfMRI_denoised_unringed_sdc_b_0.nii.gz\u001b[39m\u001b[38;5;124m'\u001b[39m)\n\u001b[1;32m      4\u001b[0m img_ref \u001b[38;5;241m=\u001b[39m img_ref\u001b[38;5;241m.\u001b[39mget_fdata()\n\u001b[0;32m----> 6\u001b[0m \u001b[38;5;28;01massert\u001b[39;00m np\u001b[38;5;241m.\u001b[39marray_equal(img_test, img_ref, equal_nan\u001b[38;5;241m=\u001b[39m\u001b[38;5;28;01mTrue\u001b[39;00m), \u001b[38;5;124m\"\u001b[39m\u001b[38;5;124mThe rdfMRI_denoised_unringed_sdc differs\u001b[39m\u001b[38;5;124m\"\u001b[39m\n",
      "\u001b[0;31mAssertionError\u001b[0m: The rdfMRI_denoised_unringed_sdc differs"
     ]
    }
   ],
   "source": [
    "img_test = nib.load(f'{cur_path}/data/ADC/rdfMRI_denoised_unringed_sdc_b_0.nii.gz')\n",
    "img_test = img_test.get_fdata()\n",
    "img_ref = nib.load(f'{path_ref}/rdfMRI_denoised_unringed_sdc_b_0.nii.gz')\n",
    "img_ref = img_ref.get_fdata()\n",
    "\n",
    "assert np.array_equal(img_test, img_ref, equal_nan=True), \"The rdfMRI_denoised_unringed_sdc differs\""
   ]
  },
  {
   "cell_type": "code",
   "execution_count": 24,
   "metadata": {},
   "outputs": [],
   "source": [
    "# Replace NaN values by 0\n",
    "rdfMIR_denoised_unringed_sdc = np.nan_to_num(rdfMIR_denoised_unringed_sdc)\n",
    "\n",
    "assert np.argwhere(np.isnan(rdfMIR_denoised_unringed_sdc)).size == 0, \"There are still NaN values in the array\"\n",
    "\n",
    "save_nifti(rdfMIR_denoised_unringed_sdc, f'{cur_path}/data/ADC/rdfMRI_denoised_unringed_sdc.nii.gz',\n",
    "          affine_b, header_b)\n",
    "\n",
    "del rdfMIR_denoised_unringed_sdc"
   ]
  },
  {
   "cell_type": "markdown",
   "metadata": {},
   "source": [
    "### 2. Making ADC maps"
   ]
  },
  {
   "cell_type": "code",
   "execution_count": 30,
   "metadata": {},
   "outputs": [
    {
     "name": "stderr",
     "output_type": "stream",
     "text": [
      "/tmp/ipykernel_37928/2454991866.py:21: RuntimeWarning: invalid value encountered in log\n",
      "  np.log(adc, out=adc, where=adc!=0)\n"
     ]
    }
   ],
   "source": [
    "if 'b0_1' in file : b_val_diff = 1\n",
    "elif '0pt2_1' in file : b_val_diff = 0.8\n",
    "elif '0pt29_1pt45' in file: b_val_diff = 1.155\n",
    "\n",
    "TR = header[\"pixdim\"][4]\n",
    "\n",
    "ardfMRI_denoised_unringed_sdc = nib.load(f'{cur_path}/data/ADC/rdfMRI_denoised_unringed_sdc.nii.gz')\n",
    "ardfMRI_denoised_unringed_sdc = ardfMRI_denoised_unringed_sdc.get_fdata()\n",
    "ardfMRI_denoised_unringed_sdc_b1 = ardfMRI_denoised_unringed_sdc[..., np.arange(1, ardfMRI_denoised_unringed_sdc.shape[3], 2)]\n",
    "ardfMRI_denoised_unringed_sdc_b0 = ardfMRI_denoised_unringed_sdc[..., np.arange(0, ardfMRI_denoised_unringed_sdc.shape[3], 2)]\n",
    "save_nifti(ardfMRI_denoised_unringed_sdc_b1, f'{cur_path}/data/ADC/ardfMRI_denoised_unringed_sdc_b1.nii.gz',\n",
    "          affine_b)\n",
    "save_nifti(ardfMRI_denoised_unringed_sdc_b0, f'{cur_path}/data/ADC/ardfMRI_denoised_unringed_sdc_b0.nii.gz',\n",
    "          affine_b)\n",
    "\n",
    "adc = np.zeros(ardfMRI_denoised_unringed_sdc_b1.shape)\n",
    "# Divide b1 by b0, where b0 is not 0\n",
    "np.divide(ardfMRI_denoised_unringed_sdc_b1, ardfMRI_denoised_unringed_sdc_b0, out=adc, \n",
    "          where=ardfMRI_denoised_unringed_sdc_b0!=0)\n",
    "# Take the log, where adc is not 0\n",
    "np.log(adc, out=adc, where=adc!=0)\n",
    "adc = -adc / b_val_diff"
   ]
  },
  {
   "cell_type": "code",
   "execution_count": 31,
   "metadata": {},
   "outputs": [
    {
     "data": {
      "text/plain": [
       "0"
      ]
     },
     "execution_count": 31,
     "metadata": {},
     "output_type": "execute_result"
    }
   ],
   "source": [
    "save_nifti(adc, f'{cur_path}/data/ADC/adc.nii.gz', affine_b)\n",
    "save_nifti(adc, f'{cur_path}/data/ADC/adc_incl_weird_voxels.nii.gz', affine_b)\n",
    "\n",
    "os.system(f'fslmerge -tr {cur_path}/data/ADC/adc_test.nii.gz {cur_path}/data/ADC/adc_incl_weird_voxels.nii.gz {2*TR}')"
   ]
  },
  {
   "cell_type": "code",
   "execution_count": 32,
   "metadata": {},
   "outputs": [],
   "source": [
    "# Replace NaN with 0\n",
    "adc = np.nan_to_num(adc)\n",
    "\n",
    "# Replace values below 0 and above 4 by 0  \n",
    "adc[adc<0] = 0\n",
    "adc[adc>4] = 0\n",
    "\n",
    "assert np.min(adc) >= 0, f\"The lower thresh of 0 did not work, min = {np.min(adc)}\"\n",
    "assert np.max(adc) <= 4, f\"The upper thresh of 4 did not work, min = {np.max(adc)}\"\n",
    "\n",
    "save_nifti(adc, f'{cur_path}/data/ADC/adc.nii.gz', affine_b)\n",
    "\n",
    "adc_mean = np.mean(adc, axis = 3)\n",
    "save_nifti(adc_mean, f'{cur_path}/data/ADC/adc_mean.nii.gz', affine_b)"
   ]
  },
  {
   "cell_type": "code",
   "execution_count": 13,
   "metadata": {},
   "outputs": [
    {
     "data": {
      "image/png": "[encoded data removed]",
      "text/plain": [
       "<Figure size 640x480 with 1 Axes>"
      ]
     },
     "metadata": {},
     "output_type": "display_data"
    }
   ],
   "source": [
    "adc = nib.load(f'{cur_path}/data/ADC/adc_incl_weird_voxels.nii.gz')\n",
    "adc = adc.get_fdata()\n",
    "\n",
    "adc_to_plot = adc\n",
    "\n",
    "for i in range(int(adc_to_plot.shape[3]/15)):\n",
    "    plt.plot(adc_to_plot[16,70,6, i*15: (i+1)*15], '*')"
   ]
  },
  {
   "cell_type": "code",
   "execution_count": 38,
   "metadata": {},
   "outputs": [],
   "source": [
    "# Analysis of task data (FEAT)\n",
    "raw = nib.load(f'{cur_path}/data/dfMRI_raw.nii.gz')\n",
    "header = raw.header\n",
    "\n",
    "rest_block = 18\n",
    "task_block = 12\n",
    "TR = header[\"pixdim\"][4]\n",
    "\n",
    "No_dummies_out = 2\n",
    "No_vol_DWI = header[\"dim\"][4]+No_dummies_out\n",
    "\n",
    "\n",
    "No_onsets = 1 + (No_vol_DWI - (rest_block - No_dummies_out))//(rest_block+task_block)\n",
    "\n",
    "# Create txt file of experimental design\n",
    "exper_design = np.zeros((No_onsets,3))\n",
    "\n",
    "for i in range(No_onsets):\n",
    "    exper_design[i, 0] = i*(rest_block+task_block)-No_dummies_out*TR+rest_block\n",
    "    exper_design[i, 1] = task_block\n",
    "    exper_design[i, 2] = 1\n",
    "\n",
    "path_exp_design = f\"{cur_path}/feat/exper_design.txt\"\n",
    "np.savetxt(path_exp_design, exper_design, '%.7f')\n"
   ]
  },
  {
   "cell_type": "code",
   "execution_count": 60,
   "metadata": {},
   "outputs": [
    {
     "name": "stderr",
     "output_type": "stream",
     "text": [
      "child process exited abnormally\n",
      "    while executing\n",
      "\"fsl:exec \"${FSLDIR}/bin/feat ${fsfroot}.fsf -D $FD -I $session -prestats\" -b $prestatsTime -h $initID $jobHalt -N feat2_pre -l logs \"\n",
      "    (procedure \"firstLevelMaster\" line 168)\n",
      "    invoked from within\n",
      "\"firstLevelMaster $session\"\n",
      "    invoked from within\n",
      "\"if { $done_something == 0 } {\n",
      "\n",
      "    if { ! $fmri(inmelodic) } {\n",
      "       if { $fmri(level) == 1 } {\n",
      "\t      for { set session 1 } { $session <= $fmri(mult...\"\n",
      "    (file \"/home/localadmin/fsl/bin/feat\" line 390)\n"
     ]
    },
    {
     "data": {
      "text/plain": [
       "256"
      ]
     },
     "execution_count": 60,
     "metadata": {},
     "output_type": "execute_result"
    }
   ],
   "source": [
    "# Modify the design_tast.fsf file\n",
    "replace_TR           = str(2*TR)\n",
    "replace_No_volumes   = str(np.floor(No_vol_DWI/2))\n",
    "replace_total_voxels = str(np.prod(header[\"dim\"][1:5]))\n",
    "replace_data    = f'{cur_path}/feat/adc'\n",
    "\n",
    "os.system(f'cp {cur_path}/data/ADC/adc_incl_weird_voxels.nii.gz '\n",
    "          f'{cur_path}/feat/adc.nii.gz')\n",
    "os.system(f'cp {cur_path}/design_task.fsf '\n",
    "          f'{cur_path}/feat/design_task.fsf')\n",
    "\n",
    "# In the doc, they use s/what_to_replace/value_to_replace/g\n",
    "# With path that uses \"/\", doesn't work\n",
    "# => s:what_to_replace:value_to_replace:g\n",
    "os.system(f'sed -i s:replace_TR:{replace_TR}:g {cur_path}/feat/design_task.fsf')\n",
    "os.system(f'sed -i s:replace_No_volumes:{replace_No_volumes}:g '\n",
    "          f'{cur_path}/feat/design_task.fsf')\n",
    "os.system(f'sed -i s:replace_total_voxels:{replace_total_voxels}:g '\n",
    "          f'{cur_path}/feat/design_task.fsf')\n",
    "os.system(f'sed -i s:replace_data:{replace_data}:g {cur_path}/feat/design_task.fsf')\n",
    "os.system(f'sed -i s:replace_design:{path_exp_design}:g {cur_path}/feat/design_task.fsf')\n",
    "os.system(f'sed -i s:replace_FIR_window_length:{str(14*2*TR)}:g {cur_path}/feat/design_task.fsf')\n",
    "\n",
    "os.system(f'feat {cur_path}/feat/design_task.fsf')"
   ]
  }
 ],
 "metadata": {
  "kernelspec": {
   "display_name": "Python 3 (ipykernel)",
   "language": "python",
   "name": "python3"
  },
  "language_info": {
   "codemirror_mode": {
    "name": "ipython",
    "version": 3
   },
   "file_extension": ".py",
   "mimetype": "text/x-python",
   "name": "python",
   "nbconvert_exporter": "python",
   "pygments_lexer": "ipython3",
   "version": "3.10.8"
  },
  "vscode": {
   "interpreter": {
    "hash": "bfdaa94f7b0658b9770747b599dafc00575612f14394d7e0e2833d02915c3415"
   }
  }
 },
 "nbformat": 4,
 "nbformat_minor": 2
}
