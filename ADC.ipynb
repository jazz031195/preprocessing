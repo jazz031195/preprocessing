{
 "cells": [
  {
   "cell_type": "code",
   "execution_count": 3,
   "metadata": {},
   "outputs": [],
   "source": [
    "import numpy as np\n",
    "import matplotlib.pyplot as plt\n",
    "import os\n",
    "import pandas as pd\n",
    "import seaborn as sns\n",
    "import nibabel as nib\n",
    "from os import listdir\n",
    "from os.path import isfile, join\n",
    "from scipy import signal\n",
    "import sys\n",
    "from Helpers import save_nifti\n",
    "\n",
    "# current path\n",
    "cur_path = os.getcwd()\n",
    "# file name and path\n",
    "file = \"BB_003_3T_cmrr_mbep2d_diff_0pt2_1_task_18s_off_12s_on_20200710180104_8\"\n",
    "path_ref = cur_path + \"/\" + file\n",
    "\n",
    "file_name = cur_path + \"/data/topup/dfmri_degibbs_sdc.nii.gz\"\n",
    "# loading nifti object/header\n",
    "raw_data_ = nib.load(file_name)\n",
    "header  = raw_data_.header\n",
    "affine = raw_data_.affine\n",
    "raw_data = raw_data_.get_fdata()"
   ]
  },
  {
   "cell_type": "markdown",
   "metadata": {},
   "source": [
    "### 1. Motion correction\n",
    "#### 1.1 Split b0 and b1 values"
   ]
  },
  {
   "cell_type": "code",
   "execution_count": 2,
   "metadata": {},
   "outputs": [],
   "source": [
    "def gzip(filename: str, zip: bool) -> str:\n",
    "    \"\"\"\n",
    "    Function that zips or unzips the filename file\n",
    "    Args:\n",
    "        filename (str)\n",
    "        zip (bool): true -> zip, false -> unzip\n",
    "    Returns:\n",
    "        new_filename (str)\n",
    "    \"\"\"\n",
    "    if zip == False:\n",
    "        new_filename = filename.replace('.gz', '')\n",
    "        os.system(f\"gzip -f -c -d {filename} > {new_filename}\")\n",
    "    elif zip == True:\n",
    "        os.system(f\"gzip {filename} -f\")\n",
    "        new_filename = f'{filename}.gz'\n",
    "    else:\n",
    "        new_filename = None\n",
    "        \n",
    "    return new_filename\n"
   ]
  },
  {
   "cell_type": "code",
   "execution_count": 11,
   "metadata": {},
   "outputs": [],
   "source": [
    "import nipype.interfaces.spm as spm\n",
    "import zipfile\n",
    "\n",
    "dfmri_degibbs_sdc = nib.load(f'{cur_path}/data/topup/dfmri_degibbs_sdc.nii.gz')\n",
    "dfmri_degibbs_sdc = dfmri_degibbs_sdc.get_fdata()\n",
    "\n",
    "for i in range(2):\n",
    "    dfmri_degibbs_sdc_b = dfmri_degibbs_sdc[...,np.arange(i, dfmri_degibbs_sdc.shape[3], 2)]\n",
    "    \n",
    "    save_nifti(dfmri_degibbs_sdc_b, f'{cur_path}/data/ADC/dfmri_degibbs_sdc_b{i}.nii', affine, header)"
   ]
  },
  {
   "attachments": {},
   "cell_type": "markdown",
   "metadata": {},
   "source": [
    "### 1.2 Motion correction \n",
    "#### Problem : I don't have a matlab licence => not spm"
   ]
  },
  {
   "cell_type": "code",
   "execution_count": 12,
   "metadata": {},
   "outputs": [],
   "source": [
    "# Test fsl mcFlirt instead\n",
    "# Output_name : input_name_mcf\n",
    "for i in range(2):\n",
    "    os.system(f'mcflirt -in {cur_path}/data/ADC/dfmri_degibbs_sdc_b{i}')\n"
   ]
  },
  {
   "attachments": {},
   "cell_type": "markdown",
   "metadata": {},
   "source": [
    "### 1.3 ANTS rigid registration"
   ]
  },
  {
   "cell_type": "code",
   "execution_count": 14,
   "metadata": {},
   "outputs": [],
   "source": [
    "# Problem : rdfMRI_denoised_unringed_sdc_b_1 was overwritten in his pipeline\n",
    "for i in range(2):\n",
    "    rdfMRI_sdc_b = nib.load(f'{cur_path}/data/ADC/dfmri_degibbs_sdc_b{i}_mcf.nii.gz')\n",
    "    affine_b = rdfMRI_sdc_b.affine\n",
    "    header_b = rdfMRI_sdc_b.header\n",
    "    rdfMRI_sdc_b = rdfMRI_sdc_b.get_fdata()\n",
    "\n",
    "    rdfMRI_sdc_b_mean = np.mean(rdfMRI_sdc_b, axis=3)\n",
    "    \n",
    "    save_nifti(rdfMRI_sdc_b_mean, f'{cur_path}/data/ADC/rdfMRI_denoised_unringed_sdc_b_{i}_mean.nii.gz',\n",
    "              affine_b, header_b) "
   ]
  },
  {
   "cell_type": "markdown",
   "metadata": {},
   "source": [
    "### 1.4 Ants rigid registration, fixed image = rdfMRI_denoised_unringed_sdc_b_0_mean"
   ]
  },
  {
   "cell_type": "code",
   "execution_count": 15,
   "metadata": {},
   "outputs": [
    {
     "data": {
      "text/plain": [
       "0"
      ]
     },
     "execution_count": 15,
     "metadata": {},
     "output_type": "execute_result"
    }
   ],
   "source": [
    "# output : name of the 00GenericAffine.mat, warped image\n",
    "os.system('antsRegistration --dimensionality 3 --float 0 '\n",
    "        f' --output [{cur_path}/data/ADC/rdfMRI_denoised_unringed_sdc_b_1_mean_in_0, {cur_path}/data/ADC/rdfMRI_denoised_unringed_sdc_b_1_mean_in_0.nii.gz] '\n",
    "        ' --interpolation Linear '\n",
    "        ' --winsorize-image-intensities [0.01,0.99] ' \n",
    "        ' --use-histogram-matching 0 '\n",
    "        ' --transform Rigid[0.0001] ' \n",
    "        f' --metric MI[{cur_path}/data/ADC/rdfMRI_denoised_unringed_sdc_b_0_mean.nii.gz, {cur_path}/data/ADC/rdfMRI_denoised_unringed_sdc_b_1_mean.nii.gz,1,32,Regular,0.25] '\n",
    "        ' --convergence [10000x10000x10000x10000,1e-6,10] '\n",
    "        ' --shrink-factors 4x4x2x1 ' \n",
    "        ' --smoothing-sigmas 2x2x1x0vox')"
   ]
  },
  {
   "cell_type": "markdown",
   "metadata": {},
   "source": [
    "### 1.5 Apply the transform to rdfMRI_denoised_unringed_sdc_b_1"
   ]
  },
  {
   "cell_type": "code",
   "execution_count": 16,
   "metadata": {},
   "outputs": [
    {
     "name": "stdout",
     "output_type": "stream",
     "text": [
      "Using double precision for computations.\n",
      "Input time-series image: /home/localadmin/Documents/preprocessing/data/ADC/rdfMRI_denoised_unringed_sdc_b_1.nii.gz\n",
      "Reference image: /home/localadmin/Documents/preprocessing/data/ADC/rdfMRI_denoised_unringed_sdc_b_0_mean.nii.gz\n",
      "=============================================================================\n",
      "The composite transform comprises the following transforms (in order): \n",
      "  1. /home/localadmin/Documents/preprocessing/data/ADC/rdfMRI_denoised_unringed_sdc_b_1_mean_in_00GenericAffine.mat (type = AffineTransform)\n",
      "=============================================================================\n",
      "Default pixel value: 0\n",
      "Interpolation type: LinearInterpolateImageFunction\n",
      "  Applying transform(s) to timePoint/channel/dimension5 0 (out of 300).\n",
      "  Applying transform(s) to timePoint/channel/dimension5 1 (out of 300).\n",
      "  Applying transform(s) to timePoint/channel/dimension5 2 (out of 300).\n",
      "  Applying transform(s) to timePoint/channel/dimension5 3 (out of 300).\n",
      "  Applying transform(s) to timePoint/channel/dimension5 4 (out of 300).\n",
      "  Applying transform(s) to timePoint/channel/dimension5 5 (out of 300).\n",
      "  Applying transform(s) to timePoint/channel/dimension5 6 (out of 300).\n",
      "  Applying transform(s) to timePoint/channel/dimension5 7 (out of 300).\n",
      "  Applying transform(s) to timePoint/channel/dimension5 8 (out of 300).\n",
      "  Applying transform(s) to timePoint/channel/dimension5 9 (out of 300).\n",
      "  Applying transform(s) to timePoint/channel/dimension5 10 (out of 300).\n",
      "  Applying transform(s) to timePoint/channel/dimension5 11 (out of 300).\n",
      "  Applying transform(s) to timePoint/channel/dimension5 12 (out of 300).\n",
      "  Applying transform(s) to timePoint/channel/dimension5 13 (out of 300).\n",
      "  Applying transform(s) to timePoint/channel/dimension5 14 (out of 300).\n",
      "  Applying transform(s) to timePoint/channel/dimension5 15 (out of 300).\n",
      "  Applying transform(s) to timePoint/channel/dimension5 16 (out of 300).\n",
      "  Applying transform(s) to timePoint/channel/dimension5 17 (out of 300).\n",
      "  Applying transform(s) to timePoint/channel/dimension5 18 (out of 300).\n",
      "  Applying transform(s) to timePoint/channel/dimension5 19 (out of 300).\n",
      "  Applying transform(s) to timePoint/channel/dimension5 20 (out of 300).\n",
      "  Applying transform(s) to timePoint/channel/dimension5 21 (out of 300).\n",
      "  Applying transform(s) to timePoint/channel/dimension5 22 (out of 300).\n",
      "  Applying transform(s) to timePoint/channel/dimension5 23 (out of 300).\n",
      "  Applying transform(s) to timePoint/channel/dimension5 24 (out of 300).\n",
      "  Applying transform(s) to timePoint/channel/dimension5 25 (out of 300).\n",
      "  Applying transform(s) to timePoint/channel/dimension5 26 (out of 300).\n",
      "  Applying transform(s) to timePoint/channel/dimension5 27 (out of 300).\n",
      "  Applying transform(s) to timePoint/channel/dimension5 28 (out of 300).\n",
      "  Applying transform(s) to timePoint/channel/dimension5 29 (out of 300).\n",
      "  Applying transform(s) to timePoint/channel/dimension5 30 (out of 300).\n",
      "  Applying transform(s) to timePoint/channel/dimension5 31 (out of 300).\n",
      "  Applying transform(s) to timePoint/channel/dimension5 32 (out of 300).\n",
      "  Applying transform(s) to timePoint/channel/dimension5 33 (out of 300).\n",
      "  Applying transform(s) to timePoint/channel/dimension5 34 (out of 300).\n",
      "  Applying transform(s) to timePoint/channel/dimension5 35 (out of 300).\n",
      "  Applying transform(s) to timePoint/channel/dimension5 36 (out of 300).\n",
      "  Applying transform(s) to timePoint/channel/dimension5 37 (out of 300).\n",
      "  Applying transform(s) to timePoint/channel/dimension5 38 (out of 300).\n",
      "  Applying transform(s) to timePoint/channel/dimension5 39 (out of 300).\n",
      "  Applying transform(s) to timePoint/channel/dimension5 40 (out of 300).\n",
      "  Applying transform(s) to timePoint/channel/dimension5 41 (out of 300).\n",
      "  Applying transform(s) to timePoint/channel/dimension5 42 (out of 300).\n",
      "  Applying transform(s) to timePoint/channel/dimension5 43 (out of 300).\n",
      "  Applying transform(s) to timePoint/channel/dimension5 44 (out of 300).\n",
      "  Applying transform(s) to timePoint/channel/dimension5 45 (out of 300).\n",
      "  Applying transform(s) to timePoint/channel/dimension5 46 (out of 300).\n",
      "  Applying transform(s) to timePoint/channel/dimension5 47 (out of 300).\n",
      "  Applying transform(s) to timePoint/channel/dimension5 48 (out of 300).\n",
      "  Applying transform(s) to timePoint/channel/dimension5 49 (out of 300).\n",
      "  Applying transform(s) to timePoint/channel/dimension5 50 (out of 300).\n",
      "  Applying transform(s) to timePoint/channel/dimension5 51 (out of 300).\n",
      "  Applying transform(s) to timePoint/channel/dimension5 52 (out of 300).\n",
      "  Applying transform(s) to timePoint/channel/dimension5 53 (out of 300).\n",
      "  Applying transform(s) to timePoint/channel/dimension5 54 (out of 300).\n",
      "  Applying transform(s) to timePoint/channel/dimension5 55 (out of 300).\n",
      "  Applying transform(s) to timePoint/channel/dimension5 56 (out of 300).\n",
      "  Applying transform(s) to timePoint/channel/dimension5 57 (out of 300).\n",
      "  Applying transform(s) to timePoint/channel/dimension5 58 (out of 300).\n",
      "  Applying transform(s) to timePoint/channel/dimension5 59 (out of 300).\n",
      "  Applying transform(s) to timePoint/channel/dimension5 60 (out of 300).\n",
      "  Applying transform(s) to timePoint/channel/dimension5 61 (out of 300).\n",
      "  Applying transform(s) to timePoint/channel/dimension5 62 (out of 300).\n",
      "  Applying transform(s) to timePoint/channel/dimension5 63 (out of 300).\n",
      "  Applying transform(s) to timePoint/channel/dimension5 64 (out of 300).\n",
      "  Applying transform(s) to timePoint/channel/dimension5 65 (out of 300).\n",
      "  Applying transform(s) to timePoint/channel/dimension5 66 (out of 300).\n",
      "  Applying transform(s) to timePoint/channel/dimension5 67 (out of 300).\n",
      "  Applying transform(s) to timePoint/channel/dimension5 68 (out of 300).\n",
      "  Applying transform(s) to timePoint/channel/dimension5 69 (out of 300).\n",
      "  Applying transform(s) to timePoint/channel/dimension5 70 (out of 300).\n",
      "  Applying transform(s) to timePoint/channel/dimension5 71 (out of 300).\n",
      "  Applying transform(s) to timePoint/channel/dimension5 72 (out of 300).\n",
      "  Applying transform(s) to timePoint/channel/dimension5 73 (out of 300).\n",
      "  Applying transform(s) to timePoint/channel/dimension5 74 (out of 300).\n",
      "  Applying transform(s) to timePoint/channel/dimension5 75 (out of 300).\n",
      "  Applying transform(s) to timePoint/channel/dimension5 76 (out of 300).\n",
      "  Applying transform(s) to timePoint/channel/dimension5 77 (out of 300).\n",
      "  Applying transform(s) to timePoint/channel/dimension5 78 (out of 300).\n",
      "  Applying transform(s) to timePoint/channel/dimension5 79 (out of 300).\n",
      "  Applying transform(s) to timePoint/channel/dimension5 80 (out of 300).\n",
      "  Applying transform(s) to timePoint/channel/dimension5 81 (out of 300).\n",
      "  Applying transform(s) to timePoint/channel/dimension5 82 (out of 300).\n",
      "  Applying transform(s) to timePoint/channel/dimension5 83 (out of 300).\n",
      "  Applying transform(s) to timePoint/channel/dimension5 84 (out of 300).\n",
      "  Applying transform(s) to timePoint/channel/dimension5 85 (out of 300).\n",
      "  Applying transform(s) to timePoint/channel/dimension5 86 (out of 300).\n",
      "  Applying transform(s) to timePoint/channel/dimension5 87 (out of 300).\n",
      "  Applying transform(s) to timePoint/channel/dimension5 88 (out of 300).\n",
      "  Applying transform(s) to timePoint/channel/dimension5 89 (out of 300).\n",
      "  Applying transform(s) to timePoint/channel/dimension5 90 (out of 300).\n",
      "  Applying transform(s) to timePoint/channel/dimension5 91 (out of 300).\n",
      "  Applying transform(s) to timePoint/channel/dimension5 92 (out of 300).\n",
      "  Applying transform(s) to timePoint/channel/dimension5 93 (out of 300).\n",
      "  Applying transform(s) to timePoint/channel/dimension5 94 (out of 300).\n",
      "  Applying transform(s) to timePoint/channel/dimension5 95 (out of 300).\n",
      "  Applying transform(s) to timePoint/channel/dimension5 96 (out of 300).\n",
      "  Applying transform(s) to timePoint/channel/dimension5 97 (out of 300).\n",
      "  Applying transform(s) to timePoint/channel/dimension5 98 (out of 300).\n",
      "  Applying transform(s) to timePoint/channel/dimension5 99 (out of 300).\n",
      "  Applying transform(s) to timePoint/channel/dimension5 100 (out of 300).\n",
      "  Applying transform(s) to timePoint/channel/dimension5 101 (out of 300).\n",
      "  Applying transform(s) to timePoint/channel/dimension5 102 (out of 300).\n",
      "  Applying transform(s) to timePoint/channel/dimension5 103 (out of 300).\n",
      "  Applying transform(s) to timePoint/channel/dimension5 104 (out of 300).\n",
      "  Applying transform(s) to timePoint/channel/dimension5 105 (out of 300).\n",
      "  Applying transform(s) to timePoint/channel/dimension5 106 (out of 300).\n",
      "  Applying transform(s) to timePoint/channel/dimension5 107 (out of 300).\n",
      "  Applying transform(s) to timePoint/channel/dimension5 108 (out of 300).\n",
      "  Applying transform(s) to timePoint/channel/dimension5 109 (out of 300).\n",
      "  Applying transform(s) to timePoint/channel/dimension5 110 (out of 300).\n",
      "  Applying transform(s) to timePoint/channel/dimension5 111 (out of 300).\n",
      "  Applying transform(s) to timePoint/channel/dimension5 112 (out of 300).\n",
      "  Applying transform(s) to timePoint/channel/dimension5 113 (out of 300).\n",
      "  Applying transform(s) to timePoint/channel/dimension5 114 (out of 300).\n",
      "  Applying transform(s) to timePoint/channel/dimension5 115 (out of 300).\n",
      "  Applying transform(s) to timePoint/channel/dimension5 116 (out of 300).\n",
      "  Applying transform(s) to timePoint/channel/dimension5 117 (out of 300).\n",
      "  Applying transform(s) to timePoint/channel/dimension5 118 (out of 300).\n",
      "  Applying transform(s) to timePoint/channel/dimension5 119 (out of 300).\n",
      "  Applying transform(s) to timePoint/channel/dimension5 120 (out of 300).\n",
      "  Applying transform(s) to timePoint/channel/dimension5 121 (out of 300).\n",
      "  Applying transform(s) to timePoint/channel/dimension5 122 (out of 300).\n",
      "  Applying transform(s) to timePoint/channel/dimension5 123 (out of 300).\n",
      "  Applying transform(s) to timePoint/channel/dimension5 124 (out of 300).\n",
      "  Applying transform(s) to timePoint/channel/dimension5 125 (out of 300).\n",
      "  Applying transform(s) to timePoint/channel/dimension5 126 (out of 300).\n",
      "  Applying transform(s) to timePoint/channel/dimension5 127 (out of 300).\n",
      "  Applying transform(s) to timePoint/channel/dimension5 128 (out of 300).\n",
      "  Applying transform(s) to timePoint/channel/dimension5 129 (out of 300).\n",
      "  Applying transform(s) to timePoint/channel/dimension5 130 (out of 300).\n",
      "  Applying transform(s) to timePoint/channel/dimension5 131 (out of 300).\n",
      "  Applying transform(s) to timePoint/channel/dimension5 132 (out of 300).\n",
      "  Applying transform(s) to timePoint/channel/dimension5 133 (out of 300).\n",
      "  Applying transform(s) to timePoint/channel/dimension5 134 (out of 300).\n",
      "  Applying transform(s) to timePoint/channel/dimension5 135 (out of 300).\n",
      "  Applying transform(s) to timePoint/channel/dimension5 136 (out of 300).\n",
      "  Applying transform(s) to timePoint/channel/dimension5 137 (out of 300).\n",
      "  Applying transform(s) to timePoint/channel/dimension5 138 (out of 300).\n",
      "  Applying transform(s) to timePoint/channel/dimension5 139 (out of 300).\n",
      "  Applying transform(s) to timePoint/channel/dimension5 140 (out of 300).\n",
      "  Applying transform(s) to timePoint/channel/dimension5 141 (out of 300).\n",
      "  Applying transform(s) to timePoint/channel/dimension5 142 (out of 300).\n",
      "  Applying transform(s) to timePoint/channel/dimension5 143 (out of 300).\n",
      "  Applying transform(s) to timePoint/channel/dimension5 144 (out of 300).\n",
      "  Applying transform(s) to timePoint/channel/dimension5 145 (out of 300).\n",
      "  Applying transform(s) to timePoint/channel/dimension5 146 (out of 300).\n",
      "  Applying transform(s) to timePoint/channel/dimension5 147 (out of 300).\n",
      "  Applying transform(s) to timePoint/channel/dimension5 148 (out of 300).\n",
      "  Applying transform(s) to timePoint/channel/dimension5 149 (out of 300).\n",
      "  Applying transform(s) to timePoint/channel/dimension5 150 (out of 300).\n",
      "  Applying transform(s) to timePoint/channel/dimension5 151 (out of 300).\n",
      "  Applying transform(s) to timePoint/channel/dimension5 152 (out of 300).\n",
      "  Applying transform(s) to timePoint/channel/dimension5 153 (out of 300).\n",
      "  Applying transform(s) to timePoint/channel/dimension5 154 (out of 300).\n",
      "  Applying transform(s) to timePoint/channel/dimension5 155 (out of 300).\n",
      "  Applying transform(s) to timePoint/channel/dimension5 156 (out of 300).\n",
      "  Applying transform(s) to timePoint/channel/dimension5 157 (out of 300).\n",
      "  Applying transform(s) to timePoint/channel/dimension5 158 (out of 300).\n",
      "  Applying transform(s) to timePoint/channel/dimension5 159 (out of 300).\n",
      "  Applying transform(s) to timePoint/channel/dimension5 160 (out of 300).\n",
      "  Applying transform(s) to timePoint/channel/dimension5 161 (out of 300).\n",
      "  Applying transform(s) to timePoint/channel/dimension5 162 (out of 300).\n",
      "  Applying transform(s) to timePoint/channel/dimension5 163 (out of 300).\n",
      "  Applying transform(s) to timePoint/channel/dimension5 164 (out of 300).\n",
      "  Applying transform(s) to timePoint/channel/dimension5 165 (out of 300).\n",
      "  Applying transform(s) to timePoint/channel/dimension5 166 (out of 300).\n",
      "  Applying transform(s) to timePoint/channel/dimension5 167 (out of 300).\n",
      "  Applying transform(s) to timePoint/channel/dimension5 168 (out of 300).\n",
      "  Applying transform(s) to timePoint/channel/dimension5 169 (out of 300).\n",
      "  Applying transform(s) to timePoint/channel/dimension5 170 (out of 300).\n",
      "  Applying transform(s) to timePoint/channel/dimension5 171 (out of 300).\n",
      "  Applying transform(s) to timePoint/channel/dimension5 172 (out of 300).\n",
      "  Applying transform(s) to timePoint/channel/dimension5 173 (out of 300).\n",
      "  Applying transform(s) to timePoint/channel/dimension5 174 (out of 300).\n",
      "  Applying transform(s) to timePoint/channel/dimension5 175 (out of 300).\n",
      "  Applying transform(s) to timePoint/channel/dimension5 176 (out of 300).\n",
      "  Applying transform(s) to timePoint/channel/dimension5 177 (out of 300).\n",
      "  Applying transform(s) to timePoint/channel/dimension5 178 (out of 300).\n",
      "  Applying transform(s) to timePoint/channel/dimension5 179 (out of 300).\n",
      "  Applying transform(s) to timePoint/channel/dimension5 180 (out of 300).\n",
      "  Applying transform(s) to timePoint/channel/dimension5 181 (out of 300).\n",
      "  Applying transform(s) to timePoint/channel/dimension5 182 (out of 300).\n",
      "  Applying transform(s) to timePoint/channel/dimension5 183 (out of 300).\n",
      "  Applying transform(s) to timePoint/channel/dimension5 184 (out of 300).\n",
      "  Applying transform(s) to timePoint/channel/dimension5 185 (out of 300).\n",
      "  Applying transform(s) to timePoint/channel/dimension5 186 (out of 300).\n",
      "  Applying transform(s) to timePoint/channel/dimension5 187 (out of 300).\n",
      "  Applying transform(s) to timePoint/channel/dimension5 188 (out of 300).\n",
      "  Applying transform(s) to timePoint/channel/dimension5 189 (out of 300).\n",
      "  Applying transform(s) to timePoint/channel/dimension5 190 (out of 300).\n",
      "  Applying transform(s) to timePoint/channel/dimension5 191 (out of 300).\n",
      "  Applying transform(s) to timePoint/channel/dimension5 192 (out of 300).\n",
      "  Applying transform(s) to timePoint/channel/dimension5 193 (out of 300).\n",
      "  Applying transform(s) to timePoint/channel/dimension5 194 (out of 300).\n",
      "  Applying transform(s) to timePoint/channel/dimension5 195 (out of 300).\n",
      "  Applying transform(s) to timePoint/channel/dimension5 196 (out of 300).\n",
      "  Applying transform(s) to timePoint/channel/dimension5 197 (out of 300).\n",
      "  Applying transform(s) to timePoint/channel/dimension5 198 (out of 300).\n",
      "  Applying transform(s) to timePoint/channel/dimension5 199 (out of 300).\n",
      "  Applying transform(s) to timePoint/channel/dimension5 200 (out of 300).\n",
      "  Applying transform(s) to timePoint/channel/dimension5 201 (out of 300).\n",
      "  Applying transform(s) to timePoint/channel/dimension5 202 (out of 300).\n",
      "  Applying transform(s) to timePoint/channel/dimension5 203 (out of 300).\n",
      "  Applying transform(s) to timePoint/channel/dimension5 204 (out of 300).\n",
      "  Applying transform(s) to timePoint/channel/dimension5 205 (out of 300).\n",
      "  Applying transform(s) to timePoint/channel/dimension5 206 (out of 300).\n",
      "  Applying transform(s) to timePoint/channel/dimension5 207 (out of 300).\n",
      "  Applying transform(s) to timePoint/channel/dimension5 208 (out of 300).\n",
      "  Applying transform(s) to timePoint/channel/dimension5 209 (out of 300).\n",
      "  Applying transform(s) to timePoint/channel/dimension5 210 (out of 300).\n",
      "  Applying transform(s) to timePoint/channel/dimension5 211 (out of 300).\n",
      "  Applying transform(s) to timePoint/channel/dimension5 212 (out of 300).\n",
      "  Applying transform(s) to timePoint/channel/dimension5 213 (out of 300).\n",
      "  Applying transform(s) to timePoint/channel/dimension5 214 (out of 300).\n",
      "  Applying transform(s) to timePoint/channel/dimension5 215 (out of 300).\n",
      "  Applying transform(s) to timePoint/channel/dimension5 216 (out of 300).\n",
      "  Applying transform(s) to timePoint/channel/dimension5 217 (out of 300).\n",
      "  Applying transform(s) to timePoint/channel/dimension5 218 (out of 300).\n",
      "  Applying transform(s) to timePoint/channel/dimension5 219 (out of 300).\n",
      "  Applying transform(s) to timePoint/channel/dimension5 220 (out of 300).\n",
      "  Applying transform(s) to timePoint/channel/dimension5 221 (out of 300).\n",
      "  Applying transform(s) to timePoint/channel/dimension5 222 (out of 300).\n",
      "  Applying transform(s) to timePoint/channel/dimension5 223 (out of 300).\n",
      "  Applying transform(s) to timePoint/channel/dimension5 224 (out of 300).\n",
      "  Applying transform(s) to timePoint/channel/dimension5 225 (out of 300).\n",
      "  Applying transform(s) to timePoint/channel/dimension5 226 (out of 300).\n",
      "  Applying transform(s) to timePoint/channel/dimension5 227 (out of 300).\n",
      "  Applying transform(s) to timePoint/channel/dimension5 228 (out of 300).\n",
      "  Applying transform(s) to timePoint/channel/dimension5 229 (out of 300).\n",
      "  Applying transform(s) to timePoint/channel/dimension5 230 (out of 300).\n",
      "  Applying transform(s) to timePoint/channel/dimension5 231 (out of 300).\n",
      "  Applying transform(s) to timePoint/channel/dimension5 232 (out of 300).\n",
      "  Applying transform(s) to timePoint/channel/dimension5 233 (out of 300).\n",
      "  Applying transform(s) to timePoint/channel/dimension5 234 (out of 300).\n",
      "  Applying transform(s) to timePoint/channel/dimension5 235 (out of 300).\n",
      "  Applying transform(s) to timePoint/channel/dimension5 236 (out of 300).\n",
      "  Applying transform(s) to timePoint/channel/dimension5 237 (out of 300).\n",
      "  Applying transform(s) to timePoint/channel/dimension5 238 (out of 300).\n",
      "  Applying transform(s) to timePoint/channel/dimension5 239 (out of 300).\n",
      "  Applying transform(s) to timePoint/channel/dimension5 240 (out of 300).\n",
      "  Applying transform(s) to timePoint/channel/dimension5 241 (out of 300).\n",
      "  Applying transform(s) to timePoint/channel/dimension5 242 (out of 300).\n",
      "  Applying transform(s) to timePoint/channel/dimension5 243 (out of 300).\n",
      "  Applying transform(s) to timePoint/channel/dimension5 244 (out of 300).\n",
      "  Applying transform(s) to timePoint/channel/dimension5 245 (out of 300).\n",
      "  Applying transform(s) to timePoint/channel/dimension5 246 (out of 300).\n",
      "  Applying transform(s) to timePoint/channel/dimension5 247 (out of 300).\n",
      "  Applying transform(s) to timePoint/channel/dimension5 248 (out of 300).\n",
      "  Applying transform(s) to timePoint/channel/dimension5 249 (out of 300).\n",
      "  Applying transform(s) to timePoint/channel/dimension5 250 (out of 300).\n",
      "  Applying transform(s) to timePoint/channel/dimension5 251 (out of 300).\n",
      "  Applying transform(s) to timePoint/channel/dimension5 252 (out of 300).\n",
      "  Applying transform(s) to timePoint/channel/dimension5 253 (out of 300).\n",
      "  Applying transform(s) to timePoint/channel/dimension5 254 (out of 300).\n",
      "  Applying transform(s) to timePoint/channel/dimension5 255 (out of 300).\n",
      "  Applying transform(s) to timePoint/channel/dimension5 256 (out of 300).\n",
      "  Applying transform(s) to timePoint/channel/dimension5 257 (out of 300).\n",
      "  Applying transform(s) to timePoint/channel/dimension5 258 (out of 300).\n",
      "  Applying transform(s) to timePoint/channel/dimension5 259 (out of 300).\n",
      "  Applying transform(s) to timePoint/channel/dimension5 260 (out of 300).\n",
      "  Applying transform(s) to timePoint/channel/dimension5 261 (out of 300).\n",
      "  Applying transform(s) to timePoint/channel/dimension5 262 (out of 300).\n",
      "  Applying transform(s) to timePoint/channel/dimension5 263 (out of 300).\n",
      "  Applying transform(s) to timePoint/channel/dimension5 264 (out of 300).\n",
      "  Applying transform(s) to timePoint/channel/dimension5 265 (out of 300).\n",
      "  Applying transform(s) to timePoint/channel/dimension5 266 (out of 300).\n",
      "  Applying transform(s) to timePoint/channel/dimension5 267 (out of 300).\n",
      "  Applying transform(s) to timePoint/channel/dimension5 268 (out of 300).\n",
      "  Applying transform(s) to timePoint/channel/dimension5 269 (out of 300).\n"
     ]
    },
    {
     "name": "stdout",
     "output_type": "stream",
     "text": [
      "  Applying transform(s) to timePoint/channel/dimension5 270 (out of 300).\n",
      "  Applying transform(s) to timePoint/channel/dimension5 271 (out of 300).\n",
      "  Applying transform(s) to timePoint/channel/dimension5 272 (out of 300).\n",
      "  Applying transform(s) to timePoint/channel/dimension5 273 (out of 300).\n",
      "  Applying transform(s) to timePoint/channel/dimension5 274 (out of 300).\n",
      "  Applying transform(s) to timePoint/channel/dimension5 275 (out of 300).\n",
      "  Applying transform(s) to timePoint/channel/dimension5 276 (out of 300).\n",
      "  Applying transform(s) to timePoint/channel/dimension5 277 (out of 300).\n",
      "  Applying transform(s) to timePoint/channel/dimension5 278 (out of 300).\n",
      "  Applying transform(s) to timePoint/channel/dimension5 279 (out of 300).\n",
      "  Applying transform(s) to timePoint/channel/dimension5 280 (out of 300).\n",
      "  Applying transform(s) to timePoint/channel/dimension5 281 (out of 300).\n",
      "  Applying transform(s) to timePoint/channel/dimension5 282 (out of 300).\n",
      "  Applying transform(s) to timePoint/channel/dimension5 283 (out of 300).\n",
      "  Applying transform(s) to timePoint/channel/dimension5 284 (out of 300).\n",
      "  Applying transform(s) to timePoint/channel/dimension5 285 (out of 300).\n",
      "  Applying transform(s) to timePoint/channel/dimension5 286 (out of 300).\n",
      "  Applying transform(s) to timePoint/channel/dimension5 287 (out of 300).\n",
      "  Applying transform(s) to timePoint/channel/dimension5 288 (out of 300).\n",
      "  Applying transform(s) to timePoint/channel/dimension5 289 (out of 300).\n",
      "  Applying transform(s) to timePoint/channel/dimension5 290 (out of 300).\n",
      "  Applying transform(s) to timePoint/channel/dimension5 291 (out of 300).\n",
      "  Applying transform(s) to timePoint/channel/dimension5 292 (out of 300).\n",
      "  Applying transform(s) to timePoint/channel/dimension5 293 (out of 300).\n",
      "  Applying transform(s) to timePoint/channel/dimension5 294 (out of 300).\n",
      "  Applying transform(s) to timePoint/channel/dimension5 295 (out of 300).\n",
      "  Applying transform(s) to timePoint/channel/dimension5 296 (out of 300).\n",
      "  Applying transform(s) to timePoint/channel/dimension5 297 (out of 300).\n",
      "  Applying transform(s) to timePoint/channel/dimension5 298 (out of 300).\n",
      "  Applying transform(s) to timePoint/channel/dimension5 299 (out of 300).\n",
      "Output warped image: /home/localadmin/Documents/preprocessing/data/ADC/rdfMRI_denoised_unringed_sdc_b_1_reg.nii.gz\n"
     ]
    },
    {
     "data": {
      "text/plain": [
       "0"
      ]
     },
     "execution_count": 16,
     "metadata": {},
     "output_type": "execute_result"
    }
   ],
   "source": [
    "# -r : reference image\n",
    "# -i : input image\n",
    "# -e : input image time : 3 -> timeseries\n",
    "# -t : transform\n",
    "# -v : verbose\n",
    "# -o : output\n",
    "os.system(f'antsApplyTransforms -r {cur_path}/data/ADC/rdfMRI_denoised_unringed_sdc_b_0_mean.nii.gz'\n",
    "          f' -i {cur_path}/data/ADC/rdfMRI_denoised_unringed_sdc_b_1.nii.gz -e 3 '\n",
    "          f'-t {cur_path}/data/ADC/rdfMRI_denoised_unringed_sdc_b_1_mean_in_00GenericAffine.mat '\n",
    "          f'-v -o {cur_path}/data/ADC/rdfMRI_denoised_unringed_sdc_b_1_reg.nii.gz')"
   ]
  },
  {
   "cell_type": "code",
   "execution_count": 17,
   "metadata": {},
   "outputs": [],
   "source": [
    "rdfMRI_sdc_b = nib.load(f'{path_ref}/rdfMRI_denoised_unringed_sdc_b_1.nii.gz')\n",
    "affine_b = rdfMRI_sdc_b.affine\n",
    "header_b = rdfMRI_sdc_b.header\n",
    "rdfMRI_sdc_b = rdfMRI_sdc_b.get_fdata()\n",
    "\n",
    "rdfMRI_sdc_b_mean = np.mean(rdfMRI_sdc_b, axis=3)\n",
    "\n",
    "save_nifti(rdfMRI_sdc_b_mean, f'{cur_path}/data/ADC/rdfMRI_denoised_unringed_sdc_b_1_ref_mean.nii.gz',\n",
    "          affine_b, header_b)"
   ]
  },
  {
   "cell_type": "markdown",
   "metadata": {},
   "source": [
    "### 1.6 Put together b0 and b1 again"
   ]
  },
  {
   "cell_type": "code",
   "execution_count": 22,
   "metadata": {},
   "outputs": [
    {
     "name": "stdout",
     "output_type": "stream",
     "text": [
      "/home/localadmin/Documents/preprocessing/data/ADC/rdfMRI_denoised_unringed_sdc_b_0.nii.gz\n",
      "/home/localadmin/Documents/preprocessing/data/ADC/rdfMRI_denoised_unringed_sdc_b_1_reg.nii.gz\n"
     ]
    }
   ],
   "source": [
    "rdfMIR_denoised_unringed_sdc = np.zeros(header['dim'][1:5])\n",
    "add = ['', '_reg']\n",
    "for i in range(2):\n",
    "    rdfMIR_denoised_unringed_sdc_b = nib.load(f'{cur_path}/data/ADC/rdfMRI_denoised_unringed_sdc_b_{i}{add[i]}.nii.gz')\n",
    "    rdfMIR_denoised_unringed_sdc_b = rdfMIR_denoised_unringed_sdc_b.get_fdata()\n",
    "    rdfMIR_denoised_unringed_sdc[..., np.arange(i, rdfMIR_denoised_unringed_sdc.shape[3], 2)] = rdfMIR_denoised_unringed_sdc_b\n",
    "\n",
    "del rdfMIR_denoised_unringed_sdc_b\n",
    "\n",
    "save_nifti(rdfMIR_denoised_unringed_sdc, f'{cur_path}/data/ADC/rdfMRI_denoised_unringed_sdc.nii.gz', affine_b)"
   ]
  },
  {
   "cell_type": "code",
   "execution_count": 19,
   "metadata": {},
   "outputs": [
    {
     "ename": "AssertionError",
     "evalue": "The rdfMRI_denoised_unringed_sdc differs",
     "output_type": "error",
     "traceback": [
      "\u001b[0;31m---------------------------------------------------------------------------\u001b[0m",
      "\u001b[0;31mAssertionError\u001b[0m                            Traceback (most recent call last)",
      "Cell \u001b[0;32mIn [19], line 6\u001b[0m\n\u001b[1;32m      3\u001b[0m img_ref \u001b[38;5;241m=\u001b[39m nib\u001b[38;5;241m.\u001b[39mload(\u001b[38;5;124mf\u001b[39m\u001b[38;5;124m'\u001b[39m\u001b[38;5;132;01m{\u001b[39;00mpath_ref\u001b[38;5;132;01m}\u001b[39;00m\u001b[38;5;124m/rdfMRI_denoised_unringed_sdc_b_0.nii.gz\u001b[39m\u001b[38;5;124m'\u001b[39m)\n\u001b[1;32m      4\u001b[0m img_ref \u001b[38;5;241m=\u001b[39m img_ref\u001b[38;5;241m.\u001b[39mget_fdata()\n\u001b[0;32m----> 6\u001b[0m \u001b[38;5;28;01massert\u001b[39;00m np\u001b[38;5;241m.\u001b[39marray_equal(img_test, img_ref, equal_nan\u001b[38;5;241m=\u001b[39m\u001b[38;5;28;01mTrue\u001b[39;00m), \u001b[38;5;124m\"\u001b[39m\u001b[38;5;124mThe rdfMRI_denoised_unringed_sdc differs\u001b[39m\u001b[38;5;124m\"\u001b[39m\n",
      "\u001b[0;31mAssertionError\u001b[0m: The rdfMRI_denoised_unringed_sdc differs"
     ]
    }
   ],
   "source": [
    "img_test = nib.load(f'{cur_path}/data/ADC/rdfMRI_denoised_unringed_sdc_b_0.nii.gz')\n",
    "img_test = img_test.get_fdata()\n",
    "img_ref = nib.load(f'{path_ref}/rdfMRI_denoised_unringed_sdc_b_0.nii.gz')\n",
    "img_ref = img_ref.get_fdata()\n",
    "\n",
    "assert np.array_equal(img_test, img_ref, equal_nan=True), \"The rdfMRI_denoised_unringed_sdc differs\""
   ]
  },
  {
   "cell_type": "code",
   "execution_count": 24,
   "metadata": {},
   "outputs": [],
   "source": [
    "# Replace NaN values by 0\n",
    "rdfMIR_denoised_unringed_sdc = np.nan_to_num(rdfMIR_denoised_unringed_sdc)\n",
    "\n",
    "assert np.argwhere(np.isnan(rdfMIR_denoised_unringed_sdc)).size == 0, \"There are still NaN values in the array\"\n",
    "\n",
    "save_nifti(rdfMIR_denoised_unringed_sdc, f'{cur_path}/data/ADC/rdfMRI_denoised_unringed_sdc.nii.gz',\n",
    "          affine_b, header_b)\n",
    "\n",
    "del rdfMIR_denoised_unringed_sdc"
   ]
  },
  {
   "cell_type": "markdown",
   "metadata": {},
   "source": [
    "### 2. Making ADC maps"
   ]
  },
  {
   "cell_type": "code",
   "execution_count": 30,
   "metadata": {},
   "outputs": [
    {
     "name": "stderr",
     "output_type": "stream",
     "text": [
      "/tmp/ipykernel_37928/2454991866.py:21: RuntimeWarning: invalid value encountered in log\n",
      "  np.log(adc, out=adc, where=adc!=0)\n"
     ]
    }
   ],
   "source": [
    "if 'b0_1' in file : b_val_diff = 1\n",
    "elif '0pt2_1' in file : b_val_diff = 0.8\n",
    "elif '0pt29_1pt45' in file: b_val_diff = 1.155\n",
    "\n",
    "TR = header[\"pixdim\"][4]\n",
    "\n",
    "ardfMRI_denoised_unringed_sdc = nib.load(f'{cur_path}/data/ADC/rdfMRI_denoised_unringed_sdc.nii.gz')\n",
    "ardfMRI_denoised_unringed_sdc = ardfMRI_denoised_unringed_sdc.get_fdata()\n",
    "ardfMRI_denoised_unringed_sdc_b1 = ardfMRI_denoised_unringed_sdc[..., np.arange(1, ardfMRI_denoised_unringed_sdc.shape[3], 2)]\n",
    "ardfMRI_denoised_unringed_sdc_b0 = ardfMRI_denoised_unringed_sdc[..., np.arange(0, ardfMRI_denoised_unringed_sdc.shape[3], 2)]\n",
    "save_nifti(ardfMRI_denoised_unringed_sdc_b1, f'{cur_path}/data/ADC/ardfMRI_denoised_unringed_sdc_b1.nii.gz',\n",
    "          affine_b)\n",
    "save_nifti(ardfMRI_denoised_unringed_sdc_b0, f'{cur_path}/data/ADC/ardfMRI_denoised_unringed_sdc_b0.nii.gz',\n",
    "          affine_b)\n",
    "\n",
    "adc = np.zeros(ardfMRI_denoised_unringed_sdc_b1.shape)\n",
    "# Divide b1 by b0, where b0 is not 0\n",
    "np.divide(ardfMRI_denoised_unringed_sdc_b1, ardfMRI_denoised_unringed_sdc_b0, out=adc, \n",
    "          where=ardfMRI_denoised_unringed_sdc_b0!=0)\n",
    "# Take the log, where adc is not 0\n",
    "np.log(adc, out=adc, where=adc!=0)\n",
    "adc = -adc / b_val_diff"
   ]
  },
  {
   "cell_type": "code",
   "execution_count": 31,
   "metadata": {},
   "outputs": [
    {
     "data": {
      "text/plain": [
       "0"
      ]
     },
     "execution_count": 31,
     "metadata": {},
     "output_type": "execute_result"
    }
   ],
   "source": [
    "save_nifti(adc, f'{cur_path}/data/ADC/adc.nii.gz', affine_b)\n",
    "save_nifti(adc, f'{cur_path}/data/ADC/adc_incl_weird_voxels.nii.gz', affine_b)\n",
    "\n",
    "os.system(f'fslmerge -tr {cur_path}/data/ADC/adc_test.nii.gz {cur_path}/data/ADC/adc_incl_weird_voxels.nii.gz {2*TR}')"
   ]
  },
  {
   "cell_type": "code",
   "execution_count": 32,
   "metadata": {},
   "outputs": [],
   "source": [
    "# Replace NaN with 0\n",
    "adc = np.nan_to_num(adc)\n",
    "\n",
    "# Replace values below 0 and above 4 by 0  \n",
    "adc[adc<0] = 0\n",
    "adc[adc>4] = 0\n",
    "\n",
    "assert np.min(adc) >= 0, f\"The lower thresh of 0 did not work, min = {np.min(adc)}\"\n",
    "assert np.max(adc) <= 4, f\"The upper thresh of 4 did not work, min = {np.max(adc)}\"\n",
    "\n",
    "adc_header = header.copy()\n",
    "adc_header['qform_code'] = 0 #unknown\n",
    "adc_header['sform_code'] = 1 #scanner \n",
    "adc_header['quatern_b'] = 0\n",
    "adc_header['quatern_c'] = 0\n",
    "adc_header['quatern_d'] = 0\n",
    "adc_header['qoffset_x'] = 0\n",
    "adc_header['qoffset_y'] = 0\n",
    "adc_header['qoffset_z'] = 0\n",
    "adc_header['dim'][4] = int(header['dim'][4]/2)\n",
    "adc_header['pixdim'][4] = 2*header['pixdim'][4]\n",
    "adc_header['xyzt_units'] = 10\n",
    "\n",
    "save_nifti(adc, f'{cur_path}/data/ADC/adc.nii.gz', affine_b, adc_header)\n",
    "\n",
    "adc_mean = np.mean(adc, axis = 3)\n",
    "save_nifti(adc_mean, f'{cur_path}/data/ADC/adc_mean.nii.gz', affine_b)"
   ]
  },
  {
   "cell_type": "code",
   "execution_count": 7,
   "metadata": {},
   "outputs": [],
   "source": [
    "# Change the header so that ADC match ADC wictor, for comparisons\n",
    "from Helpers import load_affine\n",
    "\n",
    "adc = nib.load(f'{cur_path}/data/ADC/adc.nii.gz')\n",
    "adc = adc.get_fdata()\n",
    "\n",
    "adc_header = header.copy()\n",
    "adc_header['qform_code'] = 0 #unknown\n",
    "adc_header['sform_code'] = 1 #scanner \n",
    "adc_header['quatern_b'] = 0\n",
    "adc_header['quatern_c'] = 0\n",
    "adc_header['quatern_d'] = 0\n",
    "adc_header['qoffset_x'] = 0\n",
    "adc_header['qoffset_y'] = 0\n",
    "adc_header['qoffset_z'] = 0\n",
    "adc_header['dim'][4] = int(header['dim'][4]/2)\n",
    "adc_header['pixdim'][4] = 2*header['pixdim'][4]\n",
    "adc_header['xyzt_units'] = 10\n",
    "\n",
    "path_servor = '/home/localadmin/localdata/juradata/ijelescu/micmap/ijelescu/Dfmri_clinical/pipeline/analyses_output/BB_003_3T_cmrr_mbep2d_diff_0pt2_1_task_18s_off_12s_on_20200710180104_8/'\n",
    "affine = load_affine(path_servor + 'dfMRI_raw.nii.gz')\n",
    "save_nifti(adc, f'{cur_path}/data/ADC/adc_cmp.nii.gz', affine, adc_header)"
   ]
  },
  {
   "attachments": {},
   "cell_type": "markdown",
   "metadata": {},
   "source": [
    "### ADC with sliding window\n"
   ]
  },
  {
   "cell_type": "code",
   "execution_count": 32,
   "metadata": {},
   "outputs": [
    {
     "name": "stderr",
     "output_type": "stream",
     "text": [
      "/tmp/ipykernel_85430/4222604734.py:25: RuntimeWarning: invalid value encountered in log\n",
      "  np.log(adc, out=adc, where=adc!=0)\n"
     ]
    }
   ],
   "source": [
    "from Helpers import load_affine\n",
    "\n",
    "b_val_diff = 0.8\n",
    "TR = header[\"pixdim\"][4]\n",
    "\n",
    "ardfMRI_denoised_unringed_sdc = nib.load(f'{cur_path}/data/ADC/rdfMRI_denoised_unringed_sdc.nii.gz')\n",
    "ardfMRI_denoised_unringed_sdc = ardfMRI_denoised_unringed_sdc.get_fdata()\n",
    "\n",
    "adc = np.zeros((ardfMRI_denoised_unringed_sdc.shape[0], ardfMRI_denoised_unringed_sdc.shape[1], ardfMRI_denoised_unringed_sdc.shape[2], ardfMRI_denoised_unringed_sdc.shape[3]-1))\n",
    "\n",
    "# # Divide b1 by b0, where b0 is not 0\n",
    "# np.divide(ardfMRI_denoised_unringed_sdc_b1, ardfMRI_denoised_unringed_sdc_b0, out=adc, \n",
    "#           where=ardfMRI_denoised_unringed_sdc_b0!=0)\n",
    "\n",
    "\n",
    "for i in range(adc.shape[3]):\n",
    "    if i%2 == 0:\n",
    "        adc[...,i] = np.divide(ardfMRI_denoised_unringed_sdc[..., i+1], ardfMRI_denoised_unringed_sdc[..., i], \n",
    "                                where = ardfMRI_denoised_unringed_sdc[..., i] != 0)\n",
    "    else:\n",
    "        adc[...,i] = np.divide(ardfMRI_denoised_unringed_sdc[..., i], ardfMRI_denoised_unringed_sdc[..., i+1], \n",
    "                                where = ardfMRI_denoised_unringed_sdc[..., i+1] != 0)\n",
    "\n",
    "# Take the log, where adc is not 0\n",
    "np.log(adc, out=adc, where=adc!=0)\n",
    "adc = -adc / b_val_diff\n",
    "# Replace NaN with 0\n",
    "adc = np.nan_to_num(adc)\n",
    "\n",
    "# Replace values below 0 and above 4 by 0  \n",
    "adc[adc<0] = 0\n",
    "adc[adc>4] = 0\n",
    "\n",
    "assert np.min(adc) >= 0, f\"The lower thresh of 0 did not work, min = {np.min(adc)}\"\n",
    "assert np.max(adc) <= 4, f\"The upper thresh of 4 did not work, min = {np.max(adc)}\"\n",
    "\n",
    "adc_header = header.copy()\n",
    "adc_header['qform_code'] = 0 #unknown\n",
    "adc_header['sform_code'] = 1 #scanner \n",
    "adc_header['quatern_b'] = 0\n",
    "adc_header['quatern_c'] = 0\n",
    "adc_header['quatern_d'] = 0\n",
    "adc_header['qoffset_x'] = 0\n",
    "adc_header['qoffset_y'] = 0\n",
    "adc_header['qoffset_z'] = 0\n",
    "adc_header['dim'][4] = int(header['dim'][4]/2)\n",
    "adc_header['pixdim'][4] = 2*header['pixdim'][4]\n",
    "adc_header['xyzt_units'] = 10\n",
    "path_servor = '/home/localadmin/localdata/juradata/ijelescu/micmap/ijelescu/Dfmri_clinical/pipeline/analyses_output/BB_003_3T_cmrr_mbep2d_diff_0pt2_1_task_18s_off_12s_on_20200710180104_8/'\n",
    "affine = load_affine(path_servor + 'dfMRI_raw.nii.gz')\n",
    "\n",
    "save_nifti(adc, f'{cur_path}/data/ADC/adc_sliding_window.nii.gz', affine, adc_header)\n"
   ]
  },
  {
   "attachments": {},
   "cell_type": "markdown",
   "metadata": {},
   "source": [
    "## Autocorrelation"
   ]
  },
  {
   "cell_type": "code",
   "execution_count": 33,
   "metadata": {},
   "outputs": [
    {
     "data": {
      "image/png": "[encoded data removed]",
      "text/plain": [
       "<Figure size 640x480 with 1 Axes>"
      ]
     },
     "metadata": {},
     "output_type": "display_data"
    },
    {
     "data": {
      "image/png": "[encoded data removed]",
      "text/plain": [
       "<Figure size 640x480 with 1 Axes>"
      ]
     },
     "metadata": {},
     "output_type": "display_data"
    }
   ],
   "source": [
    "from statsmodels.graphics.tsaplots import plot_acf\n",
    "import matplotlib.pyplot as plt\n",
    "\n",
    "vx = [71, 40, 2]\n",
    "\n",
    "adc = nib.load(f'{cur_path}/data/ADC/adc.nii.gz')\n",
    "adc = adc.get_fdata()\n",
    "# Choose one voxel timeserie\n",
    "adc = adc[vx[0], vx[1], vx[2], :]\n",
    "d = {'adc': adc, 'time': np.arange(0, adc.shape[0], 1)}\n",
    "df_adc = pd.DataFrame(data=d).set_index(['time'])\n",
    "\n",
    "\n",
    "adc_sliding_window = nib.load(f'{cur_path}/data/ADC/adc_sliding_window.nii.gz')\n",
    "adc_sliding_window = adc_sliding_window.get_fdata()\n",
    "adc_sliding_window = adc_sliding_window[vx[0], vx[1], vx[2], :]\n",
    "d = {'adc': adc_sliding_window, 'time': np.arange(0, adc_sliding_window.shape[0], 1)}\n",
    "df_adc_sliding_window = pd.DataFrame(data=d).set_index(['time'])\n",
    "\n",
    "\n",
    "pd.plotting.lag_plot(df_adc, lag=1)\n",
    "plt.title(f'ADC autocorrelation, voxel={vx}, lag=1')\n",
    "plt.xlabel('adc(t)')\n",
    "plt.ylabel('adc(t+1)')\n",
    "plt.show()\n",
    "\n",
    "plt.figure()\n",
    "pd.plotting.lag_plot(df_adc_sliding_window, lag=1)\n",
    "plt.title(f'ADC sliding window autocorrelation, voxel={vx}, lag=1')\n",
    "plt.xlabel('adc(t)')\n",
    "plt.ylabel('adc(t+1)')\n",
    "plt.show()"
   ]
  }
 ],
 "metadata": {
  "kernelspec": {
   "display_name": "Python 3 (ipykernel)",
   "language": "python",
   "name": "python3"
  },
  "language_info": {
   "codemirror_mode": {
    "name": "ipython",
    "version": 3
   },
   "file_extension": ".py",
   "mimetype": "text/x-python",
   "name": "python",
   "nbconvert_exporter": "python",
   "pygments_lexer": "ipython3",
   "version": "3.10.8"
  },
  "vscode": {
   "interpreter": {
    "hash": "bfdaa94f7b0658b9770747b599dafc00575612f14394d7e0e2833d02915c3415"
   }
  }
 },
 "nbformat": 4,
 "nbformat_minor": 2
}
