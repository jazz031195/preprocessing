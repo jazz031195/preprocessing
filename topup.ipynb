{
 "cells": [
  {
   "cell_type": "code",
   "execution_count": 1,
   "metadata": {},
   "outputs": [],
   "source": [
    "import numpy as np\n",
    "import matplotlib.pyplot as plt\n",
    "import os\n",
    "import pandas as pd\n",
    "import seaborn as sns\n",
    "import nibabel as nib\n",
    "from os import listdir\n",
    "from os.path import isfile, join\n",
    "from scipy import signal\n",
    "import lib"
   ]
  },
  {
   "cell_type": "code",
   "execution_count": 2,
   "metadata": {},
   "outputs": [],
   "source": [
    "# current path\n",
    "cur_path = os.getcwd()\n",
    "# file name and path\n",
    "file = \"BB_003_3T_cmrr_mbep2d_diff_0pt2_1_task_18s_off_12s_on_20200710180104_8\"\n",
    "file_name = cur_path + \"/\" + str(file) + \"/dfMRI_raw.nii.gz\""
   ]
  },
  {
   "cell_type": "code",
   "execution_count": 3,
   "metadata": {},
   "outputs": [],
   "source": [
    "# topup exception\n",
    "# analysis_id = 26 < 36\n",
    "# => phase-encoding dimension\n",
    "PE_dim = 'AP'\n",
    "\n",
    "# current path\n",
    "cur_path = os.getcwd()\n",
    "# file name and path\n",
    "file = \"BB_003_3T_cmrr_mbep2d_diff_0pt2_1_task_18s_off_12s_on_20200710180104_8\"\n",
    "file_name = cur_path + \"/\" + str(file) + \"/dfMRI_raw.nii.gz\"\n",
    "# loading nifti object/header\n",
    "raw_data_lin = nib.load(file_name)\n",
    "header_lin  = raw_data_lin.header\n",
    "raw_data_lin = raw_data_lin.get_fdata()\n",
    "\n",
    "file = \"BB_003_3T_cmrr_mbep2d_diff_0pt2_1_task_18s_off_12s_on_20200710180104_8\"\n",
    "file_name = cur_path + \"/\" + str(file) + \"/BB_003_3T_cmrr_mbep2d_diff_0pt2_1_revPE_20200710180104_9.nii.gz\"\n",
    "# loading nifti object/header\n",
    "raw_data_revPE = nib.load(file_name)\n",
    "header_revPE  = raw_data_revPE.header\n",
    "raw_data_revPE = raw_data_revPE.get_fdata()\n",
    "\n",
    "No_slice_lin = header_lin['dim'][3]\n",
    "No_slice_revPE = header_revPE['dim'][3]"
   ]
  },
  {
   "cell_type": "code",
   "execution_count": 4,
   "metadata": {},
   "outputs": [
    {
     "data": {
      "text/plain": [
       "(14, 16)"
      ]
     },
     "execution_count": 4,
     "metadata": {},
     "output_type": "execute_result"
    }
   ],
   "source": [
    "No_slice_lin,No_slice_revPE"
   ]
  },
  {
   "cell_type": "code",
   "execution_count": 5,
   "metadata": {},
   "outputs": [],
   "source": [
    "img_linPE_b0 = nib.Nifti1Image(raw_data_lin[...,np.arange(0, raw_data_lin.shape[-1], 2)], \n",
    "                    np.eye(4), header_lin)\n",
    "nib.save(img_linPE_b0, cur_path + f'/data/topup/dfmri_linPE_b0_vols.nii.gz')  \n",
    "img_revPE = nib.Nifti1Image(raw_data_revPE, np.eye(4), header_revPE)\n",
    "nib.save(img_revPE, cur_path + f'/data/topup/dfmri_revPE_vols.nii.gz')  "
   ]
  },
  {
   "cell_type": "code",
   "execution_count": 6,
   "metadata": {},
   "outputs": [],
   "source": [
    "dfmri_linPE_b0_vols = nib.load( cur_path + f'/data/topup/dfmri_linPE_b0_vols.nii.gz')\n",
    "dfmri_linPE_b0_vols = dfmri_linPE_b0_vols.get_fdata()\n",
    "assert np.array_equal(dfmri_linPE_b0_vols, raw_data_lin[...,np.arange(0, raw_data_lin.shape[-1], 2)]), \"The linPE_b0_vols is wrong\"\n",
    "\n",
    "# Apply -Tmean on linPE\n",
    "linPE_b0_one_vol = np.mean(dfmri_linPE_b0_vols, axis=3)\n",
    "linPE_b0_one_vol_bck = linPE_b0_one_vol.copy()\n",
    "img_linPE_b0_one_vol = nib.Nifti1Image(linPE_b0_one_vol, np.eye(4))\n",
    "nib.save(img_linPE_b0_one_vol, cur_path + f'/data/topup/dfmri_linPE_b0_one_vol.nii.gz') \n",
    "\n",
    "# Apply -Tmean on revPE\n",
    "revPE_one_vol = np.mean(raw_data_revPE, axis=3)\n",
    "revPE_one_vol_bck = revPE_one_vol.copy()\n",
    "img_revPE_one_vol = nib.Nifti1Image(revPE_one_vol, np.eye(4))\n",
    "nib.save(img_revPE_one_vol, cur_path + f'/data/topup/dfmri_revPE_one_vol.nii.gz')"
   ]
  },
  {
   "attachments": {},
   "cell_type": "markdown",
   "id": "74eb9ba2",
   "metadata": {},
   "source": [
    "## Check that -Tmean is the mean according to axis 3 (time/b values)"
   ]
  },
  {
   "cell_type": "code",
   "execution_count": 7,
   "metadata": {},
   "outputs": [],
   "source": [
    "import os\n",
    "\n",
    "for PE in ['linPE_b0', 'revPE']:\n",
    "    os.system('fslmaths '\n",
    "            f'{cur_path}/data/topup/dfmri_{PE}_vols.nii.gz' \n",
    "            f' -Tmean {cur_path}/data/topup/fsl_tman_test.nii.gz')\n",
    "\n",
    "    test_fsl_tmean = nib.load(f'{cur_path}/data/topup/fsl_tman_test.nii.gz')\n",
    "    test_fsl_tmean = test_fsl_tmean.get_fdata()\n",
    "\n",
    "    test_numpy = nib.load(cur_path + f'/data/topup/dfmri_{PE}_one_vol.nii.gz')\n",
    "    test_numpy = test_numpy.get_fdata()\n",
    "    assert np.array_equal(test_fsl_tmean, test_numpy), f\"There is a difference between fslmaths -Tmean and np.mean({PE}, axis=3)\"\n",
    "\n",
    "    os.remove(f'{cur_path}/data/topup/fsl_tman_test.nii.gz') \n",
    "\n",
    "    del test_fsl_tmean, test_numpy"
   ]
  },
  {
   "cell_type": "markdown",
   "id": "7b519c1c",
   "metadata": {},
   "source": [
    "## Check that fslroi is equivalent as image cropping"
   ]
  },
  {
   "cell_type": "code",
   "execution_count": 38,
   "metadata": {},
   "outputs": [],
   "source": [
    "linPE_b0_one_vol = nib.load(cur_path + f'/data/topup/dfmri_linPE_b0_one_vol.nii.gz')\n",
    "linPE_b0_one_vol = linPE_b0_one_vol.get_fdata()\n",
    "\n",
    "revPE_one_vol = nib.load(cur_path + f'/data/topup/dfmri_revPE_one_vol.nii.gz')\n",
    "revPE_one_vol = revPE_one_vol.get_fdata()\n",
    "\n",
    "# If the number of z slice differs between linPE and revPE, \n",
    "# crop the larger image\n",
    "if No_slice_lin < No_slice_revPE :\n",
    "    start_idx = int((No_slice_revPE-No_slice_lin)/2)\n",
    "    stop_idx = (int((No_slice_revPE-No_slice_lin)/2)+No_slice_lin)\n",
    "    z_size = No_slice_lin\n",
    "    revPE_one_vol = revPE_one_vol[:,:, start_idx:stop_idx] \n",
    "elif No_slice_lin > No_slice_revPE :\n",
    "    start_idx = int((No_slice_lin-No_slice_revPE)/2)\n",
    "    stop_idx = (int((No_slice_lin-No_slice_revPE)/2)+No_slice_revPE)\n",
    "    z_size = No_slice_revPE\n",
    "    linPE_b0_one_vol = linPE_b0_one_vol[:,:, start_idx:stop_idx] \n",
    "else :\n",
    "    print(\"linPE and revPE have the same number of z slices\")\n",
    "\n",
    "img_linPE_b0_one_vol = nib.Nifti1Image(linPE_b0_one_vol, np.eye(4))\n",
    "nib.save(img_linPE_b0_one_vol, cur_path + f'/data/topup/dfmri_linPE_b0_one_vol_cropped.nii.gz') \n",
    "\n",
    "img_revPE_one_vol = nib.Nifti1Image(revPE_one_vol, np.eye(4))\n",
    "nib.save(img_revPE_one_vol, cur_path + f'/data/topup/dfmri_revPE_one_vol_cropped.nii.gz')\n"
   ]
  },
  {
   "cell_type": "code",
   "execution_count": 40,
   "metadata": {},
   "outputs": [],
   "source": [
    "if No_slice_lin < No_slice_revPE :\n",
    "    to_crop = 'revPE'\n",
    "    \n",
    "elif No_slice_lin > No_slice_revPE :\n",
    "    to_crop = 'linPE_b0'\n",
    "\n",
    "os.system('fslroi '\n",
    "          f'{cur_path}/data/topup/dfmri_{to_crop}_one_vol.nii.gz ' \n",
    "          f'{cur_path}/data/topup/dfmri_{to_crop}_fslroi.nii.gz ' \n",
    "          '0 -1 0 -1 '\n",
    "          f'{int(abs(No_slice_revPE-No_slice_lin)/2)} '\n",
    "          f'{z_size} 0 -1')\n",
    "\n",
    "test_fslroi = nib.load(f'{cur_path}/data/topup/dfmri_{to_crop}_fslroi.nii.gz')\n",
    "test_fslroi = test_fslroi.get_fdata()\n",
    "test_numpy = nib.load(f'{cur_path}/data/topup/dfmri_{to_crop}_one_vol_cropped.nii.gz')\n",
    "test_numpy = test_numpy.get_fdata()\n",
    "\n",
    "assert np.array_equal(test_fslroi, test_numpy), f\"The cropped version of {to_crop} is different from the fslroi one\"\n",
    "\n",
    "del test_fslroi, test_numpy\n"
   ]
  },
  {
   "cell_type": "code",
   "execution_count": 42,
   "metadata": {},
   "outputs": [
    {
     "data": {
      "text/plain": [
       "(116, 116, 14, 300)"
      ]
     },
     "execution_count": 42,
     "metadata": {},
     "output_type": "execute_result"
    }
   ],
   "source": [
    "dfmri_linPE_b0_vols.shape"
   ]
  },
  {
   "cell_type": "markdown",
   "metadata": {},
   "source": [
    "## Check that fslmerge -t is actually merging 2 volumes according to the time (axis 3)"
   ]
  },
  {
   "cell_type": "code",
   "execution_count": 49,
   "metadata": {},
   "outputs": [],
   "source": [
    "\n",
    "linPE_revPE = np.concatenate((linPE_b0_one_vol[...,np.newaxis], revPE_one_vol[...,np.newaxis]), axis=3)\n",
    "\n",
    "os.system('fslmerge -t '\n",
    "         f'{cur_path}/data/topup/test_fslmerge.nii.gz '\n",
    "         f'{cur_path}/data/topup/dfmri_linPE_b0_one_vol.nii.gz '\n",
    "         f'{cur_path}/data/topup/dfmri_{to_crop}_one_vol_cropped.nii.gz ')\n",
    "\n",
    "test_fslmerge = nib.load(f'{cur_path}/data/topup/test_fslmerge.nii.gz')\n",
    "test_fslmerge = test_fslmerge.get_fdata()\n",
    "assert np.array_equal(test_fslmerge, linPE_revPE), \"Fslmerge and np.concatenate lead to different linPE_revPE array\"\n",
    "\n",
    "del test_fslmerge"
   ]
  },
  {
   "attachments": {},
   "cell_type": "markdown",
   "metadata": {},
   "source": [
    "## Calculate deformation field topup with linPE_revPE volume\n",
    "\n",
    "### 1. Pad the image on z-axis"
   ]
  },
  {
   "cell_type": "code",
   "execution_count": 57,
   "metadata": {},
   "outputs": [],
   "source": [
    "def image_padding(input_img, axis_padding=2):\n",
    "    \"\"\"\n",
    "    Function that padds the image according to an axis\n",
    "    Input:\n",
    "        input_img : 4D numpy array\n",
    "        axis_padding : axis along which to do the padding. Either 0, 1 or 2\n",
    "    Output:\n",
    "        The padded volume : 4D numpy array\n",
    "    \"\"\"\n",
    "    match axis_padding:\n",
    "        case 0:\n",
    "            first_plane = input_img[0,...]\n",
    "            first_plane = first_plane[np.newaxis,...]\n",
    "            last_plane = input_img[-1,...]\n",
    "            last_plane = last_plane[np.newaxis,...]\n",
    "        case 1:\n",
    "            first_plane = input_img[:,0,:,:]\n",
    "            first_plane = first_plane[:,np.newaxis,:,:]\n",
    "            last_plane = input_img[:,-1,:,:]\n",
    "            last_plane = last_plane[:,np.newaxis,:,:]\n",
    "        case 2:\n",
    "            first_plane = input_img[:,:,0,:]\n",
    "            first_plane = first_plane[:,:,np.newaxis,:]\n",
    "            last_plane = input_img[:,:,-1,:]\n",
    "            last_plane = last_plane[:,:,np.newaxis,:]\n",
    "        case _:\n",
    "            print(\"The padding can only be performed on axis = 0, 1 or 2\")\n",
    "        \n",
    "    return np.concatenate((first_plane, input_img, last_plane), axis=axis_padding)"
   ]
  },
  {
   "cell_type": "markdown",
   "id": "7b519c1c",
   "metadata": {},
   "source": [
    "## Check that fslroi is equivalent as image cropping"
   ]
  },
  {
   "cell_type": "code",
   "execution_count": 58,
   "metadata": {},
   "outputs": [
    {
     "name": "stdout",
     "output_type": "stream",
     "text": [
      "(116, 116, 16, 2)\n"
     ]
    }
   ],
   "source": [
    "linPE_revPE_zpadded = image_padding(linPE_revPE, axis_padding=2)\n",
    "img_linPE_revPE = nib.Nifti1Image(linPE_revPE_zpadded, np.eye(4))\n",
    "nib.save(img_linPE_revPE, cur_path + f'/data/topup/dfmri_linPE_revPE_padded.nii.gz')  "
   ]
  },
  {
   "cell_type": "markdown",
   "metadata": {},
   "source": [
    "### 2. Calculate the deformation field"
   ]
  },
  {
   "cell_type": "code",
   "execution_count": 59,
   "metadata": {},
   "outputs": [
    {
     "name": "stdout",
     "output_type": "stream",
     "text": [
      "SSD = 508.61\tn = 19488\tReg = 0\tCost = 508.61\n",
      "SSD = 315.244\tn = 16082\tReg = 29.0677\tCost = 344.312\n",
      "SSD = 205.057\tn = 13962\tReg = 38.6681\tCost = 243.725\n",
      "SSD = 162.138\tn = 12298\tReg = 41.2061\tCost = 203.344\n",
      "SSD = 144.939\tn = 11890\tReg = 46.6018\tCost = 191.541\n",
      "SSD = 140.255\tn = 11436\tReg = 49.4857\tCost = 189.74\n",
      "***Going to next resolution level***\n",
      "SSD = 212.372\tn = 11436\tReg = 16.2206\tCost = 228.593\n",
      "SSD = 158.88\tn = 13183\tReg = 28.2187\tCost = 187.099\n",
      "SSD = 114.389\tn = 14575\tReg = 36.9542\tCost = 151.343\n",
      "SSD = 91.7825\tn = 14869\tReg = 43.9435\tCost = 135.726\n",
      "SSD = 80.7009\tn = 15013\tReg = 48.7508\tCost = 129.452\n",
      "SSD = 74.0995\tn = 15222\tReg = 50.829\tCost = 124.928\n",
      "***Going to next resolution level***\n",
      "SSD = 180.086\tn = 15222\tReg = 15.1061\tCost = 195.192\n",
      "SSD = 91.9409\tn = 15492\tReg = 18.8345\tCost = 110.775\n",
      "SSD = 57.9623\tn = 16011\tReg = 21.4292\tCost = 79.3915\n",
      "SSD = 50.8433\tn = 16872\tReg = 23.1303\tCost = 73.9736\n",
      "SSD = 42.1422\tn = 18035\tReg = 19.8303\tCost = 61.9725\n",
      "SSD = 37.56\tn = 19442\tReg = 17.876\tCost = 55.436\n",
      "***Going to next resolution level***\n",
      "SSD = 57.8144\tn = 19442\tReg = 5.08926\tCost = 62.9036\n",
      "SSD = 43.2657\tn = 19488\tReg = 5.54352\tCost = 48.8093\n",
      "SSD = 40.233\tn = 19488\tReg = 6.12071\tCost = 46.3537\n",
      "SSD = 39.6278\tn = 19488\tReg = 6.30809\tCost = 45.9359\n",
      "SSD = 39.4815\tn = 19488\tReg = 6.33206\tCost = 45.8135\n",
      "SSD = 39.4378\tn = 19488\tReg = 6.33624\tCost = 45.774\n",
      "***Going to next resolution level***\n",
      "SSD = 39.8119\tn = 19488\tReg = 2.70266\tCost = 42.5145\n",
      "SSD = 34.2596\tn = 19488\tReg = 2.88003\tCost = 37.1396\n",
      "SSD = 33.0612\tn = 19488\tReg = 3.20184\tCost = 36.263\n",
      "SSD = 32.8468\tn = 19488\tReg = 3.30963\tCost = 36.1565\n",
      "SSD = 32.8056\tn = 19488\tReg = 3.33421\tCost = 36.1398\n",
      "SSD = 32.7923\tn = 19488\tReg = 3.34175\tCost = 36.134\n",
      "***Going to next resolution level***\n",
      "SSD = 83.6506\tn = 184973\tReg = 12.5168\tCost = 96.1674\n",
      "SSD = 82.1803\tn = 184973\tReg = 12.3048\tCost = 94.4851\n",
      "SSD = 80.5962\tn = 184973\tReg = 12.0804\tCost = 92.6766\n",
      "SSD = 78.7908\tn = 184973\tReg = 11.8301\tCost = 90.621\n",
      "SSD = 76.5377\tn = 184973\tReg = 11.5208\tCost = 88.0585\n",
      "SSD = 74.6349\tn = 184973\tReg = 11.2686\tCost = 85.9034\n",
      "SSD = 73.2403\tn = 184973\tReg = 11.0771\tCost = 84.3174\n",
      "SSD = 70.9973\tn = 184973\tReg = 10.803\tCost = 81.8003\n",
      "SSD = 69.8425\tn = 184973\tReg = 10.6608\tCost = 80.5033\n",
      "SSD = 68.0975\tn = 184973\tReg = 10.4763\tCost = 78.5737\n",
      "SSD = 67.1709\tn = 184973\tReg = 10.3847\tCost = 77.5557\n",
      "***Going to next resolution level***\n",
      "SSD = 168.02\tn = 184973\tReg = 5.56838\tCost = 173.588\n",
      "SSD = 165.499\tn = 184973\tReg = 5.48741\tCost = 170.986\n",
      "SSD = 162.135\tn = 184973\tReg = 5.38086\tCost = 167.516\n",
      "SSD = 157.667\tn = 184973\tReg = 5.24246\tCost = 162.909\n",
      "SSD = 151.946\tn = 184973\tReg = 5.07138\tCost = 157.017\n",
      "SSD = 145.731\tn = 184973\tReg = 4.89836\tCost = 150.629\n",
      "SSD = 142.976\tn = 184973\tReg = 4.82702\tCost = 147.803\n",
      "SSD = 135.218\tn = 184973\tReg = 4.65061\tCost = 139.869\n",
      "SSD = 131.708\tn = 184973\tReg = 4.5923\tCost = 136.301\n",
      "SSD = 125.345\tn = 184973\tReg = 4.54275\tCost = 129.888\n",
      "SSD = 123.027\tn = 184973\tReg = 4.56093\tCost = 127.588\n",
      "***Going to next resolution level***\n",
      "SSD = 180.791\tn = 184973\tReg = 0.0670242\tCost = 180.858\n",
      "SSD = 180.307\tn = 184973\tReg = 0.06686\tCost = 180.374\n",
      "SSD = 179.834\tn = 184973\tReg = 0.0667173\tCost = 179.901\n",
      "SSD = 179.222\tn = 184973\tReg = 0.0665693\tCost = 179.289\n",
      "SSD = 178.23\tn = 184973\tReg = 0.0663707\tCost = 178.296\n",
      "SSD = 177.273\tn = 184973\tReg = 0.0662395\tCost = 177.34\n",
      "SSD = 175.755\tn = 184973\tReg = 0.0660808\tCost = 175.821\n",
      "SSD = 173.423\tn = 184973\tReg = 0.0660483\tCost = 173.489\n",
      "SSD = 170.948\tn = 184973\tReg = 0.0664031\tCost = 171.014\n",
      "SSD = 167.672\tn = 184973\tReg = 0.0676304\tCost = 167.74\n",
      "SSD = 165.247\tn = 184973\tReg = 0.0696653\tCost = 165.317\n",
      "SSD = 163.169\tn = 184973\tReg = 0.0728691\tCost = 163.242\n",
      "SSD = 161.983\tn = 184973\tReg = 0.0759389\tCost = 162.059\n",
      "SSD = 160.954\tn = 184973\tReg = 0.079379\tCost = 161.034\n",
      "SSD = 160.171\tn = 184973\tReg = 0.0824157\tCost = 160.253\n",
      "SSD = 159.361\tn = 184973\tReg = 0.0857356\tCost = 159.446\n",
      "SSD = 158.658\tn = 184973\tReg = 0.0886344\tCost = 158.747\n",
      "SSD = 157.872\tn = 184973\tReg = 0.0917645\tCost = 157.964\n",
      "SSD = 157.14\tn = 184973\tReg = 0.0945977\tCost = 157.234\n",
      "SSD = 156.349\tn = 184973\tReg = 0.0976098\tCost = 156.446\n",
      "SSD = 155.639\tn = 184973\tReg = 0.100326\tCost = 155.74\n",
      "***Going to next resolution level***\n",
      "SSD = 155.639\tn = 184973\tReg = 0.00200651\tCost = 155.641\n",
      "SSD = 155.501\tn = 184973\tReg = 0.00200404\tCost = 155.503\n",
      "SSD = 155.32\tn = 184973\tReg = 0.00200031\tCost = 155.322\n",
      "SSD = 154.995\tn = 184973\tReg = 0.00199314\tCost = 154.997\n",
      "SSD = 154.45\tn = 184973\tReg = 0.00198079\tCost = 154.452\n",
      "SSD = 153.92\tn = 184973\tReg = 0.00196735\tCost = 153.922\n",
      "SSD = 153.217\tn = 184973\tReg = 0.00195012\tCost = 153.219\n",
      "SSD = 152.12\tn = 184973\tReg = 0.00192026\tCost = 152.122\n",
      "SSD = 151.287\tn = 184973\tReg = 0.00189541\tCost = 151.289\n",
      "SSD = 150.28\tn = 184973\tReg = 0.00186069\tCost = 150.282\n",
      "SSD = 149.735\tn = 184973\tReg = 0.00183871\tCost = 149.737\n",
      "SSD = 149.15\tn = 184973\tReg = 0.00181223\tCost = 149.151\n",
      "SSD = 148.813\tn = 184973\tReg = 0.0017971\tCost = 148.815\n",
      "SSD = 148.457\tn = 184973\tReg = 0.00178287\tCost = 148.458\n",
      "SSD = 148.241\tn = 184973\tReg = 0.00177742\tCost = 148.243\n",
      "SSD = 148.009\tn = 184973\tReg = 0.00177493\tCost = 148.011\n",
      "SSD = 147.855\tn = 184973\tReg = 0.0017772\tCost = 147.857\n",
      "SSD = 147.664\tn = 184973\tReg = 0.00178384\tCost = 147.666\n",
      "SSD = 147.491\tn = 184973\tReg = 0.00179459\tCost = 147.493\n",
      "SSD = 147.248\tn = 184973\tReg = 0.00181447\tCost = 147.25\n",
      "SSD = 147.007\tn = 184973\tReg = 0.00184034\tCost = 147.008\n"
     ]
    },
    {
     "data": {
      "text/plain": [
       "0"
      ]
     },
     "execution_count": 59,
     "metadata": {},
     "output_type": "execute_result"
    }
   ],
   "source": [
    "os.system('topup --imain='\n",
    "          f'{cur_path}/data/topup/dfmri_linPE_revPE_padded.nii.gz '\n",
    "          f'--datain={cur_path}/acqp_{PE_dim}.txt '\n",
    "          f'--out={cur_path}/data/topup/topup_res '\n",
    "          f'--iout={cur_path}/data/topup/dfmri_linPE_revPE_tu.nii.gz '\n",
    "          f'--config={cur_path}/topup.cnf -v '\n",
    "          f'--fout={cur_path}/data/topup/fieldval.nii.gz')    "
   ]
  },
  {
   "attachments": {},
   "cell_type": "markdown",
   "metadata": {},
   "source": [
    "### 3. Pad the data on which you want to apply topup on the z-axis as well"
   ]
  },
  {
   "cell_type": "code",
   "execution_count": 63,
   "metadata": {},
   "outputs": [],
   "source": [
    "file_name = cur_path + \"/data/test_mrdegibbs.nii.gz\"\n",
    "# loading nifti object\n",
    "dfmri_degibbs = nib.load(file_name)\n",
    "dfmri_degibbs = dfmri_degibbs.get_fdata()\n",
    "\n",
    "dfmri_degibbs_zpadded = image_padding(dfmri_degibbs, axis_padding=2)\n",
    "img_degibbs = nib.Nifti1Image(dfmri_degibbs_zpadded, np.eye(4))\n",
    "nib.save(img_degibbs,  f'{cur_path}/data/topup/dfmri_degibbs_padded.nii.gz')  "
   ]
  },
  {
   "cell_type": "markdown",
   "metadata": {},
   "source": [
    "### 4. Apply topup"
   ]
  },
  {
   "cell_type": "code",
   "execution_count": 65,
   "metadata": {},
   "outputs": [
    {
     "data": {
      "text/plain": [
       "0"
      ]
     },
     "execution_count": 65,
     "metadata": {},
     "output_type": "execute_result"
    }
   ],
   "source": [
    "os.system('applytopup -i '\n",
    "          f'{cur_path}/data/topup/dfmri_degibbs_padded.nii.gz '\n",
    "          '--inindex=1 '\n",
    "          f'--datain={cur_path}/acqp_{PE_dim}.txt '\n",
    "          f'--topup={cur_path}/data/topup/topup_res '\n",
    "          f'--out={cur_path}/data/topup/dfmri_deggibs_padded_uw '\n",
    "          '--method=jac')"
   ]
  },
  {
   "cell_type": "markdown",
   "metadata": {},
   "source": [
    "### 5. Remove z-padding"
   ]
  },
  {
   "cell_type": "code",
   "execution_count": 67,
   "metadata": {},
   "outputs": [],
   "source": [
    "dfmri_deggibs_padded_uw = nib.load(f'{cur_path}/data/topup/dfmri_deggibs_padded_uw.nii.gz')\n",
    "dfmri_deggibs_padded_uw = dfmri_deggibs_padded_uw.get_fdata()\n",
    "dfmri_deggibs_sdc = dfmri_deggibs_padded_uw[:,:,1:z_size+1,:]\n",
    "\n",
    "\n",
    "dfmri_deggibs_sdc = nib.Nifti1Image(dfmri_deggibs_sdc, np.eye(4))\n",
    "nib.save(dfmri_deggibs_sdc, f'{cur_path}/data/topup/dfmri_degibbs_sdc.nii.gz')  "
   ]
  }
 ],
 "metadata": {
  "kernelspec": {
   "display_name": "MCDS_env",
   "language": "python",
   "name": "python3"
  },
  "language_info": {
   "codemirror_mode": {
    "name": "ipython",
    "version": 3
   },
   "file_extension": ".py",
   "mimetype": "text/x-python",
   "name": "python",
   "nbconvert_exporter": "python",
   "pygments_lexer": "ipython3",
   "version": "3.10.8"
  },
  "orig_nbformat": 4,
  "vscode": {
   "interpreter": {
    "hash": "bfdaa94f7b0658b9770747b599dafc00575612f14394d7e0e2833d02915c3415"
   }
  }
 },
 "nbformat": 4,
 "nbformat_minor": 2
}
