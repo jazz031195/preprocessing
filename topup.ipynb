{
 "cells": [
  {
   "cell_type": "code",
   "execution_count": 22,
   "metadata": {},
   "outputs": [],
   "source": [
    "import numpy as np\n",
    "import matplotlib.pyplot as plt\n",
    "import os\n",
    "import pandas as pd\n",
    "import seaborn as sns\n",
    "import nibabel as nib\n",
    "from os import listdir\n",
    "from os.path import isfile, join\n",
    "from Helpers import save_nifti\n",
    "\n",
    "from scipy import signal\n",
    "import lib"
   ]
  },
  {
   "cell_type": "code",
   "execution_count": 24,
   "metadata": {},
   "outputs": [],
   "source": [
    "# topup exception\n",
    "# analysis_id = 26 < 36\n",
    "# => phase-encoding dimension\n",
    "PE_dim = 'AP'\n",
    "\n",
    "# current path\n",
    "cur_path = os.getcwd()\n",
    "# file name and path\n",
    "file = \"data\"\n",
    "file_name = cur_path + \"/\" + file + \"/dfMRI_denoised_unringed.nii.gz\"\n",
    "# loading nifti object/header\n",
    "dfMRI_denoised_unringed_lin = nib.load(file_name)\n",
    "header_lin  = dfMRI_denoised_unringed_lin.header\n",
    "affine_lin = dfMRI_denoised_unringed_lin.affine\n",
    "dfMRI_denoised_unringed_lin = dfMRI_denoised_unringed_lin.get_fdata()\n",
    "\n",
    "file = \"BB_003_3T_cmrr_mbep2d_diff_0pt2_1_task_18s_off_12s_on_20200710180104_8\"\n",
    "file_name = cur_path + \"/\" + file + \"/BB_003_3T_cmrr_mbep2d_diff_0pt2_1_revPE_20200710180104_9.nii.gz\"\n",
    "# loading nifti object/header\n",
    "raw_data_revPE = nib.load(file_name)\n",
    "header_revPE  = raw_data_revPE.header\n",
    "affine_revPE = raw_data_revPE.affine\n",
    "raw_data_revPE = raw_data_revPE.get_fdata()\n",
    "\n",
    "No_slice_lin = header_lin['dim'][3]\n",
    "No_slice_revPE = header_revPE['dim'][3]"
   ]
  },
  {
   "cell_type": "code",
   "execution_count": 6,
   "metadata": {},
   "outputs": [
    {
     "data": {
      "text/plain": [
       "(14, 16)"
      ]
     },
     "execution_count": 6,
     "metadata": {},
     "output_type": "execute_result"
    }
   ],
   "source": [
    "No_slice_lin, No_slice_revPE"
   ]
  },
  {
   "cell_type": "code",
   "execution_count": 25,
   "metadata": {},
   "outputs": [],
   "source": [
    "save_nifti(dfMRI_denoised_unringed_lin[...,np.arange(0, dfMRI_denoised_unringed_lin.shape[-1], 2)],\n",
    "            f'{cur_path}/data/topup/dfmri_linPE_b0_vols.nii.gz', affine_lin, header_lin)\n",
    "\n",
    "save_nifti(raw_data_revPE, f'{cur_path}/data/topup/dfmri_revPE_vols.nii.gz', affine_revPE, header_revPE) "
   ]
  },
  {
   "cell_type": "code",
   "execution_count": 26,
   "metadata": {},
   "outputs": [],
   "source": [
    "dfmri_linPE_b0_vols = nib.load(f'{cur_path}/data/topup/dfmri_linPE_b0_vols.nii.gz')\n",
    "dfmri_linPE_b0_vols = dfmri_linPE_b0_vols.get_fdata()\n",
    "assert np.array_equal(dfmri_linPE_b0_vols, \n",
    "                      dfMRI_denoised_unringed_lin[...,np.arange(0, dfMRI_denoised_unringed_lin.shape[-1], 2)]), \"The linPE_b0_vols is wrong\"\n",
    "\n",
    "# Apply -Tmean on linPE\n",
    "linPE_b0_one_vol = np.mean(dfmri_linPE_b0_vols, axis=3)\n",
    "\n",
    "save_nifti(linPE_b0_one_vol, f'{cur_path}/data/topup/dfmri_linPE_b0_one_vol.nii.gz', affine_lin, header_lin)\n",
    "\n",
    "# Apply -Tmean on revPE\n",
    "revPE_one_vol = np.mean(raw_data_revPE, axis=3)\n",
    "save_nifti(revPE_one_vol, f'{cur_path}/data/topup/dfmri_revPE_one_vol.nii.gz', affine_revPE, header_revPE)\n"
   ]
  },
  {
   "cell_type": "markdown",
   "metadata": {},
   "source": [
    "## Check that -Tmean is the mean according to axis 3 (time/b values)\n"
   ]
  },
  {
   "cell_type": "code",
   "execution_count": 10,
   "metadata": {},
   "outputs": [
    {
     "ename": "AssertionError",
     "evalue": "There is a difference between fslmaths -Tmean and np.mean(linPE_b0, axis=3)",
     "output_type": "error",
     "traceback": [
      "\u001b[0;31m---------------------------------------------------------------------------\u001b[0m",
      "\u001b[0;31mAssertionError\u001b[0m                            Traceback (most recent call last)",
      "Cell \u001b[0;32mIn [10], line 13\u001b[0m\n\u001b[1;32m     11\u001b[0m test_numpy \u001b[38;5;241m=\u001b[39m nib\u001b[38;5;241m.\u001b[39mload(cur_path \u001b[38;5;241m+\u001b[39m \u001b[38;5;124mf\u001b[39m\u001b[38;5;124m'\u001b[39m\u001b[38;5;124m/data/topup/dfmri_\u001b[39m\u001b[38;5;132;01m{\u001b[39;00mPE\u001b[38;5;132;01m}\u001b[39;00m\u001b[38;5;124m_one_vol.nii.gz\u001b[39m\u001b[38;5;124m'\u001b[39m)\n\u001b[1;32m     12\u001b[0m test_numpy \u001b[38;5;241m=\u001b[39m test_numpy\u001b[38;5;241m.\u001b[39mget_fdata()\n\u001b[0;32m---> 13\u001b[0m \u001b[38;5;28;01massert\u001b[39;00m np\u001b[38;5;241m.\u001b[39marray_equal(test_fsl_tmean, test_numpy), \u001b[38;5;124mf\u001b[39m\u001b[38;5;124m\"\u001b[39m\u001b[38;5;124mThere is a difference between fslmaths -Tmean and np.mean(\u001b[39m\u001b[38;5;132;01m{\u001b[39;00mPE\u001b[38;5;132;01m}\u001b[39;00m\u001b[38;5;124m, axis=3)\u001b[39m\u001b[38;5;124m\"\u001b[39m\n\u001b[1;32m     15\u001b[0m os\u001b[38;5;241m.\u001b[39mremove(\u001b[38;5;124mf\u001b[39m\u001b[38;5;124m'\u001b[39m\u001b[38;5;132;01m{\u001b[39;00mcur_path\u001b[38;5;132;01m}\u001b[39;00m\u001b[38;5;124m/data/topup/fsl_tman_test.nii.gz\u001b[39m\u001b[38;5;124m'\u001b[39m) \n\u001b[1;32m     17\u001b[0m \u001b[38;5;28;01mdel\u001b[39;00m test_fsl_tmean, test_numpy\n",
      "\u001b[0;31mAssertionError\u001b[0m: There is a difference between fslmaths -Tmean and np.mean(linPE_b0, axis=3)"
     ]
    }
   ],
   "source": [
    "import os\n",
    "\n",
    "for PE in ['linPE_b0', 'revPE']:\n",
    "    os.system('fslmaths '\n",
    "            f'{cur_path}/data/topup/dfmri_{PE}_vols.nii.gz' \n",
    "            f' -Tmean {cur_path}/data/topup/fsl_tman_test.nii.gz')\n",
    "\n",
    "    test_fsl_tmean = nib.load(f'{cur_path}/data/topup/fsl_tman_test.nii.gz')\n",
    "    test_fsl_tmean = test_fsl_tmean.get_fdata()\n",
    "\n",
    "    test_numpy = nib.load(cur_path + f'/data/topup/dfmri_{PE}_one_vol.nii.gz')\n",
    "    test_numpy = test_numpy.get_fdata()\n",
    "    assert np.array_equal(test_fsl_tmean, test_numpy), f\"There is a difference between fslmaths -Tmean and np.mean({PE}, axis=3)\"\n",
    "\n",
    "    os.remove(f'{cur_path}/data/topup/fsl_tman_test.nii.gz') \n",
    "\n",
    "    del test_fsl_tmean, test_numpy"
   ]
  },
  {
   "cell_type": "markdown",
   "id": "7b519c1c",
   "metadata": {},
   "source": [
    "## Check that fslroi is equivalent as image cropping"
   ]
  },
  {
   "cell_type": "code",
   "execution_count": 32,
   "metadata": {},
   "outputs": [],
   "source": [
    "linPE_b0_one_vol = nib.load(f'{cur_path}/data/topup/dfmri_linPE_b0_one_vol.nii.gz')\n",
    "linPE_b0_one_vol = linPE_b0_one_vol.get_fdata()\n",
    "\n",
    "revPE_one_vol = nib.load(f'{cur_path}/data/topup/dfmri_revPE_one_vol.nii.gz')\n",
    "revPE_one_vol = revPE_one_vol.get_fdata()\n",
    "\n",
    "# If the number of z slice differs between linPE and revPE, \n",
    "# crop the larger image\n",
    "if No_slice_lin < No_slice_revPE :\n",
    "    start_idx = int((No_slice_revPE-No_slice_lin)/2)\n",
    "    stop_idx = (int((No_slice_revPE-No_slice_lin)/2)+No_slice_lin)\n",
    "    z_size = No_slice_lin\n",
    "    revPE_one_vol = revPE_one_vol[:,:, start_idx:stop_idx] \n",
    "elif No_slice_lin > No_slice_revPE :\n",
    "    start_idx = int((No_slice_lin-No_slice_revPE)/2)\n",
    "    stop_idx = (int((No_slice_lin-No_slice_revPE)/2)+No_slice_revPE)\n",
    "    z_size = No_slice_revPE\n",
    "    linPE_b0_one_vol = linPE_b0_one_vol[:,:, start_idx:stop_idx] \n",
    "else :\n",
    "    print(\"linPE and revPE have the same number of z slices\")\n",
    "\n",
    "save_nifti(linPE_b0_one_vol, f'{cur_path}/data/topup/dfmri_linPE_b0_one_vol_cropped.nii.gz', \n",
    "          affine_lin, header_lin)\n",
    "\n",
    "save_nifti(revPE_one_vol, f'{cur_path}/data/topup/dfmri_revPE_one_vol_cropped.nii.gz', \n",
    "          affine_revPE, header_revPE)"
   ]
  },
  {
   "cell_type": "code",
   "execution_count": 33,
   "metadata": {},
   "outputs": [],
   "source": [
    "if No_slice_lin < No_slice_revPE :\n",
    "    to_crop = 'revPE'\n",
    "    \n",
    "elif No_slice_lin > No_slice_revPE :\n",
    "    to_crop = 'linPE_b0'\n",
    "\n",
    "os.system('fslroi '\n",
    "          f'{cur_path}/data/topup/dfmri_{to_crop}_one_vol.nii.gz ' \n",
    "          f'{cur_path}/data/topup/dfmri_{to_crop}_fslroi.nii.gz ' \n",
    "          '0 -1 0 -1 '\n",
    "          f'{int(abs(No_slice_revPE-No_slice_lin)/2)} '\n",
    "          f'{z_size} 0 -1')\n",
    "\n",
    "test_fslroi = nib.load(f'{cur_path}/data/topup/dfmri_{to_crop}_fslroi.nii.gz')\n",
    "test_fslroi = test_fslroi.get_fdata()\n",
    "test_numpy = nib.load(f'{cur_path}/data/topup/dfmri_{to_crop}_one_vol_cropped.nii.gz')\n",
    "test_numpy = test_numpy.get_fdata()\n",
    "\n",
    "assert np.array_equal(test_fslroi, test_numpy), f\"The cropped version of {to_crop} is different from the fslroi one\"\n",
    "\n",
    "del test_fslroi, test_numpy\n"
   ]
  },
  {
   "cell_type": "code",
   "execution_count": 29,
   "metadata": {},
   "outputs": [
    {
     "data": {
      "text/plain": [
       "(116, 116, 14, 300)"
      ]
     },
     "execution_count": 29,
     "metadata": {},
     "output_type": "execute_result"
    }
   ],
   "source": [
    "dfmri_linPE_b0_vols.shape"
   ]
  },
  {
   "cell_type": "markdown",
   "metadata": {},
   "source": [
    "## Check that fslmerge -t is actually merging 2 volumes according to the time (axis 3)"
   ]
  },
  {
   "cell_type": "code",
   "execution_count": 35,
   "metadata": {},
   "outputs": [
    {
     "ename": "AssertionError",
     "evalue": "Fslmerge and np.concatenate lead to different linPE_revPE array",
     "output_type": "error",
     "traceback": [
      "\u001b[0;31m---------------------------------------------------------------------------\u001b[0m",
      "\u001b[0;31mAssertionError\u001b[0m                            Traceback (most recent call last)",
      "Cell \u001b[0;32mIn [35], line 11\u001b[0m\n\u001b[1;32m      9\u001b[0m test_fslmerge \u001b[38;5;241m=\u001b[39m nib\u001b[38;5;241m.\u001b[39mload(\u001b[38;5;124mf\u001b[39m\u001b[38;5;124m'\u001b[39m\u001b[38;5;132;01m{\u001b[39;00mcur_path\u001b[38;5;132;01m}\u001b[39;00m\u001b[38;5;124m/data/topup/test_fslmerge.nii.gz\u001b[39m\u001b[38;5;124m'\u001b[39m)\n\u001b[1;32m     10\u001b[0m test_fslmerge \u001b[38;5;241m=\u001b[39m test_fslmerge\u001b[38;5;241m.\u001b[39mget_fdata()\n\u001b[0;32m---> 11\u001b[0m \u001b[38;5;28;01massert\u001b[39;00m np\u001b[38;5;241m.\u001b[39marray_equal(test_fslmerge, linPE_revPE), \u001b[38;5;124m\"\u001b[39m\u001b[38;5;124mFslmerge and np.concatenate lead to different linPE_revPE array\u001b[39m\u001b[38;5;124m\"\u001b[39m\n\u001b[1;32m     13\u001b[0m \u001b[38;5;28;01mdel\u001b[39;00m test_fslmerge\n",
      "\u001b[0;31mAssertionError\u001b[0m: Fslmerge and np.concatenate lead to different linPE_revPE array"
     ]
    }
   ],
   "source": [
    "linPE_revPE = np.concatenate((linPE_b0_one_vol[...,np.newaxis], revPE_one_vol[...,np.newaxis]), axis=3)\n",
    "save_nifti(linPE_revPE, f'{cur_path}/data/topup/linPE_revPE.nii.gz', affine_lin)\n",
    "\n",
    "os.system('fslmerge -t '\n",
    "         f'{cur_path}/data/topup/test_fslmerge.nii.gz '\n",
    "         f'{cur_path}/data/topup/dfmri_linPE_b0_one_vol.nii.gz '\n",
    "         f'{cur_path}/data/topup/dfmri_{to_crop}_one_vol_cropped.nii.gz ')\n",
    "\n",
    "test_fslmerge = nib.load(f'{cur_path}/data/topup/test_fslmerge.nii.gz')\n",
    "test_fslmerge = test_fslmerge.get_fdata()\n",
    "assert np.array_equal(test_fslmerge, linPE_revPE), \"Fslmerge and np.concatenate lead to different linPE_revPE array\"\n",
    "\n",
    "del test_fslmerge"
   ]
  },
  {
   "cell_type": "markdown",
   "metadata": {},
   "source": [
    "## Calculate deformation field topup with linPE_revPE volume\n",
    "\n",
    "### 1. Pad the image on z-axis"
   ]
  },
  {
   "cell_type": "code",
   "execution_count": 36,
   "metadata": {},
   "outputs": [],
   "source": [
    "def image_padding(input_img: np.ndarray, axis_padding: int=2) -> np.ndarray:\n",
    "    \"\"\"\n",
    "    Function that padds the image according to an axis\n",
    "    Args:\n",
    "        input_img (np.ndarray)\n",
    "        axis_padding (int): axis along which to do the padding. Either 0, 1 or 2\n",
    "    Returns:\n",
    "        The padded volume (np.ndarray)\n",
    "    \"\"\"\n",
    "    match axis_padding:\n",
    "        case 0:\n",
    "            first_plane = input_img[0,...]\n",
    "            first_plane = first_plane[np.newaxis,...]\n",
    "            last_plane = input_img[-1,...]\n",
    "            last_plane = last_plane[np.newaxis,...]\n",
    "        case 1:\n",
    "            first_plane = input_img[:,0,:,:]\n",
    "            first_plane = first_plane[:,np.newaxis,:,:]\n",
    "            last_plane = input_img[:,-1,:,:]\n",
    "            last_plane = last_plane[:,np.newaxis,:,:]\n",
    "        case 2:\n",
    "            first_plane = input_img[:,:,0,:]\n",
    "            first_plane = first_plane[:,:,np.newaxis,:]\n",
    "            last_plane = input_img[:,:,-1,:]\n",
    "            last_plane = last_plane[:,:,np.newaxis,:]\n",
    "        case _:\n",
    "            print(\"The padding can only be performed on axis = 0, 1 or 2\")\n",
    "        \n",
    "    return np.concatenate((first_plane, input_img, last_plane), axis=axis_padding)"
   ]
  },
  {
   "cell_type": "markdown",
   "metadata": {},
   "source": [
    "## Check that fslroi is equivalent as image cropping"
   ]
  },
  {
   "cell_type": "code",
   "execution_count": 37,
   "metadata": {},
   "outputs": [],
   "source": [
    "linPE_revPE_zpadded = image_padding(linPE_revPE, axis_padding=2)\n",
    "\n",
    "save_nifti(linPE_revPE_zpadded, f'{cur_path}/data/topup/dfmri_linPE_revPE_padded.nii.gz', affine_lin)"
   ]
  },
  {
   "cell_type": "markdown",
   "metadata": {},
   "source": [
    "### 2. Calculate the deformation field"
   ]
  },
  {
   "cell_type": "code",
   "execution_count": 38,
   "metadata": {
    "scrolled": true
   },
   "outputs": [
    {
     "name": "stdout",
     "output_type": "stream",
     "text": [
      "SSD = 918.989\tn = 19488\tReg = 0\tCost = 918.989\n",
      "SSD = 316.81\tn = 18053\tReg = 33.7919\tCost = 350.602\n",
      "SSD = 145.555\tn = 18625\tReg = 50.3623\tCost = 195.917\n",
      "SSD = 78.0492\tn = 19488\tReg = 46.9801\tCost = 125.029\n",
      "SSD = 54.5178\tn = 19488\tReg = 44.1318\tCost = 98.6496\n",
      "SSD = 45.504\tn = 19488\tReg = 42.8688\tCost = 88.3728\n",
      "***Going to next resolution level***\n",
      "SSD = 84.254\tn = 19488\tReg = 21.2105\tCost = 105.464\n",
      "SSD = 47.2753\tn = 19488\tReg = 16.5186\tCost = 63.7938\n",
      "SSD = 38.5657\tn = 19488\tReg = 17.5082\tCost = 56.0739\n",
      "SSD = 36.7188\tn = 19488\tReg = 18.1272\tCost = 54.846\n",
      "SSD = 36.2498\tn = 19488\tReg = 18.3231\tCost = 54.5729\n",
      "SSD = 36.1029\tn = 19488\tReg = 18.3891\tCost = 54.4919\n",
      "***Going to next resolution level***\n",
      "SSD = 83.715\tn = 19488\tReg = 4.28162\tCost = 87.9967\n",
      "SSD = 67.4039\tn = 19488\tReg = 5.85578\tCost = 73.2596\n",
      "SSD = 64.4675\tn = 19488\tReg = 6.898\tCost = 71.3655\n",
      "SSD = 63.7489\tn = 19488\tReg = 7.27576\tCost = 71.0247\n",
      "SSD = 63.5059\tn = 19488\tReg = 7.43057\tCost = 70.9365\n",
      "SSD = 63.383\tn = 19488\tReg = 7.51468\tCost = 70.8977\n",
      "***Going to next resolution level***\n",
      "SSD = 92.4927\tn = 19488\tReg = 2.73877\tCost = 95.2315\n",
      "SSD = 75.4848\tn = 19488\tReg = 3.19186\tCost = 78.6766\n",
      "SSD = 71.2895\tn = 19488\tReg = 3.8809\tCost = 75.1704\n",
      "SSD = 70.4093\tn = 19488\tReg = 4.2107\tCost = 74.62\n",
      "SSD = 70.1764\tn = 19488\tReg = 4.30693\tCost = 74.4833\n",
      "SSD = 70.0623\tn = 19488\tReg = 4.34284\tCost = 74.4052\n",
      "***Going to next resolution level***\n",
      "SSD = 70.1383\tn = 19488\tReg = 1.42683\tCost = 71.5651\n",
      "SSD = 68.8763\tn = 19488\tReg = 1.95605\tCost = 70.8323\n",
      "SSD = 68.2384\tn = 19488\tReg = 2.32239\tCost = 70.5608\n",
      "SSD = 67.976\tn = 19488\tReg = 2.47091\tCost = 70.4469\n",
      "SSD = 67.8557\tn = 19488\tReg = 2.52891\tCost = 70.3846\n",
      "SSD = 67.783\tn = 19488\tReg = 2.56614\tCost = 70.3492\n",
      "***Going to next resolution level***\n",
      "SSD = 140.133\tn = 182563\tReg = 9.25551\tCost = 149.388\n",
      "SSD = 135.983\tn = 182563\tReg = 8.98099\tCost = 144.964\n",
      "SSD = 129.985\tn = 182563\tReg = 8.58507\tCost = 138.57\n",
      "SSD = 122.535\tn = 182563\tReg = 8.09537\tCost = 130.631\n",
      "SSD = 114.297\tn = 182563\tReg = 7.55751\tCost = 121.855\n",
      "SSD = 105.713\tn = 182563\tReg = 7.00152\tCost = 112.715\n",
      "SSD = 98.6704\tn = 182563\tReg = 6.55004\tCost = 105.22\n",
      "SSD = 95.1981\tn = 182563\tReg = 6.32984\tCost = 101.528\n",
      "SSD = 87.7856\tn = 182563\tReg = 5.87982\tCost = 93.6654\n",
      "SSD = 84.7395\tn = 182563\tReg = 5.70395\tCost = 90.4435\n",
      "SSD = 80.8325\tn = 182563\tReg = 5.49726\tCost = 86.3298\n",
      "***Going to next resolution level***\n",
      "SSD = 127.062\tn = 182563\tReg = 3.10692\tCost = 130.169\n",
      "SSD = 125.279\tn = 182563\tReg = 3.06333\tCost = 128.342\n",
      "SSD = 122.492\tn = 182563\tReg = 2.99529\tCost = 125.488\n",
      "SSD = 118.614\tn = 182563\tReg = 2.90079\tCost = 121.514\n",
      "SSD = 113.656\tn = 182563\tReg = 2.78053\tCost = 116.437\n",
      "SSD = 107.687\tn = 182563\tReg = 2.6368\tCost = 110.323\n",
      "SSD = 100.976\tn = 182563\tReg = 2.47732\tCost = 103.453\n",
      "SSD = 98.0828\tn = 182563\tReg = 2.41009\tCost = 100.493\n",
      "SSD = 91.9276\tn = 182563\tReg = 2.26893\tCost = 94.1965\n",
      "SSD = 88.1254\tn = 182563\tReg = 2.18546\tCost = 90.3109\n",
      "SSD = 83.8413\tn = 182563\tReg = 2.09884\tCost = 85.9401\n",
      "***Going to next resolution level***\n",
      "SSD = 83.9384\tn = 182563\tReg = 0.0210127\tCost = 83.9594\n",
      "SSD = 83.7069\tn = 182563\tReg = 0.0209552\tCost = 83.7279\n",
      "SSD = 83.4166\tn = 182563\tReg = 0.0208832\tCost = 83.4375\n",
      "SSD = 83.0869\tn = 182563\tReg = 0.0208021\tCost = 83.1077\n",
      "SSD = 82.5904\tn = 182563\tReg = 0.0206812\tCost = 82.6111\n",
      "SSD = 81.761\tn = 182563\tReg = 0.0204821\tCost = 81.7815\n",
      "SSD = 80.884\tn = 182563\tReg = 0.0202792\tCost = 80.9043\n",
      "SSD = 79.8946\tn = 182563\tReg = 0.0200542\tCost = 79.9146\n",
      "SSD = 78.0485\tn = 182563\tReg = 0.0196548\tCost = 78.0682\n",
      "SSD = 76.2477\tn = 182563\tReg = 0.0192915\tCost = 76.2669\n",
      "SSD = 73.1506\tn = 182563\tReg = 0.0187399\tCost = 73.1694\n",
      "SSD = 70.9484\tn = 182563\tReg = 0.0184398\tCost = 70.9669\n",
      "SSD = 68.4909\tn = 182563\tReg = 0.0182556\tCost = 68.5091\n",
      "SSD = 67.3579\tn = 182563\tReg = 0.0182791\tCost = 67.3762\n",
      "SSD = 66.3761\tn = 182563\tReg = 0.0184254\tCost = 66.3945\n",
      "SSD = 65.8748\tn = 182563\tReg = 0.0185405\tCost = 65.8934\n",
      "SSD = 65.3087\tn = 182563\tReg = 0.0186898\tCost = 65.3274\n",
      "SSD = 64.9048\tn = 182563\tReg = 0.0188006\tCost = 64.9236\n",
      "SSD = 64.3624\tn = 182563\tReg = 0.0189449\tCost = 64.3813\n",
      "SSD = 63.8405\tn = 182563\tReg = 0.0190832\tCost = 63.8596\n",
      "SSD = 63.2111\tn = 182563\tReg = 0.019246\tCost = 63.2304\n",
      "***Going to next resolution level***\n",
      "SSD = 63.2111\tn = 182563\tReg = 0.00038492\tCost = 63.2115\n",
      "SSD = 63.1389\tn = 182563\tReg = 0.000384446\tCost = 63.1393\n",
      "SSD = 63.0387\tn = 182563\tReg = 0.000383774\tCost = 63.0391\n",
      "SSD = 62.9018\tn = 182563\tReg = 0.000382822\tCost = 62.9022\n",
      "SSD = 62.6616\tn = 182563\tReg = 0.000381103\tCost = 62.662\n",
      "SSD = 62.2628\tn = 182563\tReg = 0.000378215\tCost = 62.2632\n",
      "SSD = 61.8249\tn = 182563\tReg = 0.000374933\tCost = 61.8252\n",
      "SSD = 61.4299\tn = 182563\tReg = 0.000371958\tCost = 61.4302\n",
      "SSD = 60.663\tn = 182563\tReg = 0.000366012\tCost = 60.6633\n",
      "SSD = 60.1689\tn = 182563\tReg = 0.000362042\tCost = 60.1692\n",
      "SSD = 59.3922\tn = 182563\tReg = 0.000355517\tCost = 59.3925\n",
      "SSD = 58.9276\tn = 182563\tReg = 0.000351482\tCost = 58.9279\n",
      "SSD = 58.3009\tn = 182563\tReg = 0.000345933\tCost = 58.3012\n",
      "SSD = 58.0095\tn = 182563\tReg = 0.000343471\tCost = 58.0098\n",
      "SSD = 57.6969\tn = 182563\tReg = 0.000341069\tCost = 57.6972\n",
      "SSD = 57.5581\tn = 182563\tReg = 0.000340196\tCost = 57.5584\n",
      "SSD = 57.4106\tn = 182563\tReg = 0.000339621\tCost = 57.4109\n",
      "SSD = 57.3074\tn = 182563\tReg = 0.000339436\tCost = 57.3077\n",
      "SSD = 57.1991\tn = 182563\tReg = 0.000339599\tCost = 57.1994\n",
      "SSD = 57.0647\tn = 182563\tReg = 0.000340028\tCost = 57.065\n",
      "SSD = 56.9376\tn = 182563\tReg = 0.000340675\tCost = 56.938\n"
     ]
    },
    {
     "data": {
      "text/plain": [
       "0"
      ]
     },
     "execution_count": 38,
     "metadata": {},
     "output_type": "execute_result"
    }
   ],
   "source": [
    "os.system('topup --imain='\n",
    "          f'{cur_path}/data/topup/dfmri_linPE_revPE_padded.nii.gz '\n",
    "          f'--datain={cur_path}/acqp_{PE_dim}.txt '\n",
    "          f'--out={cur_path}/data/topup/topup_res '\n",
    "          f'--iout={cur_path}/data/topup/dfmri_linPE_revPE_tu.nii.gz '\n",
    "          f'--config={cur_path}/topup.cnf -v '\n",
    "          f'--fout={cur_path}/data/topup/fieldval.nii.gz')    "
   ]
  },
  {
   "cell_type": "markdown",
   "metadata": {},
   "source": [
    "### 3. Pad the data on which you want to apply topup on the z-axis as well"
   ]
  },
  {
   "cell_type": "code",
   "execution_count": 39,
   "metadata": {},
   "outputs": [],
   "source": [
    "file_name = f\"{cur_path}/data/dfMRI_denoised_unringed.nii.gz\"\n",
    "# loading nifti object\n",
    "dfmri_degibbs = nib.load(file_name)\n",
    "dfmri_degibbs = dfmri_degibbs.get_fdata()\n",
    "\n",
    "dfmri_degibbs_zpadded = image_padding(dfmri_degibbs, axis_padding=2)\n",
    "\n",
    "save_nifti(dfmri_degibbs_zpadded, f'{cur_path}/data/topup/dfmri_degibbs_padded.nii.gz', affine_lin, header_lin)"
   ]
  },
  {
   "cell_type": "markdown",
   "metadata": {},
   "source": [
    "### 4. Apply topup"
   ]
  },
  {
   "cell_type": "code",
   "execution_count": 40,
   "metadata": {},
   "outputs": [
    {
     "data": {
      "text/plain": [
       "0"
      ]
     },
     "execution_count": 40,
     "metadata": {},
     "output_type": "execute_result"
    }
   ],
   "source": [
    "os.system('applytopup -i '\n",
    "          f'{cur_path}/data/topup/dfmri_degibbs_padded.nii.gz '\n",
    "          '--inindex=1 '\n",
    "          f'--datain={cur_path}/acqp_{PE_dim}.txt '\n",
    "          f'--topup={cur_path}/data/topup/topup_res '\n",
    "          f'--out={cur_path}/data/topup/dfmri_deggibs_padded_uw '\n",
    "          '--method=jac')"
   ]
  },
  {
   "cell_type": "markdown",
   "metadata": {},
   "source": [
    "### 5. Remove z-padding"
   ]
  },
  {
   "cell_type": "code",
   "execution_count": 41,
   "metadata": {},
   "outputs": [],
   "source": [
    "dfmri_deggibs_padded_uw = nib.load(f'{cur_path}/data/topup/dfmri_deggibs_padded_uw.nii.gz')\n",
    "dfmri_deggibs_padded_uw = dfmri_deggibs_padded_uw.get_fdata()\n",
    "dfmri_deggibs_sdc = dfmri_deggibs_padded_uw[:,:,1:z_size+1,:]\n",
    "\n",
    "save_nifti(dfmri_deggibs_sdc, f'{cur_path}/data/topup/dfmri_degibbs_sdc.nii.gz', affine_lin, header_lin)"
   ]
  }
 ],
 "metadata": {
  "kernelspec": {
   "display_name": "Python 3 (ipykernel)",
   "language": "python",
   "name": "python3"
  },
  "language_info": {
   "codemirror_mode": {
    "name": "ipython",
    "version": 3
   },
   "file_extension": ".py",
   "mimetype": "text/x-python",
   "name": "python",
   "nbconvert_exporter": "python",
   "pygments_lexer": "ipython3",
   "version": "3.10.8"
  },
  "vscode": {
   "interpreter": {
    "hash": "bfdaa94f7b0658b9770747b599dafc00575612f14394d7e0e2833d02915c3415"
   }
  }
 },
 "nbformat": 4,
 "nbformat_minor": 2
}
